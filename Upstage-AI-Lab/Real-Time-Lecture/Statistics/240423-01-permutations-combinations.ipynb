{
 "cells": [
  {
   "cell_type": "code",
   "execution_count": 2,
   "metadata": {},
   "outputs": [
    {
     "name": "stdout",
     "output_type": "stream",
     "text": [
      "[(1, 2), (1, 3), (1, 4), (2, 1), (2, 3), (2, 4), (3, 1), (3, 2), (3, 4), (4, 1), (4, 2), (4, 3)]\n",
      "12\n"
     ]
    }
   ],
   "source": [
    "## 순열의 수 구하기 실습\n",
    "\n",
    "# 라이브러리\n",
    "import itertools\n",
    "\n",
    "cards = [1, 2, 3, 4]\n",
    "\n",
    "# itertools.permutations(lists, 2): 리스트의 len()만큼의 중에서 nP2를 계산하는 것이다.\n",
    "myPick = list(itertools.permutations(cards, 2))\n",
    "\n",
    "print(myPick)\n",
    "print(len(myPick))"
   ]
  },
  {
   "cell_type": "code",
   "execution_count": 3,
   "metadata": {},
   "outputs": [
    {
     "name": "stdout",
     "output_type": "stream",
     "text": [
      "[(1, 2), (1, 3), (1, 4), (2, 3), (2, 4), (3, 4)]\n",
      "6\n"
     ]
    }
   ],
   "source": [
    "## 조합의 수 구하기 실습\n",
    "# 조합: 선택의 순서를 고려하지 않음. > 나열 X\n",
    "# 순열: 선택 후 순서 - 나열에 대해 고려함\n",
    "\n",
    "# itertools.combinations(lists, 2): 리스트의 len()만큼의 중에서 nC2를 계산하는 것이다.\n",
    "myPick = list(itertools.combinations(cards, 2))\n",
    "\n",
    "print(myPick)\n",
    "print(len(myPick))"
   ]
  }
 ],
 "metadata": {
  "kernelspec": {
   "display_name": "base",
   "language": "python",
   "name": "python3"
  },
  "language_info": {
   "codemirror_mode": {
    "name": "ipython",
    "version": 3
   },
   "file_extension": ".py",
   "mimetype": "text/x-python",
   "name": "python",
   "nbconvert_exporter": "python",
   "pygments_lexer": "ipython3",
   "version": "3.11.7"
  }
 },
 "nbformat": 4,
 "nbformat_minor": 2
}
