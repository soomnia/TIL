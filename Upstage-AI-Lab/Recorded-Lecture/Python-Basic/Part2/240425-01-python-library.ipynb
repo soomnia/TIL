{
 "cells": [
  {
   "cell_type": "markdown",
   "metadata": {},
   "source": [
    "# 파이썬 라이브러리 활용\n",
    "> 파이썬 라이브러리 개념"
   ]
  },
  {
   "cell_type": "markdown",
   "metadata": {},
   "source": [
    "## [Numpy](https://numpy.org/)\n",
    "Numerical Python - 수치 계산 라이브러리<br>\n",
    "선형대수 연산에 필요한 다차원 배열, 배열 연산을 수행하는 다양한 함수 제공\n",
    "```bash\n",
    "pip install numpy\n",
    "```\n",
    "```python\n",
    "import numpy  as np\n",
    "```\n"
   ]
  },
  {
   "cell_type": "markdown",
   "metadata": {},
   "source": [
    "## [Pandas](https://pandas.pydata.org/)\n",
    "행과 열로 이루어진 2차원 데이터를 효율적으로 가공할 수 있는 기능을 제공하는 데이터 분석 라이브러리\n",
    "\n",
    "```bash\n",
    "pip install pandas\n",
    "```\n",
    "\n",
    "```python\n",
    "import pandas as pd\n",
    "```"
   ]
  },
  {
   "cell_type": "markdown",
   "metadata": {},
   "source": [
    "## [Matplotlib](https://matplotlib.org/)\n",
    "데이터를 차트 | 플롯으로 시각화하는 라이브러리\n",
    "\n",
    "```bash\n",
    "pip install matplotlib\n",
    "```\n",
    "\n",
    "```python\n",
    "import matplotlib.pyplot as plt\n",
    "```"
   ]
  },
  {
   "cell_type": "markdown",
   "metadata": {},
   "source": [
    "## [Seaborn](https://seaborn.pydata.org/)\n",
    "통계 기반 그래픽을 그리는 matplotlib 기반의 시각화 라이브러리\n",
    "\n",
    "```bash\n",
    "pip install seaborn\n",
    "```\n",
    "```python\n",
    "import seaborn as sns\n",
    "```\n"
   ]
  },
  {
   "cell_type": "markdown",
   "metadata": {},
   "source": [
    "## [BeatifulSoup](https://www.crummy.com/software/BeautifulSoup/bs4/doc/)\n",
    "HTML, XML에서 데이터를 쉽게 처리하기 위한 라이브러리\n",
    "\n",
    "```bash\n",
    "pip install beautifulsoup4\n",
    "```\n",
    "```python\n",
    "from bs4 import BeautifulSoup\n",
    "```"
   ]
  },
  {
   "cell_type": "markdown",
   "metadata": {},
   "source": [
    "## [Scikit Learn](https://scikit-learn.org/stable/index.html)\n",
    "* 머신러닝을 위한 가장 쉽고 효율적인 라이브러리\n",
    "* 다양한 알고리즘과 개발을 위한 프레임워크, API 제공\n",
    "* 회귀 모델, 분류 모델, 데이터 전처리, 성능 측정 등 머신러닝에 필요한 도구를 두루 갖춤\n",
    "\n",
    "```bash\n",
    "pip install scikit-learn\n",
    "```\n",
    "```python\n",
    "import scikit-learn\n",
    "```"
   ]
  }
 ],
 "metadata": {
  "language_info": {
   "name": "python"
  }
 },
 "nbformat": 4,
 "nbformat_minor": 2
}
