{
 "cells": [
  {
   "cell_type": "markdown",
   "metadata": {},
   "source": [
    "# 파이썬 기본기 다지기\n",
    "> 변수와 자료형"
   ]
  },
  {
   "cell_type": "markdown",
   "metadata": {},
   "source": [
    "## 순서 자료형\n",
    "* 숫자: 정수, log형 정수, 실수, 복소수 등\n",
    "* 문자열\n",
    "* 리스트: 순서를 가지는 python 객제의 집합\n",
    "* 튜플: 순서를 가지는 python 객제의 집합"
   ]
  },
  {
   "cell_type": "markdown",
   "metadata": {},
   "source": [
    "### 숫자형\n",
    "#### 관련 함수\n",
    "자주 사용하는 파이썬 내장 함수\n",
    "* abs(): 절대값\n",
    "* pow(): 제곱"
   ]
  },
  {
   "cell_type": "code",
   "execution_count": 14,
   "metadata": {},
   "outputs": [
    {
     "name": "stdout",
     "output_type": "stream",
     "text": [
      "4\n",
      "5.0\n",
      "3\n",
      "27\n"
     ]
    }
   ],
   "source": [
    "# 형변환\n",
    "print(int(4.5))\n",
    "print(float(5))\n",
    "\n",
    "# 절대값\n",
    "print(abs(-3))\n",
    "\n",
    "# 제곱\n",
    "print(pow(3, 3))"
   ]
  },
  {
   "cell_type": "markdown",
   "metadata": {},
   "source": [
    "### 문자열\n",
    "#### 여러 줄 문자열\n",
    "\"\"\" 또는 ''' 으로 여러 줄의 문자열 표현"
   ]
  },
  {
   "cell_type": "code",
   "execution_count": 15,
   "metadata": {},
   "outputs": [
    {
     "name": "stdout",
     "output_type": "stream",
     "text": [
      "**********\n",
      "\n",
      "Hello\n",
      "World\n",
      "\n",
      "**********\n",
      "Hello\n",
      "World\n",
      "**********\n"
     ]
    }
   ],
   "source": [
    "sentence1 = \"\"\"\n",
    "Hello\n",
    "World\n",
    "\"\"\"\n",
    "\n",
    "## \\을 사용하면 앞뒤 공백 제거 가능\n",
    "sentence2 = \"\"\"\\\n",
    "Hello\n",
    "World\\\n",
    "\"\"\"\n",
    "\n",
    "\n",
    "print('*' * 10)\n",
    "print(sentence1)\n",
    "print('*' * 10)\n",
    "print(sentence2)\n",
    "print('*' * 10)"
   ]
  },
  {
   "cell_type": "markdown",
   "metadata": {},
   "source": [
    "#### 포맷팅\n",
    "문자열 안에 어떤 값을 삽입하는 방법\n",
    "* % 연산자 포맷팅\n",
    "    * 문자열 포맷 코드에 맞춰 바로 숫자와 문자를 대입할 때 사용\n",
    "    * 숫자(정수) 대입 : %d\n",
    "    * 숫자(실수) 대입 : %f\n",
    "    * 문자 1개 대입 : %c\n",
    "    * 문자열 대입 : %s"
   ]
  },
  {
   "cell_type": "markdown",
   "metadata": {},
   "source": [
    "* format() 함수\n"
   ]
  },
  {
   "cell_type": "code",
   "execution_count": 16,
   "metadata": {},
   "outputs": [
    {
     "name": "stdout",
     "output_type": "stream",
     "text": [
      "저는 주로 3호선을 탑니다. 가끔 2호선으로 환승해요.\n",
      "저는 주로 2호선을 탑니다. 가끔 3호선으로 환승해요.\n"
     ]
    }
   ],
   "source": [
    "# {} <- 매개변수 순서를 생략하면 순차적으로 들어감\n",
    "sentence1 = \"저는 주로 {}호선을 탑니다. 가끔 {}호선으로 환승해요.\".format(3,2)\n",
    "sentence2 = \"저는 주로 {1}호선을 탑니다. 가끔 {0}호선으로 환승해요.\".format(3,2)\n",
    "print(sentence1)\n",
    "print(sentence2)"
   ]
  },
  {
   "cell_type": "markdown",
   "metadata": {},
   "source": [
    "#### 관련 함수\n",
    "- len(x) : 문자열 길이 출력\n",
    "- split() : 문자열 나누기\n",
    "- count(x) : 문자 개수 세기\n",
    "- replace('a', 'b') : 문자열 바꾸기\n",
    "- find('a') : 위치 알려주기\n",
    "- upper() : 소문자를 대문자로 바꾸기\n",
    "- lower() : 대문자를 소문자로 바꾸기\n",
    "- join(x) : 문자열 삽입"
   ]
  },
  {
   "cell_type": "code",
   "execution_count": 17,
   "metadata": {},
   "outputs": [
    {
     "name": "stdout",
     "output_type": "stream",
     "text": [
      "팥죽 팥죽 팥죽 팥죽\n",
      "죽팥 죽팥 죽팥 죽팥\n",
      "팥죽 대신 닭죽을 먹었어. 내일은 단호박죽을 먹어야지.\n",
      "1\n",
      "7\n",
      "22\n",
      "a~b~c~d~e~f~g\n"
     ]
    }
   ],
   "source": [
    "sentence = \"팥죽 팥죽 팥죽 팥죽\"\n",
    "print(sentence)\n",
    "\n",
    "# replace()\n",
    "print(sentence.replace(\"팥죽\", \"죽팥\"))\n",
    "\n",
    "# find() <- 첫 번째로 발견된 인덱스를 반환함\n",
    "sentence = \"팥죽 대신 닭죽을 먹었어. 내일은 단호박죽을 먹어야지.\"\n",
    "print(sentence)\n",
    "## find(sub)\n",
    "print(sentence.find(\"죽\"))\n",
    "## find(sub, start)\n",
    "print(sentence.find(\"죽\", 2))\n",
    "## find(sub, start, end)\n",
    "print(sentence.find(\"죽\", 20, 30))\n",
    "\n",
    "# join()\n",
    "sentence = \"~\"\n",
    "print(sentence.join(\"abcdefg\"))"
   ]
  },
  {
   "cell_type": "markdown",
   "metadata": {},
   "source": [
    "### 리스트\n",
    "여러 자료형을 담을 수 있음. 각각의 요소를 element라고 명칭.\n",
    "#### 인덱싱과 슬라이싱\n",
    "* 인덱싱<br>\n",
    "리스트 내부의 하나의 요소를 선택하는 연산자\n",
    "* 슬라이싱<br>\n",
    "리스트 내부의 특정 범위 선택시 사용하는 연산자"
   ]
  },
  {
   "cell_type": "code",
   "execution_count": 18,
   "metadata": {},
   "outputs": [
    {
     "name": "stdout",
     "output_type": "stream",
     "text": [
      "[3, 4]\n"
     ]
    }
   ],
   "source": [
    "myList = [1,2,3,4]\n",
    "print(myList[2:4])"
   ]
  },
  {
   "cell_type": "code",
   "execution_count": 19,
   "metadata": {},
   "outputs": [
    {
     "name": "stdout",
     "output_type": "stream",
     "text": [
      "매실\n"
     ]
    }
   ],
   "source": [
    "# myList[3][2][0][:2] == ?\n",
    "\n",
    "myList = [1, 5.2, 2*3, ['커피', '물', ['매실차', '유자차']]]\n",
    "\n",
    "## myList[3] -> ['커피', '물', ['매실차', '유자차']]\n",
    "## myList[3][2] -> ['매실차', '유자차']\n",
    "## myList[3][2][0] -> '매실차'\n",
    "## myList[3][2][0][:2] -> '매실'\n",
    "\n",
    "print(myList[3][2][0][:2])"
   ]
  },
  {
   "cell_type": "markdown",
   "metadata": {},
   "source": [
    "#### 연산자\n",
    "* \\+\n",
    "* \\*\n",
    "* len()"
   ]
  },
  {
   "cell_type": "code",
   "execution_count": 20,
   "metadata": {},
   "outputs": [
    {
     "name": "stdout",
     "output_type": "stream",
     "text": [
      "[1, 2, 3, 4, 5, 6, 7, 8]\n",
      "[1, 2, 3, 4, 1, 2, 3, 4]\n",
      "8\n"
     ]
    }
   ],
   "source": [
    "list1 = [1,2,3,4]\n",
    "list2 = [5,6,7,8]\n",
    "\n",
    "print(list1 + list2)\n",
    "print(list1 * 2)\n",
    "print(len(list1 + list2))"
   ]
  },
  {
   "cell_type": "markdown",
   "metadata": {},
   "source": [
    "#### 변경과 삭제\n",
    "리스트는 내부 값을 변경 | 삭제가 가능함"
   ]
  },
  {
   "cell_type": "code",
   "execution_count": 21,
   "metadata": {},
   "outputs": [
    {
     "name": "stdout",
     "output_type": "stream",
     "text": [
      "[1, 5.2, 6, ['커피', '물', ['매실차', '유자차']]]\n",
      "4\n",
      "[1, 5.2, 6, ['아메리카노', '물', ['매실차', '유자차']]]\n",
      "[1, 5.2, 6]\n",
      "3\n"
     ]
    }
   ],
   "source": [
    "print(myList)\n",
    "print(len(myList))\n",
    "\n",
    "myList[3][0] = \"아메리카노\"\n",
    "print(myList)\n",
    "\n",
    "del myList[3]\n",
    "print(myList)\n",
    "print(len(myList))"
   ]
  },
  {
   "cell_type": "markdown",
   "metadata": {},
   "source": [
    "#### 관련 함수\n",
    "- sort() : 리스트 정렬\n",
    "- reverse() : 리스트 뒤집기\n",
    "- append(x) : 리스트에 요소 추가\n",
    "- extend(x) : 리스트 확장\n",
    "- insert(a, b) : 리스트 요소 삽입, 리스트 a번째 위치에 b를 삽입\n",
    "- remove(x) : 리스트 요소 제거\n",
    "- pop() : 리스트 요소 끄집어내기\n",
    "- count(x) : 리스트에 포함된 요소 x의 개수 세기"
   ]
  },
  {
   "cell_type": "code",
   "execution_count": 22,
   "metadata": {},
   "outputs": [
    {
     "name": "stdout",
     "output_type": "stream",
     "text": [
      "[1, 5.2, 2, 6, 2]\n",
      "[1, 2, 2, 5.2, 6]\n",
      "[6, 5.2, 2, 2, 1]\n",
      "[6, 5.2, 2, 2, 1, 17]\n",
      "[6, 5.2, 2, 2, 1, 17, [18]]\n",
      "[6, 5.2, 2, 2, 1, 17, [18], 2, 19, 20]\n",
      "[6, 5.2, 2, 3, 2, 1, 17, [18], 2, 19, 20]\n",
      "[6, 5.2, 3, 2, 1, 17, [18], 2, 19, 20]\n",
      "20\n",
      "[6, 5.2, 3, 2, 1, 17, [18], 2, 19]\n",
      "5.2\n",
      "[6, 3, 2, 1, 17, [18], 2, 19]\n",
      "2\n"
     ]
    }
   ],
   "source": [
    "myList = [1, 5.2, 2, 6, 2]\n",
    "print(myList)\n",
    "\n",
    "# sort()\n",
    "myList.sort()\n",
    "print(myList)\n",
    "\n",
    "# reverse()\n",
    "myList.reverse()\n",
    "print(myList)\n",
    "\n",
    "# append(x): 리스트 맨 마지막에 x를 추가 (리스트도 추가할 수 있음)\n",
    "myList.append(17)\n",
    "print(myList)\n",
    "myList.append([18])\n",
    "print(myList)\n",
    "\n",
    "# extend(x): 리스트에 새로운 리스트 x를 더함 (+와 같은 역할)\n",
    "myList.extend([2, 19, 20])\n",
    "print(myList)\n",
    "\n",
    "# insert(a, b)\n",
    "myList.insert(3, 3)\n",
    "print(myList)\n",
    "\n",
    "# remove(x): 맨 처음 나오는 x를 삭제\n",
    "myList.remove(2)\n",
    "print(myList)\n",
    "\n",
    "# pop(): 리스트의 맨 마지막 요소를 반환하고 그 요소를 삭제함\n",
    "print(myList.pop())\n",
    "print(myList)\n",
    "# pop(x): 리스트의 x번째 요소를 반환하고 그 요소를 삭제함\n",
    "print(myList.pop(1))\n",
    "print(myList)\n",
    "\n",
    "# count(x): 리스트 내 x가 몇 개 있는지 조사해 그 수를 반환\n",
    "print(myList.count(2))\n"
   ]
  },
  {
   "cell_type": "markdown",
   "metadata": {},
   "source": [
    "### 튜플\n",
    "리스트와 달리 튜플은 요소를 추가 | 삭제 | 수정이 <b><i>불가능</i></b>함"
   ]
  },
  {
   "cell_type": "markdown",
   "metadata": {},
   "source": [
    "#### 튜플 생성\n",
    "* 괄호 있는 튜플"
   ]
  },
  {
   "cell_type": "code",
   "execution_count": 23,
   "metadata": {},
   "outputs": [
    {
     "name": "stdout",
     "output_type": "stream",
     "text": [
      "<class 'float'>\n",
      "<class 'tuple'>\n"
     ]
    }
   ],
   "source": [
    "tuple1 = (2.3)\n",
    "tuple2 = (2.3,)\n",
    "print(type(tuple1))\n",
    "print(type(tuple2))"
   ]
  },
  {
   "cell_type": "markdown",
   "metadata": {},
   "source": [
    "* 괄호 없는 튜플"
   ]
  },
  {
   "cell_type": "code",
   "execution_count": 24,
   "metadata": {},
   "outputs": [
    {
     "name": "stdout",
     "output_type": "stream",
     "text": [
      "(1, 2, 3, 4, 5)\n",
      "<class 'tuple'>\n"
     ]
    }
   ],
   "source": [
    "tuple3 = 1,2,3,4,5\n",
    "print(tuple3)\n",
    "print(type(tuple3))"
   ]
  },
  {
   "cell_type": "markdown",
   "metadata": {},
   "source": [
    "#### 인덱싱과 슬라이싱\n",
    "리스트와 동일\n",
    "\n",
    "#### 연산자\n",
    "리스트와 동일\n",
    "\n",
    "#### 변경과 삭제\n",
    "변경, 삭제 불가능"
   ]
  },
  {
   "cell_type": "code",
   "execution_count": 25,
   "metadata": {},
   "outputs": [],
   "source": [
    "tuple4 = (1, 2, 3)"
   ]
  },
  {
   "cell_type": "code",
   "execution_count": 26,
   "metadata": {},
   "outputs": [
    {
     "ename": "TypeError",
     "evalue": "'tuple' object does not support item assignment",
     "output_type": "error",
     "traceback": [
      "\u001b[0;31m---------------------------------------------------------------------------\u001b[0m",
      "\u001b[0;31mTypeError\u001b[0m                                 Traceback (most recent call last)",
      "Cell \u001b[0;32mIn[26], line 2\u001b[0m\n\u001b[1;32m      1\u001b[0m \u001b[38;5;66;03m#### 오류 나는 코드 ####\u001b[39;00m\n\u001b[0;32m----> 2\u001b[0m tuple4[\u001b[38;5;241m0\u001b[39m] \u001b[38;5;241m=\u001b[39m \u001b[38;5;241m0\u001b[39m\n",
      "\u001b[0;31mTypeError\u001b[0m: 'tuple' object does not support item assignment"
     ]
    }
   ],
   "source": [
    "#### 오류 나는 코드 ####\n",
    "tuple4[0] = 0"
   ]
  },
  {
   "cell_type": "code",
   "execution_count": null,
   "metadata": {},
   "outputs": [
    {
     "ename": "TypeError",
     "evalue": "'tuple' object doesn't support item deletion",
     "output_type": "error",
     "traceback": [
      "\u001b[0;31m---------------------------------------------------------------------------\u001b[0m",
      "\u001b[0;31mTypeError\u001b[0m                                 Traceback (most recent call last)",
      "Cell \u001b[0;32mIn[42], line 2\u001b[0m\n\u001b[1;32m      1\u001b[0m \u001b[38;5;66;03m#### 오류 나는 코드 ####\u001b[39;00m\n\u001b[0;32m----> 2\u001b[0m \u001b[38;5;28;01mdel\u001b[39;00m tuple4[\u001b[38;5;241m0\u001b[39m]\n",
      "\u001b[0;31mTypeError\u001b[0m: 'tuple' object doesn't support item deletion"
     ]
    }
   ],
   "source": [
    "#### 오류 나는 코드 ####\n",
    "del tuple4[0]"
   ]
  },
  {
   "cell_type": "markdown",
   "metadata": {},
   "source": [
    "## 비순서 자료형\n",
    "* 딕셔너리: 순서를 갖지 않는 객체의 쌍 {key:value}\n",
    "* 집합: <b>중복이 없고</b> 순서를 갖지 않는 객체의 집합\n",
    "* 부울: 참과 거짓"
   ]
  },
  {
   "cell_type": "markdown",
   "metadata": {},
   "source": [
    "### 딕셔너리\n",
    "리스트가 인덱스 기반으로 값을 저장한다면<br>\n",
    "딕셔너리는 key를 기반으로 값을 저장한다.\n",
    "* 문자열, 숫자, 부울 등으로 키를 선언할 수 있다.\n",
    "    * 일반적으로 문자열을 사용"
   ]
  },
  {
   "cell_type": "code",
   "execution_count": null,
   "metadata": {},
   "outputs": [
    {
     "name": "stdout",
     "output_type": "stream",
     "text": [
      "{'name': 'soomni', 'grade': [100, 90, 80]}\n"
     ]
    }
   ],
   "source": [
    "myDictionary = {\n",
    "    \"name\" : \"soomni\",\n",
    "    \"grade\" : [100, 90, 80]\n",
    "}\n",
    "print(myDictionary)"
   ]
  },
  {
   "cell_type": "markdown",
   "metadata": {},
   "source": [
    "#### 변경과 삭제"
   ]
  },
  {
   "cell_type": "code",
   "execution_count": null,
   "metadata": {},
   "outputs": [
    {
     "name": "stdout",
     "output_type": "stream",
     "text": [
      "{'name': 'soomni', 'grade': [100, 90, 80], 'skill': ['python', 'fastapi']}\n",
      "{'name': 'soomni', 'grade': [100, 90, 80], 'skill': ['python', 'fastapi', 'mysql']}\n",
      "{'name': 'soomni', 'skill': ['python', 'fastapi', 'mysql']}\n"
     ]
    }
   ],
   "source": [
    "# 추가\n",
    "myDictionary['skill'] = ['python', 'fastapi']\n",
    "print(myDictionary)\n",
    "\n",
    "# 수정\n",
    "myDictionary['skill'] = ['python', 'fastapi', 'mysql']\n",
    "print(myDictionary)\n",
    "\n",
    "# 삭제\n",
    "del myDictionary['grade']\n",
    "print(myDictionary)"
   ]
  },
  {
   "cell_type": "markdown",
   "metadata": {},
   "source": [
    "#### 관련 함수\n",
    "- keys() : key 리스트 만들기\n",
    "- values() : value 리스트 만들기\n",
    "- items() : key, value 쌍 얻기\n",
    "- get() : key로 value 얻기\n",
    "- in() : 해당 key가 딕셔너리 안에 있는지 조사\n",
    "- clear() : key:value 쌍 모두 지우기"
   ]
  },
  {
   "cell_type": "code",
   "execution_count": null,
   "metadata": {},
   "outputs": [
    {
     "name": "stdout",
     "output_type": "stream",
     "text": [
      "dict_keys(['name', 'skill'])\n",
      "dict_values(['soomni', ['python', 'fastapi', 'mysql']])\n",
      "dict_items([('name', 'soomni'), ('skill', ['python', 'fastapi', 'mysql'])])\n",
      "['python', 'fastapi', 'mysql']\n",
      "None\n",
      "False\n",
      "True\n"
     ]
    }
   ],
   "source": [
    "print(myDictionary.keys())\n",
    "\n",
    "print(myDictionary.values())\n",
    "\n",
    "print(myDictionary.items())\n",
    "\n",
    "print(myDictionary.get('skill'))\n",
    "print(myDictionary.get('grade'))\n",
    "\n",
    "print('grade' in myDictionary)\n",
    "print('skill' in myDictionary)"
   ]
  },
  {
   "cell_type": "markdown",
   "metadata": {},
   "source": [
    "### 집합\n",
    "중복을 허용하지 않음\n",
    "\n",
    "#### 생성"
   ]
  },
  {
   "cell_type": "code",
   "execution_count": null,
   "metadata": {},
   "outputs": [
    {
     "name": "stdout",
     "output_type": "stream",
     "text": [
      "{10, 11, 12}\n",
      "<class 'set'>\n"
     ]
    }
   ],
   "source": [
    "set1 = set([10, 11, 12])\n",
    "print(set1)\n",
    "print(type(set1))"
   ]
  },
  {
   "cell_type": "code",
   "execution_count": null,
   "metadata": {},
   "outputs": [
    {
     "name": "stdout",
     "output_type": "stream",
     "text": [
      "{'m', 'i', 'n', 'o', 's'}\n",
      "<class 'set'>\n"
     ]
    }
   ],
   "source": [
    "# 문자열을 입력하여 집합 생성\n",
    "# 중복 비허용!! 중복값은 하나만 출력됨\n",
    "# 비순서 자료형이기 때문에 인덱싱 사용 불가!!\n",
    "set2 = set(\"soomin\")\n",
    "print(set2)\n",
    "print(type(set2))"
   ]
  },
  {
   "cell_type": "markdown",
   "metadata": {},
   "source": [
    "#### 연산\n",
    "- 합집합 : |\n",
    "- 교집합 : &\n",
    "- 차집합 : -"
   ]
  },
  {
   "cell_type": "code",
   "execution_count": null,
   "metadata": {},
   "outputs": [],
   "source": [
    "# 집합 생성\n",
    "set1 = {1, 2, 3, 4, 5}\n",
    "set2 = {1, 3, 5, 7, 9}"
   ]
  },
  {
   "cell_type": "code",
   "execution_count": null,
   "metadata": {},
   "outputs": [
    {
     "name": "stdout",
     "output_type": "stream",
     "text": [
      "{1, 2, 3, 4, 5, 7, 9}\n"
     ]
    }
   ],
   "source": [
    "# 합집합\n",
    "print(set1 | set2)"
   ]
  },
  {
   "cell_type": "code",
   "execution_count": null,
   "metadata": {},
   "outputs": [
    {
     "name": "stdout",
     "output_type": "stream",
     "text": [
      "{1, 3, 5}\n"
     ]
    }
   ],
   "source": [
    "# 교집합\n",
    "print(set1 & set2)"
   ]
  },
  {
   "cell_type": "code",
   "execution_count": null,
   "metadata": {},
   "outputs": [
    {
     "name": "stdout",
     "output_type": "stream",
     "text": [
      "{2, 4}\n",
      "{9, 7}\n"
     ]
    }
   ],
   "source": [
    "# 차집합\n",
    "print(set1 - set2)\n",
    "print(set2 - set1)"
   ]
  },
  {
   "cell_type": "markdown",
   "metadata": {},
   "source": [
    "#### 관련 함수\n",
    "- add() : 한 개의 값 추가\n",
    "- update() : 여러 개의 값 추가\n",
    "- remove() : 특정 값 제거"
   ]
  },
  {
   "cell_type": "code",
   "execution_count": null,
   "metadata": {},
   "outputs": [],
   "source": [
    "# 집합 생성\n",
    "set1 = {1, 2, 3, 4, 5}"
   ]
  },
  {
   "cell_type": "code",
   "execution_count": null,
   "metadata": {},
   "outputs": [
    {
     "name": "stdout",
     "output_type": "stream",
     "text": [
      "{1, 2, 3, 4, 5, 6}\n"
     ]
    }
   ],
   "source": [
    "# add(): 1개 추가\n",
    "set1.add(6)\n",
    "print(set1)"
   ]
  },
  {
   "cell_type": "code",
   "execution_count": null,
   "metadata": {},
   "outputs": [
    {
     "name": "stdout",
     "output_type": "stream",
     "text": [
      "{1, 2, 3, 4, 5, 6, 7, 8}\n"
     ]
    }
   ],
   "source": [
    "# update(): n개 추가\n",
    "set1.update([7, 8])\n",
    "print(set1)"
   ]
  },
  {
   "cell_type": "code",
   "execution_count": null,
   "metadata": {},
   "outputs": [
    {
     "name": "stdout",
     "output_type": "stream",
     "text": [
      "{2, 3, 4, 5, 6, 7, 8}\n"
     ]
    }
   ],
   "source": [
    "# remove(): 특정 값 제거\n",
    "set1.remove(1)\n",
    "print(set1)"
   ]
  },
  {
   "cell_type": "markdown",
   "metadata": {},
   "source": [
    "### 부울\n",
    "참, 거짓을 나타냄. 주로 조건문의 반환값으로 사용\n",
    "\n",
    "#### 변하지 않는 참과 거짓\n",
    "* 문자열, 리스트, 튜플, 딕셔너리 등의 값이 비어 있다면 >> False\n",
    "* 문자열, 리스트, 튜플, 딕셔너리 등의 값이 비어 있지 않다면 >> True"
   ]
  },
  {
   "cell_type": "code",
   "execution_count": null,
   "metadata": {},
   "outputs": [
    {
     "name": "stdout",
     "output_type": "stream",
     "text": [
      "False\n"
     ]
    }
   ],
   "source": [
    "if []:\n",
    "    print(\"True\")\n",
    "else:\n",
    "    print(\"False\")"
   ]
  },
  {
   "cell_type": "code",
   "execution_count": null,
   "metadata": {},
   "outputs": [
    {
     "data": {
      "text/plain": [
       "False"
      ]
     },
     "execution_count": 12,
     "metadata": {},
     "output_type": "execute_result"
    }
   ],
   "source": [
    "# 조건문이 아닌 bool 함수를 통해 True, False 출력하기\n",
    "bool('')"
   ]
  },
  {
   "cell_type": "code",
   "execution_count": null,
   "metadata": {},
   "outputs": [
    {
     "data": {
      "text/plain": [
       "True"
      ]
     },
     "execution_count": 13,
     "metadata": {},
     "output_type": "execute_result"
    }
   ],
   "source": [
    "bool([1,2,3])"
   ]
  }
 ],
 "metadata": {
  "kernelspec": {
   "display_name": "base",
   "language": "python",
   "name": "python3"
  },
  "language_info": {
   "codemirror_mode": {
    "name": "ipython",
    "version": 3
   },
   "file_extension": ".py",
   "mimetype": "text/x-python",
   "name": "python",
   "nbconvert_exporter": "python",
   "pygments_lexer": "ipython3",
   "version": "3.11.7"
  }
 },
 "nbformat": 4,
 "nbformat_minor": 2
}
