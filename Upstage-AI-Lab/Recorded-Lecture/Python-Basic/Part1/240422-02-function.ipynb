{
 "cells": [
  {
   "cell_type": "markdown",
   "metadata": {},
   "source": [
    "# 파이썬 기본기 다지기\n",
    "> 함수 function"
   ]
  },
  {
   "cell_type": "markdown",
   "metadata": {},
   "source": [
    "## 함수\n",
    "* 입력 >> 함수 >> 출력 구조\n",
    "* 반복적으로 기능이 사용될 때\n",
    "* def 키워드로 생성\n",
    "* 함수 호출 >> 함수를 실행하는 행위\n",
    "\n",
    "### 매개변수 parameter\n",
    "함수에 입력으로 전달된 값을 받는 변수\n",
    "* 디폴트 매개변수<br>\n",
    "매개변수가 입력되지 않으면 디폴트 값으로 자동 입력\n",
    "\n",
    "\n",
    "* 가변 매개변수\n",
    "    * 원하는 만큼 인자를 받을 수 있는 함수를 만들고자 할 때\n",
    "    * 매개변수 앞에 *를 붙임\n",
    "    * 제약\n",
    "        * 가변 매개변수 뒤에는 일반 매개변수가 올 수 없음\n",
    "        * 가변 매개변수는 하나만! 사용할 수 있음\n",
    "\n",
    "\n",
    "* 키워드 매개변수\n",
    "    * 매개변수의 이름을 지정해서 입력\n",
    "    * 매개변수의 순서와 상관 없이 나열 가능"
   ]
  },
  {
   "cell_type": "code",
   "execution_count": 3,
   "metadata": {},
   "outputs": [
    {
     "name": "stdout",
     "output_type": "stream",
     "text": [
      "2\n",
      "4\n"
     ]
    }
   ],
   "source": [
    "## 디폴트 매개 변수 설정\n",
    "def add(x, y = 3):\n",
    "    return x + y\n",
    "\n",
    "z2 = add(1, 1)\n",
    "print(z2)\n",
    "\n",
    "z1 = add(1)\n",
    "print(z1)"
   ]
  },
  {
   "cell_type": "code",
   "execution_count": 4,
   "metadata": {},
   "outputs": [
    {
     "name": "stdout",
     "output_type": "stream",
     "text": [
      "카페 메뉴는?\n",
      "코코아\n",
      "캐모마일\n",
      "얼그레이\n",
      "에이드\n"
     ]
    }
   ],
   "source": [
    "## 가변 매개변수 설정\n",
    "def menu(*values):\n",
    "    print(\"카페 메뉴는?\")\n",
    "    \n",
    "    for value in values:\n",
    "        print(value)\n",
    "\n",
    "menu(\"코코아\", \"캐모마일\", \"얼그레이\", \"에이드\")"
   ]
  },
  {
   "cell_type": "code",
   "execution_count": 8,
   "metadata": {},
   "outputs": [
    {
     "name": "stdout",
     "output_type": "stream",
     "text": [
      "3\n",
      "23\n"
     ]
    }
   ],
   "source": [
    "## 키워드 매개변수 설정\n",
    "### 디폴트 매개변수도 함께 사용\n",
    "def add(x=1, y=1, z=1):\n",
    "    return x + y + z\n",
    "\n",
    "print(add())\n",
    "print(add(y=5, z=6, x=12))"
   ]
  },
  {
   "cell_type": "markdown",
   "metadata": {},
   "source": [
    "### 인수 argument\n",
    "함수를 호출할 때 전달하는 입력값"
   ]
  },
  {
   "cell_type": "code",
   "execution_count": 9,
   "metadata": {},
   "outputs": [
    {
     "data": {
      "text/plain": [
       "3"
      ]
     },
     "execution_count": 9,
     "metadata": {},
     "output_type": "execute_result"
    }
   ],
   "source": [
    "def add(x, y):\n",
    "    return x + y\n",
    "\n",
    "## add 함수를 호출, 인수로 1과 2 입력\n",
    "add(1, 2)"
   ]
  },
  {
   "cell_type": "markdown",
   "metadata": {},
   "source": [
    "### 리턴 return\n",
    "함수를 호출한 곳에 결과값 반환"
   ]
  },
  {
   "cell_type": "code",
   "execution_count": 10,
   "metadata": {},
   "outputs": [
    {
     "name": "stdout",
     "output_type": "stream",
     "text": [
      "value1: 3\n",
      "value2: 4\n"
     ]
    }
   ],
   "source": [
    "# 리턴값이 두 개 일 때\n",
    "\n",
    "def returnTest():\n",
    "    a = 3\n",
    "    b = 4\n",
    "    return a, b\n",
    "\n",
    "value1, value2 = returnTest()\n",
    "print(\"value1:\", value1)\n",
    "print(\"value2:\", value2)"
   ]
  }
 ],
 "metadata": {
  "kernelspec": {
   "display_name": "base",
   "language": "python",
   "name": "python3"
  },
  "language_info": {
   "codemirror_mode": {
    "name": "ipython",
    "version": 3
   },
   "file_extension": ".py",
   "mimetype": "text/x-python",
   "name": "python",
   "nbconvert_exporter": "python",
   "pygments_lexer": "ipython3",
   "version": "3.11.7"
  }
 },
 "nbformat": 4,
 "nbformat_minor": 2
}
