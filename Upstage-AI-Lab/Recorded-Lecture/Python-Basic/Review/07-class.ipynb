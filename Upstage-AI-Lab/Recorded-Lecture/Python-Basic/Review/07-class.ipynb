{
  "cells": [
    {
      "cell_type": "markdown",
      "metadata": {
        "id": "a1HnpA4YaAqx"
      },
      "source": [
        "## **1. 클래스 문제 (1)**\n",
        "\n",
        "* 클래스 선언\n",
        "\n"
      ]
    },
    {
      "cell_type": "code",
      "execution_count": 1,
      "metadata": {
        "id": "dUCWOv4FaCrJ"
      },
      "outputs": [],
      "source": [
        "# 1) Parents 클래스 선언\n",
        "#    - 생성자 선언 : name, role, job\n",
        "#    - 'print_info' 메소드 선언 : Parents 클래스 속성 출력\n",
        "\n",
        "class Parents:\n",
        "    def __init__(self, name, role, job):\n",
        "        self.name = name\n",
        "        self.role = role\n",
        "        self.job = job\n",
        "\n",
        "    def print_info(self):\n",
        "        print(\"name:\", self.name)\n",
        "        print(\"role:\", self.role)\n",
        "        print(\"job:\", self.job)"
      ]
    },
    {
      "cell_type": "markdown",
      "metadata": {
        "id": "SonTQ2kMaIyu"
      },
      "source": [
        "## **2. 클래스 문제 (2)**\n",
        "\n",
        "* 객체 선언\n",
        "\n"
      ]
    },
    {
      "cell_type": "code",
      "execution_count": 2,
      "metadata": {
        "id": "GLbXHYyYaKOS"
      },
      "outputs": [],
      "source": [
        "# 1) Parents 클래스 이용하여 father 객체 선언\n",
        "#    - name : Jay\n",
        "#    - role : father\n",
        "#    - job : engineer\n",
        "\n",
        "father = Parents('Jay', 'father', 'engineer')"
      ]
    },
    {
      "cell_type": "code",
      "execution_count": 3,
      "metadata": {
        "id": "f-nKO2mSaL1j"
      },
      "outputs": [],
      "source": [
        "# 2) Parents 클래스 이용하여 mother 객체 선언\n",
        "#    - name : Mini\n",
        "#    - role : mother\n",
        "#    - job : data scientist\n",
        "\n",
        "mother = Parents('Mini', 'mother', 'data scientist')"
      ]
    },
    {
      "cell_type": "markdown",
      "metadata": {
        "id": "IoWKyePIaUL1"
      },
      "source": [
        "## **3. 클래스 문제 (3)**\n",
        "\n",
        "* 객체 속성 값 출력\n",
        "\n"
      ]
    },
    {
      "cell_type": "code",
      "execution_count": 4,
      "metadata": {
        "id": "PdMfEBZ5aVFn"
      },
      "outputs": [
        {
          "name": "stdout",
          "output_type": "stream",
          "text": [
            "name: Jay\n",
            "role: father\n",
            "job: engineer\n"
          ]
        }
      ],
      "source": [
        "# 1) father 객체에 print_info 메소드를 이용하여 속성 값 출력\n",
        "father.print_info()"
      ]
    },
    {
      "cell_type": "code",
      "execution_count": 5,
      "metadata": {
        "id": "cTHGj56HaV89"
      },
      "outputs": [
        {
          "name": "stdout",
          "output_type": "stream",
          "text": [
            "name: Mini\n",
            "role: mother\n",
            "job: data scientist\n"
          ]
        }
      ],
      "source": [
        "# 2) mother 객체에 print_info 메소드를 이용하여 속성 값 출력\n",
        "mother.print_info()"
      ]
    },
    {
      "cell_type": "markdown",
      "metadata": {
        "id": "tykY1RG9aXiR"
      },
      "source": [
        "## **4. 클래스 문제 (4)**\n",
        "\n",
        "* 상속을 위한 자식 클래스 선언\n",
        "\n"
      ]
    },
    {
      "cell_type": "code",
      "execution_count": 6,
      "metadata": {
        "id": "XJN7mER4aYoa"
      },
      "outputs": [],
      "source": [
        "# 1) Child 클래스 선언\n",
        "#    - Parents 클래스 이용하여 상속 받기\n",
        "#    - 'print_info' 메소드 재정의\n",
        "#         * Parents 클래스의 'print_info' 메소드 호출\n",
        "#         * Child 자체'print_info' 메소드 재정의\n",
        "#              - \"자식 클래스입니다.\" 문자열 출력\n",
        "class Child(Parents):\n",
        "    def print_info(self):\n",
        "        super().print_info()\n",
        "        print(\"자식 클래스입니다.\")"
      ]
    },
    {
      "cell_type": "markdown",
      "metadata": {
        "id": "8rKIVNIHargk"
      },
      "source": [
        "## **5. 클래스 문제 (5)**\n",
        "\n",
        "* 객체 선언\n",
        "\n"
      ]
    },
    {
      "cell_type": "code",
      "execution_count": 7,
      "metadata": {
        "id": "dkAyzF5Iak8R"
      },
      "outputs": [],
      "source": [
        "# 1) Child 클래스로 daughter 객체 생성\n",
        "#    - name : Bibi\n",
        "#    - role : daughter\n",
        "#    - job : elementary student\n",
        "daughter = Child('Bibi', 'daughter', 'elementary student')"
      ]
    },
    {
      "cell_type": "markdown",
      "metadata": {
        "id": "jfZCNaUnazRJ"
      },
      "source": [
        "## **6. 클래스 문제 (6)**\n",
        "\n",
        "* 객체 속성 값 출력"
      ]
    },
    {
      "cell_type": "code",
      "execution_count": 8,
      "metadata": {
        "id": "1kdZkO9Za003"
      },
      "outputs": [
        {
          "name": "stdout",
          "output_type": "stream",
          "text": [
            "name: Bibi\n",
            "role: daughter\n",
            "job: elementary student\n",
            "자식 클래스입니다.\n"
          ]
        }
      ],
      "source": [
        "# 1) daughter 객체에 print_info 메소드를 이용하여 속성 값 출력\n",
        "daughter.print_info()"
      ]
    }
  ],
  "metadata": {
    "colab": {
      "provenance": [],
      "toc_visible": true
    },
    "kernelspec": {
      "display_name": "Python 3",
      "name": "python3"
    },
    "language_info": {
      "codemirror_mode": {
        "name": "ipython",
        "version": 3
      },
      "file_extension": ".py",
      "mimetype": "text/x-python",
      "name": "python",
      "nbconvert_exporter": "python",
      "pygments_lexer": "ipython3",
      "version": "3.11.7"
    }
  },
  "nbformat": 4,
  "nbformat_minor": 0
}
