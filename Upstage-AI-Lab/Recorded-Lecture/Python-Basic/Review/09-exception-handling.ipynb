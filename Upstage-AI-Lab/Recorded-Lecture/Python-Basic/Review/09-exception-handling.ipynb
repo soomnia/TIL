{
  "cells": [
    {
      "cell_type": "markdown",
      "metadata": {
        "id": "RBGrGWPErZ9t"
      },
      "source": [
        "## **1. 예외 처리 문제 (1)**\n",
        "\n",
        "* try, except, else, finally 구문\n",
        "\n"
      ]
    },
    {
      "cell_type": "code",
      "execution_count": 1,
      "metadata": {
        "id": "Qg4lGNqmrcMI"
      },
      "outputs": [
        {
          "name": "stdout",
          "output_type": "stream",
          "text": [
            "예외가 발생하였습니다.\n",
            "실패 없이 완주하는 파이썬 데이터 분석 입문 과정의 Part 1. 파이썬 기본기 다지기를 모두 마치셨어요!\n",
            "정말 고생하셨어요!! :) 같이 파이썬 라이브러리 활용 배우러 가요~! 우리의 목표는 완!강! :)\n"
          ]
        }
      ],
      "source": [
        "# 1) try, except, else, finally 구문을 이용하여 예외처리 구현\n",
        "#   - 'myList' 변수에 0, 1, 2, 3 요소를 통해 리스트 선언\n",
        "#   - 'myList'의 8번째 인덱스를 호출하여 myListEighth 변수에 저장\n",
        "#   - 예외가 발생하면 \"예외가 발생하였습니다.\" 문자열 출력\n",
        "#   - 예외가 발생하지 않는다면 \"myList[8]의 값은 'myListEighth' 입니다.\" 문자열 출력하고 myListEighth는 변수 값 삽입\n",
        "\n",
        "try :\n",
        "  myList = [0, 1, 2, 3]\n",
        "  myListEighth = myList[8]\n",
        "except :\n",
        "  print(\"예외가 발생하였습니다.\")\n",
        "else :\n",
        "  print(f\"myList[8]의 값은 '{myListEighth}' 입니다.\")\n",
        "finally :\n",
        "  print(\"실패 없이 완주하는 파이썬 데이터 분석 입문 과정의 Part 1. 파이썬 기본기 다지기를 모두 마치셨어요!\")\n",
        "  print(\"정말 고생하셨어요!! :) 같이 파이썬 라이브러리 활용 배우러 가요~! 우리의 목표는 완!강! :)\")"
      ]
    },
    {
      "cell_type": "code",
      "execution_count": 2,
      "metadata": {
        "id": "rhtvlhe5sBOe"
      },
      "outputs": [
        {
          "name": "stdout",
          "output_type": "stream",
          "text": [
            "myList[8]의 값은 '8' 입니다.\n",
            "실패 없이 완주하는 파이썬 데이터 분석 입문 과정의 Part 1. 파이썬 기본기 다지기를 모두 마치셨어요!\n",
            "정말 고생하셨어요!! :) 같이 파이썬 라이브러리 활용 배우러 가요~! 우리의 목표는 완!강! :)\n"
          ]
        }
      ],
      "source": [
        "# 2) try, except, else, finally 구문을 이용하여 예외처리 구현\n",
        "#   - 'myList' 변수에 0, 1, 2, 3, 4, 5, 6, 7, 8 요소를 통해 리스트 선언\n",
        "#   - 'myList'의 8번째 인덱스를 호출하여 myListEighth 변수에 저장\n",
        "#   - 예외가 발생하면 \"예외가 발생하였습니다.\" 문자열 출력\n",
        "#   - 예외가 발생하지 않는다면 \"myList[8]의 값은 'myListEighth' 입니다.\" 문자열 출력하고 myListEighth는 변수 값 삽입\n",
        "try :\n",
        "  myList = [0, 1, 2, 3, 4, 5, 6, 7, 8]\n",
        "  myListEighth = myList[8]\n",
        "except :\n",
        "  print(\"예외가 발생하였습니다.\")\n",
        "else :\n",
        "  print(f\"myList[8]의 값은 '{myListEighth}' 입니다.\")\n",
        "finally :\n",
        "  print(\"실패 없이 완주하는 파이썬 데이터 분석 입문 과정의 Part 1. 파이썬 기본기 다지기를 모두 마치셨어요!\")\n",
        "  print(\"정말 고생하셨어요!! :) 같이 파이썬 라이브러리 활용 배우러 가요~! 우리의 목표는 완!강! :)\")"
      ]
    }
  ],
  "metadata": {
    "colab": {
      "provenance": []
    },
    "kernelspec": {
      "display_name": "Python 3",
      "name": "python3"
    },
    "language_info": {
      "codemirror_mode": {
        "name": "ipython",
        "version": 3
      },
      "file_extension": ".py",
      "mimetype": "text/x-python",
      "name": "python",
      "nbconvert_exporter": "python",
      "pygments_lexer": "ipython3",
      "version": "3.11.7"
    }
  },
  "nbformat": 4,
  "nbformat_minor": 0
}
