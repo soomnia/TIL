{
  "cells": [
    {
      "cell_type": "markdown",
      "metadata": {
        "id": "axQhD3II-0_K"
      },
      "source": [
        "## **1. 함수 문제 (1)**\n",
        "\n",
        "* 디폴트 매개변수\n",
        "\n"
      ]
    },
    {
      "cell_type": "code",
      "execution_count": 1,
      "metadata": {
        "id": "xjEDeg-ONRSr"
      },
      "outputs": [],
      "source": [
        "# 1) multiplication 함수 정의\n",
        "#    - 매개변수 a, b 중에서 b는 2로 디폴트 매개변수로 정의\n",
        "#    - a * b로 계산하여 출력\n",
        "def multiplication(a, b = 2):\n",
        "    return a * b\n"
      ]
    },
    {
      "cell_type": "code",
      "execution_count": 2,
      "metadata": {
        "id": "V4hDem3-NUVe"
      },
      "outputs": [
        {
          "name": "stdout",
          "output_type": "stream",
          "text": [
            "18\n"
          ]
        }
      ],
      "source": [
        "# 2) multiplication 함수를 호출하여 인수로 3과 6 입력하여 c 변수에 저장하여 출력\n",
        "\n",
        "c = multiplication(3, 6)\n",
        "print(c)"
      ]
    },
    {
      "cell_type": "code",
      "execution_count": 3,
      "metadata": {
        "id": "azmP9AjZNamF"
      },
      "outputs": [
        {
          "name": "stdout",
          "output_type": "stream",
          "text": [
            "6\n"
          ]
        }
      ],
      "source": [
        "# 3) multiplication 함수를 호출하여 인수로 3 입력하여 c 변수에 저장하여 출력\n",
        "\n",
        "c = multiplication(3)\n",
        "print(c)"
      ]
    },
    {
      "cell_type": "markdown",
      "metadata": {
        "id": "-9gA3JHvNeSY"
      },
      "source": [
        "## **2. 함수 문제 (2)**\n",
        "\n",
        "* 가변 매개변수\n",
        "\n"
      ]
    },
    {
      "cell_type": "code",
      "execution_count": 13,
      "metadata": {
        "id": "ypX483_2NfQP"
      },
      "outputs": [],
      "source": [
        "# 1) 바구니에 든 과일을 출력하는 basket 함수 정의\n",
        "#    - fruits는 가변 매개변수명\n",
        "# [x] 가변매개변수 기입 방법: \n",
        "#    - 함수의 첫 줄은 \"바구니에 든 과일은? \" 문자열 출력\n",
        "#    - fruits 매개변수에 값으로 가져온 인수들을 하나씩 출력하는 반복문 구현\n",
        "\"\"\"\n",
        "NOTE: 가변 매개변수 매개변수 앞에 *를 붙임\n",
        "제약\n",
        "* 가변 매개변수 뒤에는 일반 매개변수가 올 수 없음\n",
        "* 가변 매개변수는 하나만! 사용할 수 있음\n",
        "\"\"\"\n",
        "\n",
        "def basket(*fruits):\n",
        "    print(\"과일에 든 바구니는?\")\n",
        "    # print(type(fruits))\n",
        "    for fruit in fruits:\n",
        "        print(fruit)"
      ]
    },
    {
      "cell_type": "code",
      "execution_count": 14,
      "metadata": {
        "id": "J0X7SjUZOtXB"
      },
      "outputs": [
        {
          "name": "stdout",
          "output_type": "stream",
          "text": [
            "과일에 든 바구니는?\n",
            "<class 'tuple'>\n",
            "apple\n",
            "strawberry\n",
            "melon\n"
          ]
        }
      ],
      "source": [
        "# 2) basket 함수 호출\n",
        "#    - 인수로 'apple', 'strawberry', 'melon' 입력\n",
        "basket('apple', 'strawberry', 'melon')"
      ]
    },
    {
      "cell_type": "markdown",
      "metadata": {
        "id": "8ouBQi40OvfD"
      },
      "source": [
        "## **3. 함수 문제 (3)**\n",
        "\n",
        "* 키워드 매개변수\n",
        "\n"
      ]
    },
    {
      "cell_type": "code",
      "execution_count": 7,
      "metadata": {
        "id": "H-6__r0-OwPn"
      },
      "outputs": [],
      "source": [
        "# 1) multiplication 함수 정의\n",
        "#    - 매개변수 a, b, c는 각각 1, 2, 3 값을 디폴트 매개변수 설정\n",
        "#    - a * b * c로 계산하여 출력\n",
        "def multiplication(a = 1, b = 2, c = 3):\n",
        "    return a * b * c"
      ]
    },
    {
      "cell_type": "code",
      "execution_count": 8,
      "metadata": {
        "id": "rIfO723EOx0f"
      },
      "outputs": [
        {
          "data": {
            "text/plain": [
              "30"
            ]
          },
          "execution_count": 8,
          "metadata": {},
          "output_type": "execute_result"
        }
      ],
      "source": [
        "# 2) b=5, a=3, c=2 순서로 키워드 매개변수 특징을 이용하여 multiplication 함수 호출\n",
        "multiplication(b=5, a=3, c=2)"
      ]
    }
  ],
  "metadata": {
    "colab": {
      "provenance": [],
      "toc_visible": true
    },
    "kernelspec": {
      "display_name": "Python 3",
      "name": "python3"
    },
    "language_info": {
      "codemirror_mode": {
        "name": "ipython",
        "version": 3
      },
      "file_extension": ".py",
      "mimetype": "text/x-python",
      "name": "python",
      "nbconvert_exporter": "python",
      "pygments_lexer": "ipython3",
      "version": "3.11.7"
    }
  },
  "nbformat": 4,
  "nbformat_minor": 0
}
