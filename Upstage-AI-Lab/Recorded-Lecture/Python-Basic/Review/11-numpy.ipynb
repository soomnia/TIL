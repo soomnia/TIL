{
  "cells": [
    {
      "cell_type": "markdown",
      "metadata": {
        "id": "L2I9kKLbArgI"
      },
      "source": [
        "## **1. Numpy 문제 (1)**\n",
        "\n",
        "* Numpy 선언\n",
        "\n"
      ]
    },
    {
      "cell_type": "code",
      "execution_count": 1,
      "metadata": {
        "id": "pSRn8XwIAq9z"
      },
      "outputs": [],
      "source": [
        "# 1) numpy 패키지 로드하여 np로 사용\n",
        "import numpy as np"
      ]
    },
    {
      "cell_type": "markdown",
      "metadata": {
        "id": "8ebMhRhoAvlb"
      },
      "source": [
        "## **2. Numpy 문제 (2)**\n",
        "\n",
        "* 리스트로 배열 만들기\n",
        "\n"
      ]
    },
    {
      "cell_type": "code",
      "execution_count": 2,
      "metadata": {
        "id": "FVAOana2A0Js"
      },
      "outputs": [
        {
          "name": "stdout",
          "output_type": "stream",
          "text": [
            "['python', 'list']\n",
            "['python' 'list']\n"
          ]
        }
      ],
      "source": [
        "# 1) pythonList 변수에 리스트 선언하기 (리스트 요소는 자유롭게 구성)\n",
        "pythonList = [\"python\", \"list\"]\n",
        "\n",
        "# 2) npArray 변수에 pythonList 변수를 통해 Numpy 배열 선언\n",
        "npArray = np.array(pythonList)\n",
        "\n",
        "# 3) 각각 pythonList, npArray 변수 출력\n",
        "print(pythonList)\n",
        "print(npArray)"
      ]
    },
    {
      "cell_type": "markdown",
      "metadata": {
        "id": "3BayotmJA1RJ"
      },
      "source": [
        "## **3. Numpy 문제 (3)**\n",
        "\n",
        "* 0으로 구성된 2차원 배열 생성\n",
        "\n"
      ]
    },
    {
      "cell_type": "code",
      "execution_count": 4,
      "metadata": {
        "id": "QOh-FPZJA4as"
      },
      "outputs": [
        {
          "data": {
            "text/plain": [
              "array([0., 0., 0., 0., 0., 0., 0., 0., 0., 0.])"
            ]
          },
          "execution_count": 4,
          "metadata": {},
          "output_type": "execute_result"
        }
      ],
      "source": [
        "# 1) 0이 10개 채워진 1차원 배열 생성하여 출력\n",
        "np.zeros(10)"
      ]
    },
    {
      "cell_type": "code",
      "execution_count": 6,
      "metadata": {
        "id": "gv2rptWoA4sV"
      },
      "outputs": [
        {
          "data": {
            "text/plain": [
              "array([[0., 0., 0., 0., 0.],\n",
              "       [0., 0., 0., 0., 0.],\n",
              "       [0., 0., 0., 0., 0.],\n",
              "       [0., 0., 0., 0., 0.],\n",
              "       [0., 0., 0., 0., 0.]])"
            ]
          },
          "execution_count": 6,
          "metadata": {},
          "output_type": "execute_result"
        }
      ],
      "source": [
        "# 2) 0이 10개 채워진 (5,5) 형태의 2차원 배열 생성하여 출력\n",
        "np.zeros((5,5))"
      ]
    },
    {
      "cell_type": "markdown",
      "metadata": {
        "id": "Ah-t1VBHA7Wt"
      },
      "source": [
        "## **4. Numpy 문제 (4)**\n",
        "\n",
        "* arange & linspace 함수를 사용하여 배열 생성\n",
        "\n"
      ]
    },
    {
      "cell_type": "code",
      "execution_count": 7,
      "metadata": {
        "id": "rMni6-bmA9dk"
      },
      "outputs": [
        {
          "data": {
            "text/plain": [
              "array([0. , 0.5, 1. ])"
            ]
          },
          "execution_count": 7,
          "metadata": {},
          "output_type": "execute_result"
        }
      ],
      "source": [
        "# 1) [0.  0.5  1. ]\n",
        "# 2) arange 함수를 사용하여 (1)과 동일한 결과 나오게끔 배열 생성하여 출력\n",
        "np.arange(0, 1 + 0.5, 0.5)"
      ]
    },
    {
      "cell_type": "code",
      "execution_count": 8,
      "metadata": {
        "id": "eNTVSqxvA-_C"
      },
      "outputs": [
        {
          "data": {
            "text/plain": [
              "array([0. , 0.5, 1. ])"
            ]
          },
          "execution_count": 8,
          "metadata": {},
          "output_type": "execute_result"
        }
      ],
      "source": [
        "# 3) linspace 함수를 사용하여 (1)과 동일한 결과 나오게끔 배열 생성하여 출력\n",
        "# NOTE: num만큼 n등분\n",
        "np.linspace(0, 1, num=3)"
      ]
    },
    {
      "cell_type": "markdown",
      "metadata": {
        "id": "b8rywdcnBGIN"
      },
      "source": [
        "## **5. Numpy 문제 (5)**\n",
        "\n",
        "* 인덱싱(Indexing, 가리킴)과 슬라이싱(Slicing, 잘라냄) 이해\n",
        "\n"
      ]
    },
    {
      "cell_type": "code",
      "execution_count": 9,
      "metadata": {
        "id": "Tc-4PIMhBEx-"
      },
      "outputs": [
        {
          "name": "stdout",
          "output_type": "stream",
          "text": [
            "[  0   1   8  27  64 125 216 343 512 729]\n"
          ]
        }
      ],
      "source": [
        "python = np.arange(10)**3\n",
        "print(python)"
      ]
    },
    {
      "cell_type": "code",
      "execution_count": 10,
      "metadata": {
        "id": "-iQAlVVhBVQ8"
      },
      "outputs": [
        {
          "data": {
            "text/plain": [
              "8"
            ]
          },
          "execution_count": 10,
          "metadata": {},
          "output_type": "execute_result"
        }
      ],
      "source": [
        "# 1) python 배열의 2번째 인덱스 출력\n",
        "python[2]"
      ]
    },
    {
      "cell_type": "code",
      "execution_count": 11,
      "metadata": {
        "id": "35cGkh8_BU-5"
      },
      "outputs": [
        {
          "data": {
            "text/plain": [
              "array([ 27,  64, 125])"
            ]
          },
          "execution_count": 11,
          "metadata": {},
          "output_type": "execute_result"
        }
      ],
      "source": [
        "# 2) python 배열의 3~5번 인덱스 출력\n",
        "python[3:6]"
      ]
    },
    {
      "cell_type": "code",
      "execution_count": 23,
      "metadata": {
        "id": "Rj5fqBAYBZVx"
      },
      "outputs": [
        {
          "name": "stdout",
          "output_type": "stream",
          "text": [
            "[ 64 125 216 343 512 729]\n",
            "[array([ 64, 125, 216, 343, 512, 729])]\n"
          ]
        }
      ],
      "source": [
        "# 3) python 배열의 64이상의 요소만 출력\n",
        "# [x] 배열 중 특정 조건 요소만 출력 \n",
        "python_64 = python >= 64\n",
        "print(python[python_64])\n",
        "\n",
        "## 간소화\n",
        "print([python[python >= 64]])"
      ]
    },
    {
      "cell_type": "markdown",
      "metadata": {
        "id": "N1aL1LLOB-0m"
      },
      "source": [
        "## **6. Numpy 문제 (6)**\n",
        "\n",
        "* 데이터 합치기 & 쪼개기\n",
        "\n"
      ]
    },
    {
      "cell_type": "code",
      "execution_count": 12,
      "metadata": {
        "id": "pRnSieEKCAZN"
      },
      "outputs": [
        {
          "name": "stdout",
          "output_type": "stream",
          "text": [
            "[[1 2 3]\n",
            " [4 5 6]]\n"
          ]
        }
      ],
      "source": [
        "python_1 = np.array([1, 2, 3, 4, 5, 6]).reshape(2, 3)\n",
        "print(python_1)"
      ]
    },
    {
      "cell_type": "code",
      "execution_count": 13,
      "metadata": {
        "id": "hnZC48TBCCEt"
      },
      "outputs": [
        {
          "name": "stdout",
          "output_type": "stream",
          "text": [
            "[[ 7  8  9]\n",
            " [10 11 12]]\n"
          ]
        }
      ],
      "source": [
        "python_2 = np.array([7, 8, 9, 10, 11, 12]).reshape(2, 3)\n",
        "print(python_2)"
      ]
    },
    {
      "cell_type": "code",
      "execution_count": 19,
      "metadata": {
        "id": "3nrJJkuQCDYs"
      },
      "outputs": [
        {
          "name": "stdout",
          "output_type": "stream",
          "text": [
            "[[ 1  2  3]\n",
            " [ 4  5  6]\n",
            " [ 7  8  9]\n",
            " [10 11 12]]\n"
          ]
        }
      ],
      "source": [
        "# 1) 열을 기준으로 데이터 합쳐서 출력\n",
        "np.vstack([python_1, python_2])"
      ]
    },
    {
      "cell_type": "code",
      "execution_count": 20,
      "metadata": {
        "id": "dldvWxrtCDUk"
      },
      "outputs": [
        {
          "data": {
            "text/plain": [
              "array([[ 1,  2,  3,  7,  8,  9],\n",
              "       [ 4,  5,  6, 10, 11, 12]])"
            ]
          },
          "execution_count": 20,
          "metadata": {},
          "output_type": "execute_result"
        }
      ],
      "source": [
        "# 2) 행을 기준으로 데이터 합쳐서 출력\n",
        "np.hstack([python_1, python_2])"
      ]
    },
    {
      "cell_type": "code",
      "execution_count": 21,
      "metadata": {
        "id": "eiIYkvoyCDOo"
      },
      "outputs": [
        {
          "data": {
            "text/plain": [
              "[array([[1],\n",
              "        [4]]),\n",
              " array([[2],\n",
              "        [5]]),\n",
              " array([[3],\n",
              "        [6]])]"
            ]
          },
          "execution_count": 21,
          "metadata": {},
          "output_type": "execute_result"
        }
      ],
      "source": [
        "# 3) python_1 변수에 열을 기준으로 3등분 쪼개어 출력\n",
        "np.hsplit(python_1, 3)"
      ]
    },
    {
      "cell_type": "code",
      "execution_count": 22,
      "metadata": {
        "id": "Yzyx8iTRCDIW"
      },
      "outputs": [
        {
          "data": {
            "text/plain": [
              "[array([[1, 2, 3]]), array([[4, 5, 6]])]"
            ]
          },
          "execution_count": 22,
          "metadata": {},
          "output_type": "execute_result"
        }
      ],
      "source": [
        "# 4) python_1 변수에 행을 기준으로 2등분 쪼개어 출력\n",
        "# 수업시간엔 안 배운 내용으로 np.vsplit 함수 사용\n",
        "np.vsplit(python_1, 2)"
      ]
    }
  ],
  "metadata": {
    "colab": {
      "provenance": []
    },
    "kernelspec": {
      "display_name": "Python 3",
      "name": "python3"
    },
    "language_info": {
      "codemirror_mode": {
        "name": "ipython",
        "version": 3
      },
      "file_extension": ".py",
      "mimetype": "text/x-python",
      "name": "python",
      "nbconvert_exporter": "python",
      "pygments_lexer": "ipython3",
      "version": "3.11.7"
    }
  },
  "nbformat": 4,
  "nbformat_minor": 0
}
