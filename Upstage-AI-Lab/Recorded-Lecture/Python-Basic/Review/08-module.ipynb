{
  "cells": [
    {
      "cell_type": "markdown",
      "metadata": {
        "id": "GN2OskbEbgUP"
      },
      "source": [
        "## **1. 모듈 문제 (1)**\n",
        "\n",
        "* 모듈 불러오기\n",
        "\n"
      ]
    },
    {
      "cell_type": "code",
      "execution_count": 1,
      "metadata": {
        "id": "HMahIl02bLnX"
      },
      "outputs": [
        {
          "data": {
            "text/plain": [
              "6"
            ]
          },
          "execution_count": 1,
          "metadata": {},
          "output_type": "execute_result"
        }
      ],
      "source": [
        "# 1) math 모듈에서 factorial을 import 사용하여 3! 출력\n",
        "import math\n",
        "\n",
        "math.factorial(3)"
      ]
    },
    {
      "cell_type": "code",
      "execution_count": 2,
      "metadata": {
        "id": "YxV78xMbbRXX"
      },
      "outputs": [
        {
          "data": {
            "text/plain": [
              "6"
            ]
          },
          "execution_count": 2,
          "metadata": {},
          "output_type": "execute_result"
        }
      ],
      "source": [
        "# 2) math 모듈에서 factorial을 import와 from 사용하여 3! 출력\n",
        "\n",
        "from math import factorial\n",
        "\n",
        "factorial(3)"
      ]
    },
    {
      "cell_type": "markdown",
      "metadata": {
        "id": "mbYixz2EbWlr"
      },
      "source": [
        "## **2. 모듈 문제 (2)**\n",
        "\n",
        "* 모듈 생성\n",
        "\n"
      ]
    },
    {
      "cell_type": "markdown",
      "metadata": {
        "id": "j8ZZM4DMbXu7"
      },
      "source": [
        "### **[2-1] 폴더 만들기**\n",
        "* 'moduleFolder' 이름의 새폴더 생성"
      ]
    },
    {
      "cell_type": "markdown",
      "metadata": {
        "id": "i902WKAmbfUQ"
      },
      "source": [
        "### **[2-2] 모듈.py 파일 만들기**\n",
        "* moduleFolder 폴더 안에 새파일 만들기\n",
        "* 'moduleEx.py' 이름의 새파일 생성\n",
        "- 'moduleEx.py' 파일 안에 코드 추가\n",
        "> - multiplication( ) 함수 구현\n",
        "> - ```\n",
        "def multiplication(x, y, z):\n",
        "        return x * y * z\n",
        "```"
      ]
    },
    {
      "cell_type": "markdown",
      "metadata": {
        "id": "Bz8dnUoIbnDP"
      },
      "source": [
        "### **[2-3] 메인.py 파일 만들기**\n",
        "- moduleFolder 폴더 안에 새파일 만들기\n",
        "- 'main.py' 이름의 새파일 생성\n",
        "- 'main.py' 파일 안에 코드 추가\n",
        "> - 'moduleEx' 모듈 불러오기\n",
        "> - result 변수에 moduleEx에서 구현한 multiplication 함수 불러오기\n",
        "> - result 출력\n",
        "> - ```\n",
        "import moduleEx\n",
        "result = moduleEx.multiplication(1, 2, 3)\n",
        "print(result)\n",
        "```\n",
        "\n"
      ]
    },
    {
      "cell_type": "markdown",
      "metadata": {
        "id": "yj1Sga8hbt1o"
      },
      "source": [
        "### **[2-4] 구글 코랩 노트북에서 메인.py 파일 실행**\n",
        "- ! python 키워드 사용\n",
        "- .py 파일이 있는 경로 입력"
      ]
    },
    {
      "cell_type": "code",
      "execution_count": 5,
      "metadata": {
        "id": "8QHOWASgbvUR"
      },
      "outputs": [
        {
          "name": "stdout",
          "output_type": "stream",
          "text": [
            "6\n"
          ]
        }
      ],
      "source": [
        "# NOTE: ! python moduleFolder/main.py\n",
        "# 2-4) main.py 파일 실행\n",
        "! python moduleFolder/main.py"
      ]
    }
  ],
  "metadata": {
    "colab": {
      "provenance": [],
      "toc_visible": true
    },
    "kernelspec": {
      "display_name": "Python 3",
      "name": "python3"
    },
    "language_info": {
      "codemirror_mode": {
        "name": "ipython",
        "version": 3
      },
      "file_extension": ".py",
      "mimetype": "text/x-python",
      "name": "python",
      "nbconvert_exporter": "python",
      "pygments_lexer": "ipython3",
      "version": "3.11.7"
    }
  },
  "nbformat": 4,
  "nbformat_minor": 0
}
