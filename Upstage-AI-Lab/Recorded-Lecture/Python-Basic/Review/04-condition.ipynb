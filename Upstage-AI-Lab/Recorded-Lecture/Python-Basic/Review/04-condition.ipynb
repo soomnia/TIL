{
  "cells": [
    {
      "cell_type": "markdown",
      "metadata": {
        "id": "ANJo-mjCU9_L"
      },
      "source": [
        "## **1. 조건문 문제 (1)**\n",
        "\n",
        "* 중첩 조건문\n",
        "\n"
      ]
    },
    {
      "cell_type": "code",
      "execution_count": 6,
      "metadata": {
        "id": "qxlXRlQJU-1l"
      },
      "outputs": [
        {
          "name": "stdout",
          "output_type": "stream",
          "text": [
            "Half Score\n"
          ]
        }
      ],
      "source": [
        "# 중첩 조건문 구현 문제 : 조건문 안에 조건문 구현\n",
        "# 수업이 끝났을 때 복습을 하면 복습의 정도에 따라서 과제 점수를 출력하는 조건문 완성하기\n",
        "# 초기 설정 값 1) 수업이 끝났을 경우, endOfSelenaClass 변수에 True 값 삽입\n",
        "#                 수업이 진행 중인 경우, endOfSelenaClass 변수에 False 값 삽입\n",
        "# 초기 설정 값 2) 자신의 복습 정도에 따라 SelfReviewScore에 점수 입력(0~100점)\n",
        "endOfSelenaClass = True\n",
        "SelfReviewScore = 85\n",
        "\n",
        "# 1) 첫 번째 조건문\n",
        "#    1-1) 수업이 끝났을 경우, 두 번째 조건문 실행\n",
        "#    1-2) 수업이 진행 중인 경우, \"Focus Class\" 문자열 출력\n",
        "if endOfSelenaClass:\n",
        "# 2) 두 번째 조건문 (endOfSelenaClass == True일 때 실행할 조건문)\n",
        "#    2-1) SelfReviewScore 값이 90점 이상이면 \"Perfect Score\" 문자열 출력\n",
        "#    2-2) SelfReviewScore 값이 50점 이상이면 \"Half Score\" 문자열 출력\n",
        "#    2-3) SelfReviewScore 값이 그 외에 해당하면 \"Zero Score\" 문자열 출력\n",
        "    if SelfReviewScore >= 90:\n",
        "        print(\"Perfect Score\")\n",
        "    elif SelfReviewScore >= 50:\n",
        "        print(\"Half Score\")\n",
        "    else:\n",
        "        print(\"Zero Score\")\n",
        "else:\n",
        "    print(\"Focus Class\")"
      ]
    },
    {
      "cell_type": "markdown",
      "metadata": {
        "id": "K5WVoe3HVD-p"
      },
      "source": [
        "## **2. 조건문 문제 (2)**\n",
        "\n",
        "* in / not in 연산자\n",
        "\n"
      ]
    },
    {
      "cell_type": "code",
      "execution_count": 7,
      "metadata": {
        "id": "IcHqnGPKVEsZ"
      },
      "outputs": [
        {
          "name": "stdout",
          "output_type": "stream",
          "text": [
            "True\n"
          ]
        }
      ],
      "source": [
        "# 1) 'selena_class' 문자열에 'c'가 포함되어 있다면 True, 포함 되어 있지 않다면 False 출력하는 조건문 구현\n",
        "if 'c' in 'selena_class':\n",
        "    print(True)\n",
        "else:\n",
        "    print(False)"
      ]
    },
    {
      "cell_type": "markdown",
      "metadata": {
        "id": "Tqyu6-1FVHEJ"
      },
      "source": [
        "## **3. 조건문 문제 (3)**\n",
        "\n",
        "* pass 키워드\n",
        "\n"
      ]
    },
    {
      "cell_type": "code",
      "execution_count": 8,
      "metadata": {
        "id": "vhuEgkvBVIAV"
      },
      "outputs": [],
      "source": [
        "# 1) 'basket' 리스트는 apple, strawberry, melon으로 이루어져 있음\n",
        "basket = ['apple', 'strawberry', 'melon']\n",
        "\n",
        "# 2) 'basket' 리스트에 orange가 없다면 pass 키워드 설정하는 조건문 구현\n",
        "if 'orange' not in basket:\n",
        "    pass"
      ]
    }
  ],
  "metadata": {
    "colab": {
      "provenance": [],
      "toc_visible": true
    },
    "kernelspec": {
      "display_name": "Python 3",
      "name": "python3"
    },
    "language_info": {
      "codemirror_mode": {
        "name": "ipython",
        "version": 3
      },
      "file_extension": ".py",
      "mimetype": "text/x-python",
      "name": "python",
      "nbconvert_exporter": "python",
      "pygments_lexer": "ipython3",
      "version": "3.11.7"
    }
  },
  "nbformat": 4,
  "nbformat_minor": 0
}
