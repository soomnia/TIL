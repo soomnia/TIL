{
  "cells": [
    {
      "cell_type": "markdown",
      "metadata": {
        "id": "PvrSC4U28zsn"
      },
      "source": [
        "## **1. 자료형 문제 (1)**\n",
        "\n",
        "* 문자열 출력\n",
        "\n"
      ]
    },
    {
      "cell_type": "code",
      "execution_count": 40,
      "metadata": {
        "id": "N5AKPLya34rl"
      },
      "outputs": [
        {
          "name": "stdout",
          "output_type": "stream",
          "text": [
            "'파이썬 '자료형' 완벽 정복!'\n"
          ]
        }
      ],
      "source": [
        "# 1) 이스케이프 문자를 사용하여 '파이썬 '자료형' 완벽 정복!' 문자열 출력\n",
        "# 주의 사항 : 작은 따옴표만 사용하기!\n",
        "print('\\'파이썬 \\'자료형\\' 완벽 정복!\\'')"
      ]
    },
    {
      "cell_type": "code",
      "execution_count": 41,
      "metadata": {
        "id": "TSqA86px4CXD"
      },
      "outputs": [
        {
          "name": "stdout",
          "output_type": "stream",
          "text": [
            "********************\n",
            "파이썬 '자료형' 정복\n",
            "********************\n"
          ]
        }
      ],
      "source": [
        "# 2) 문자열 반복 연산자를 사용하여 아래와 동일한 문자열 출력('*'문자 20개 사용)\n",
        "# ********************\n",
        "# 파이썬 '자료형' 정복\n",
        "# ********************\n",
        "print('*' * 20)\n",
        "print(\"파이썬 '자료형' 정복\")\n",
        "print('*' * 20)\n"
      ]
    },
    {
      "cell_type": "code",
      "execution_count": 12,
      "metadata": {},
      "outputs": [
        {
          "name": "stdout",
          "output_type": "stream",
          "text": [
            "********************\n",
            "파이썬 '자료형' 완벽 정복!\n",
            "********************\n"
          ]
        }
      ],
      "source": [
        "## 문제 의도\n",
        "star = '*' * 20\n",
        "sentence = star + '\\n파이썬 \\'자료형\\' 완벽 정복!\\n' + star\n",
        "print(sentence)"
      ]
    },
    {
      "cell_type": "markdown",
      "metadata": {
        "id": "NoLX-NKt4QsM"
      },
      "source": [
        "## **2. 자료형 문제 (2)**\n",
        "\n",
        "* 문자열 인덱싱과 슬라이싱\n",
        "\n"
      ]
    },
    {
      "cell_type": "code",
      "execution_count": 42,
      "metadata": {
        "id": "612fUuWd4SGY"
      },
      "outputs": [
        {
          "name": "stdout",
          "output_type": "stream",
          "text": [
            "하\n"
          ]
        }
      ],
      "source": [
        "# 1) sentence 문자열에서 '하' 문자를 출력\n",
        "sentence = '파이썬 하루만에 끝내보자!'\n",
        "\n",
        "print(sentence[4])"
      ]
    },
    {
      "cell_type": "code",
      "execution_count": 43,
      "metadata": {
        "id": "udCwIcNB4Zwa"
      },
      "outputs": [
        {
          "name": "stdout",
          "output_type": "stream",
          "text": [
            "끝내보자\n",
            "끝내보자\n"
          ]
        }
      ],
      "source": [
        "# 2) sentence 문자열에서 '끝내보자' 문자를 출력\n",
        "sentence = '파이썬 하루만에 끝내보자!'\n",
        "\n",
        "print(sentence[-5:-1])\n",
        "print(sentence[9:13])"
      ]
    },
    {
      "cell_type": "markdown",
      "metadata": {
        "id": "a8ZtX_fM4idq"
      },
      "source": [
        "## **3. 자료형 문제 (3)**\n",
        "\n",
        "* 문자열 포맷팅\n",
        "\n"
      ]
    },
    {
      "cell_type": "code",
      "execution_count": 44,
      "metadata": {
        "id": "er3AJtho4jQk"
      },
      "outputs": [
        {
          "name": "stdout",
          "output_type": "stream",
          "text": [
            "9 x 9 = 81\n"
          ]
        }
      ],
      "source": [
        "# 1) 숫자 부분에 % 연산자 포맷팅을 사용하여 아래와 동일한 문자열 출력\n",
        "# 9 x 9 = 81\n",
        "## [x] 문자열 % 포맷팅\n",
        "print(\"%d x %d = %d\" % (9, 9, 81))"
      ]
    },
    {
      "cell_type": "code",
      "execution_count": 45,
      "metadata": {
        "id": "HpcQoxuK4oVl"
      },
      "outputs": [
        {
          "name": "stdout",
          "output_type": "stream",
          "text": [
            "9 x 9 = 81\n",
            "9 x 9 = 81\n"
          ]
        }
      ],
      "source": [
        "# 2) 숫자 부분에 .format 포맷팅을 사용하여 아래와 동일한 문자열 출력\n",
        "# 9 x 9 = 81\n",
        "\n",
        "print(\"{0} x {0} = {1}\".format(9, 81))\n",
        "print(\"{} x {} = {}\".format(9, 9, 81))"
      ]
    },
    {
      "cell_type": "markdown",
      "metadata": {
        "id": "7jBDhXMO5Hjp"
      },
      "source": [
        "## **4. 자료형 문제 (4)**\n",
        "\n",
        "* 문자열 관련 함수\n",
        "\n"
      ]
    },
    {
      "cell_type": "code",
      "execution_count": 46,
      "metadata": {
        "id": "-5Fpqpzi5IlE"
      },
      "outputs": [
        {
          "name": "stdout",
          "output_type": "stream",
          "text": [
            "운동 : 풋살 승마 수영\n"
          ]
        }
      ],
      "source": [
        "# 1) 함수를 사용하여 '골프'를 '수영'으로 바꾼 문자열 출력\n",
        "sentence = \"운동 : 풋살 승마 골프\"\n",
        "\n",
        "print(sentence.replace(\"골프\", \"수영\"))"
      ]
    },
    {
      "cell_type": "code",
      "execution_count": 47,
      "metadata": {
        "id": "u2uzv-W65I7N"
      },
      "outputs": [
        {
          "name": "stdout",
          "output_type": "stream",
          "text": [
            "python\n"
          ]
        }
      ],
      "source": [
        "# 2) 함수를 사용하여 대문자를 소문자로 바꾼 문자열 출력\n",
        "sentence = \"PyThon\"\n",
        "\n",
        "print(sentence.lower())"
      ]
    },
    {
      "cell_type": "markdown",
      "metadata": {
        "id": "tf2pml-D5PNj"
      },
      "source": [
        "## **5. 자료형 문제 (5)**\n",
        "\n",
        "* 리스트 인덱싱\n",
        "\n"
      ]
    },
    {
      "cell_type": "code",
      "execution_count": 48,
      "metadata": {
        "id": "fzmnBu-U5QIA"
      },
      "outputs": [
        {
          "name": "stdout",
          "output_type": "stream",
          "text": [
            "[2024, 3, 81, ['풋살', ['승마', '수영']]]\n"
          ]
        }
      ],
      "source": [
        "myList = [2024, 3, 9*9, ['풋살', ['승마', '수영']]]\n",
        "print(myList)"
      ]
    },
    {
      "cell_type": "code",
      "execution_count": 49,
      "metadata": {
        "id": "fsoSJl-a5Sde"
      },
      "outputs": [
        {
          "data": {
            "text/plain": [
              "3"
            ]
          },
          "execution_count": 49,
          "metadata": {},
          "output_type": "execute_result"
        }
      ],
      "source": [
        "# 1) myList 리스트에서 인덱싱 이용하여 3 숫자 출력\n",
        "myList[1]"
      ]
    },
    {
      "cell_type": "code",
      "execution_count": 50,
      "metadata": {
        "id": "Haa29QFG5Xpv"
      },
      "outputs": [
        {
          "data": {
            "text/plain": [
              "'승마'"
            ]
          },
          "execution_count": 50,
          "metadata": {},
          "output_type": "execute_result"
        }
      ],
      "source": [
        "# 2) myList 리스트에서 인덱싱 이용하여 '승마' 문자 출력\n",
        "myList[3][1][0]"
      ]
    },
    {
      "cell_type": "code",
      "execution_count": 51,
      "metadata": {
        "id": "uneoXb695ZV_"
      },
      "outputs": [
        {
          "data": {
            "text/plain": [
              "'영'"
            ]
          },
          "execution_count": 51,
          "metadata": {},
          "output_type": "execute_result"
        }
      ],
      "source": [
        "# 3) myList 리스트에서 인덱싱 이용하여 '수영'에서 '영' 문자 출력\n",
        "myList[3][1][1][1]"
      ]
    },
    {
      "cell_type": "markdown",
      "metadata": {
        "id": "yCUd7Cc15beW"
      },
      "source": [
        "## **6. 자료형 문제 (6)**\n",
        "\n",
        "* 리스트 변경과 삭제\n",
        "\n"
      ]
    },
    {
      "cell_type": "code",
      "execution_count": 52,
      "metadata": {
        "id": "NIWkCT-65cYF"
      },
      "outputs": [
        {
          "name": "stdout",
          "output_type": "stream",
          "text": [
            "[2024, 3, 81, ['풋살', ['승마', '수영']]]\n"
          ]
        }
      ],
      "source": [
        "myList = [2024, 3, 9*9, ['풋살', ['승마', '수영']]]\n",
        "print(myList)"
      ]
    },
    {
      "cell_type": "code",
      "execution_count": 53,
      "metadata": {
        "id": "7WHUw0H55cnz"
      },
      "outputs": [
        {
          "name": "stdout",
          "output_type": "stream",
          "text": [
            "[2024, 3, 81, ['풋살', ['승마', '수영']]]\n",
            "야구\n",
            "[2024, 3, 81, ['야구', ['승마', '수영']]]\n"
          ]
        }
      ],
      "source": [
        "# 1) myList 리스트에서 '풋살'을 '야구'로 바꿔서 출력\n",
        "\n",
        "print(myList)\n",
        "\n",
        "myList[3][0] = '야구'\n",
        "\n",
        "print(myList[3][0])\n",
        "print(myList)"
      ]
    },
    {
      "cell_type": "code",
      "execution_count": 54,
      "metadata": {
        "id": "O0rvlQ-I5nmU"
      },
      "outputs": [
        {
          "name": "stdout",
          "output_type": "stream",
          "text": [
            "[2024, 3, 81, ['야구', ['승마', '수영']]]\n",
            "[2024, 3, 81, [['승마', '수영']]]\n"
          ]
        }
      ],
      "source": [
        "# 2) myList 리스트에서 '야구' 값 삭제\n",
        "print(myList)\n",
        "\n",
        "del myList[3][0]\n",
        "\n",
        "print(myList)"
      ]
    },
    {
      "cell_type": "markdown",
      "metadata": {
        "id": "zU55s6G_5pbZ"
      },
      "source": [
        "## **7. 자료형 문제 (7)**\n",
        "\n",
        "* 리스트 관련 함수\n",
        "\n"
      ]
    },
    {
      "cell_type": "code",
      "execution_count": 55,
      "metadata": {
        "id": "ITp47LuJ5qhc"
      },
      "outputs": [
        {
          "name": "stdout",
          "output_type": "stream",
          "text": [
            "[2024, 3, 81, ['풋살', ['승마', '수영']]]\n"
          ]
        }
      ],
      "source": [
        "myList = [2024, 3, 9*9, ['풋살', ['승마', '수영']]]\n",
        "print(myList)"
      ]
    },
    {
      "cell_type": "code",
      "execution_count": 56,
      "metadata": {
        "id": "tYWpA7f55rV6"
      },
      "outputs": [
        {
          "name": "stdout",
          "output_type": "stream",
          "text": [
            "[2024, 3, 81, '삽입', ['풋살', ['승마', '수영']]]\n"
          ]
        }
      ],
      "source": [
        "# 1) myList 리스트에서 3번째 위치에 \"삽입\" 문자열 삽입\n",
        "## [x] 리스트 특정 위치에 삽입\n",
        "# NOTE: myList.insert(idx, something)\n",
        "myList.insert(3, \"삽입\")\n",
        "\n",
        "print(myList)"
      ]
    },
    {
      "cell_type": "markdown",
      "metadata": {
        "id": "tqdeMblw51D8"
      },
      "source": [
        "## **8. 자료형 문제 (8)**\n",
        "\n",
        "* 튜플 슬라이싱\n",
        "\n"
      ]
    },
    {
      "cell_type": "code",
      "execution_count": 13,
      "metadata": {
        "id": "fAqzWcHW51rd"
      },
      "outputs": [
        {
          "name": "stdout",
          "output_type": "stream",
          "text": [
            "(3, 4)\n"
          ]
        }
      ],
      "source": [
        "# 1) myTuple 튜플에서 슬라이싱을 이용하여 2번째 인덱스부터 3번째 인덱스까지 출력\n",
        "\n",
        "myTuple = (1,2,3,4,)\n",
        "print(myTuple[2:4])"
      ]
    },
    {
      "cell_type": "markdown",
      "metadata": {
        "id": "z0EV7bh36AYY"
      },
      "source": [
        "## **9. 자료형 문제 (9)**\n",
        "\n",
        "* 튜플 연산자\n",
        "\n"
      ]
    },
    {
      "cell_type": "code",
      "execution_count": 58,
      "metadata": {
        "id": "IumAf6TZ6BKR"
      },
      "outputs": [
        {
          "name": "stdout",
          "output_type": "stream",
          "text": [
            "(1, 2, 3, 1, 2, 3, 1, 2, 3, 4, 5, 6, 4, 5, 6)\n"
          ]
        }
      ],
      "source": [
        "# 1) myTuple1, myTuple2 튜플을 이용하여 아래와 동일한 결과 출력\n",
        "# (1, 2, 3, 1, 2, 3, 1, 2, 3, 4, 5, 6, 4, 5, 6)\n",
        "myTuple1 = (1, 2, 3)\n",
        "myTuple2 = (4, 5, 6)\n",
        "\n",
        "print(myTuple1 * 3 + myTuple2 * 2)"
      ]
    },
    {
      "cell_type": "markdown",
      "metadata": {
        "id": "Xkyq9nTQ6PNz"
      },
      "source": [
        "## **10. 자료형 문제 (10)**\n",
        "\n",
        "* 딕셔너리 선언\n",
        "\n"
      ]
    },
    {
      "cell_type": "code",
      "execution_count": 14,
      "metadata": {
        "id": "Kmr16RFc6P85"
      },
      "outputs": [
        {
          "name": "stdout",
          "output_type": "stream",
          "text": [
            "{'name': 'ssoo', 'hobby': 'soccer'}\n"
          ]
        }
      ],
      "source": [
        "# 1) myDictionary 변수에 아래와 동일한 딕셔너리 선언하여 출력\n",
        "# {'name': '자신의 영어 이름', 'hobby': 'soccer'}\n",
        "\n",
        "myDictionary = {\n",
        "    'name': 'ssoo',\n",
        "    'hobby': 'soccer'\n",
        "}\n",
        "\n",
        "print(myDictionary)"
      ]
    },
    {
      "cell_type": "markdown",
      "metadata": {
        "id": "pWGyJD2y6YlK"
      },
      "source": [
        "## **11. 자료형 문제 (11)**\n",
        "\n",
        "* 딕셔너리 변경과 삭제\n",
        "\n"
      ]
    },
    {
      "cell_type": "code",
      "execution_count": 15,
      "metadata": {
        "id": "m8niSvj06Zl_"
      },
      "outputs": [
        {
          "name": "stdout",
          "output_type": "stream",
          "text": [
            "{'name': 'ssoo', 'hobby': 'soccer', 'grade': [90, 100, 80]}\n"
          ]
        }
      ],
      "source": [
        "# 1) myDictionary 딕셔너리에 key = 'grade', value = [90, 100, 80] 추가하여 출력\n",
        "\n",
        "myDictionary['grade'] = [90, 100, 80]\n",
        "\n",
        "print(myDictionary)"
      ]
    },
    {
      "cell_type": "code",
      "execution_count": 16,
      "metadata": {
        "id": "W9-EZg8P6cDJ"
      },
      "outputs": [
        {
          "name": "stdout",
          "output_type": "stream",
          "text": [
            "{'name': 'ssoo', 'hobby': 'soccer', 'grade': [100, 100, 90]}\n"
          ]
        }
      ],
      "source": [
        "# 2) myDictionary 딕셔너리에 key = 'grade', value = [100, 100, 90] 값 수정하여 출력\n",
        "\n",
        "myDictionary['grade'] = [100, 100, 90]\n",
        "\n",
        "print(myDictionary)"
      ]
    },
    {
      "cell_type": "code",
      "execution_count": 17,
      "metadata": {
        "id": "g9PF-CrA6dhc"
      },
      "outputs": [
        {
          "name": "stdout",
          "output_type": "stream",
          "text": [
            "{'name': 'ssoo', 'hobby': 'soccer'}\n"
          ]
        }
      ],
      "source": [
        "# 3) myDictionary 딕셔너리에 key = 'grade' 삭제\n",
        "\n",
        "del myDictionary['grade']\n",
        "\n",
        "print(myDictionary)"
      ]
    },
    {
      "cell_type": "markdown",
      "metadata": {
        "id": "5kYvw1ra6e2A"
      },
      "source": [
        "## **12. 자료형 문제 (12)**\n",
        "\n",
        "* 딕셔너리 관련 함수\n",
        "\n"
      ]
    },
    {
      "cell_type": "code",
      "execution_count": 80,
      "metadata": {
        "id": "biB2Wcyj6f8V"
      },
      "outputs": [
        {
          "name": "stdout",
          "output_type": "stream",
          "text": [
            "name : ssoo\n",
            "hobby : soccer\n"
          ]
        }
      ],
      "source": [
        "# 1) myDictionary 딕셔너리에서 함수를 이용하여 key, value 쌍 얻기\n",
        "for key in myDictionary:\n",
        "    print(key, \":\", myDictionary[key])"
      ]
    },
    {
      "cell_type": "code",
      "execution_count": 19,
      "metadata": {},
      "outputs": [
        {
          "name": "stdout",
          "output_type": "stream",
          "text": [
            "dict_items([('name', 'ssoo'), ('hobby', 'soccer')])\n"
          ]
        }
      ],
      "source": [
        "## 문제 의도\n",
        "## NOTE: myDictionary.items() - key, value 쌍\n",
        "print(myDictionary.items())"
      ]
    },
    {
      "cell_type": "code",
      "execution_count": 10,
      "metadata": {
        "id": "VKpv_hvZ6hyA"
      },
      "outputs": [
        {
          "name": "stdout",
          "output_type": "stream",
          "text": [
            "키 목록에 없어요\n"
          ]
        }
      ],
      "source": [
        "# 2) myDictionary 딕셔너리에서 함수를 이용하여 key에 'job' 있는지 조사\n",
        "## [x] 딕셔너리에서 key 조사하기\n",
        "\n",
        "if 'job' in myDictionary.keys():\n",
        "    print(\"키 목록에 있어요\")\n",
        "else:\n",
        "    print(\"키 목록에 없어요\")"
      ]
    },
    {
      "cell_type": "code",
      "execution_count": 20,
      "metadata": {},
      "outputs": [
        {
          "name": "stdout",
          "output_type": "stream",
          "text": [
            "False\n"
          ]
        }
      ],
      "source": [
        "## 문제 의도\n",
        "print('job' in myDictionary)"
      ]
    },
    {
      "cell_type": "markdown",
      "metadata": {
        "id": "__5zk3FI6jbB"
      },
      "source": [
        "## **13. 자료형 문제 (13)**\n",
        "\n",
        "* 집합 선언\n",
        "\n"
      ]
    },
    {
      "cell_type": "code",
      "execution_count": 22,
      "metadata": {
        "id": "SgGhRfln6kXK"
      },
      "outputs": [
        {
          "name": "stdout",
          "output_type": "stream",
          "text": [
            "{1, 2, 3, 4}\n"
          ]
        }
      ],
      "source": [
        "# 1) 리스트 [1, 2, 3, 4] 입력하여 mySet1 집합 선언하여 출력\n",
        "# 비순서 자료형 : 인덱싱 지원 안 함\n",
        "mySet1 = set([1, 2, 3, 4])\n",
        "print(mySet1)"
      ]
    },
    {
      "cell_type": "code",
      "execution_count": 23,
      "metadata": {
        "id": "jnvcSb0N6oQp"
      },
      "outputs": [
        {
          "name": "stdout",
          "output_type": "stream",
          "text": [
            "{8, 2, 4, 6}\n"
          ]
        }
      ],
      "source": [
        "# 2) 리스트 [2, 4, 6, 8] 입력하여 mySet2 집합 선언하여 출력\n",
        "# 비순서 자료형 : 인덱싱 지원 안 함\n",
        "mySet2 = set([2, 4, 6, 8])\n",
        "print(mySet2)"
      ]
    },
    {
      "cell_type": "markdown",
      "metadata": {
        "id": "x4v4mXLE6pos"
      },
      "source": [
        "## **14. 자료형 문제 (14)**\n",
        "\n",
        "* 집합 합집합, 교집합, 차집합"
      ]
    },
    {
      "cell_type": "code",
      "execution_count": 68,
      "metadata": {},
      "outputs": [],
      "source": [
        "# [x] 집합 다시 복습 필요!!"
      ]
    },
    {
      "cell_type": "code",
      "execution_count": 24,
      "metadata": {
        "id": "CELqk00-6qjp"
      },
      "outputs": [
        {
          "name": "stdout",
          "output_type": "stream",
          "text": [
            "{1, 2, 3, 4, 6, 8}\n"
          ]
        }
      ],
      "source": [
        "# 1) mySet1, mySet2 집합을 통해 합집합 출력\n",
        "# 중복을 허용하지 않음\n",
        "print(mySet1 | mySet2)"
      ]
    },
    {
      "cell_type": "code",
      "execution_count": 25,
      "metadata": {
        "id": "KhWzFXaS6yUM"
      },
      "outputs": [
        {
          "name": "stdout",
          "output_type": "stream",
          "text": [
            "{2, 4}\n"
          ]
        }
      ],
      "source": [
        "# 2) mySet1, mySet2 집합을 통해 교집합 출력\n",
        "print(mySet1 & mySet2)"
      ]
    },
    {
      "cell_type": "code",
      "execution_count": 26,
      "metadata": {
        "id": "x-JgyQ4d6zUd"
      },
      "outputs": [
        {
          "name": "stdout",
          "output_type": "stream",
          "text": [
            "{1, 3}\n",
            "{8, 6}\n"
          ]
        }
      ],
      "source": [
        "# 3) mySet1, mySet2 집합을 통해 차집합 출력\n",
        "print(mySet1 - mySet2)\n",
        "print(mySet2 - mySet1)"
      ]
    }
  ],
  "metadata": {
    "colab": {
      "provenance": [],
      "toc_visible": true
    },
    "kernelspec": {
      "display_name": "Python 3",
      "name": "python3"
    },
    "language_info": {
      "codemirror_mode": {
        "name": "ipython",
        "version": 3
      },
      "file_extension": ".py",
      "mimetype": "text/x-python",
      "name": "python",
      "nbconvert_exporter": "python",
      "pygments_lexer": "ipython3",
      "version": "3.11.7"
    }
  },
  "nbformat": 4,
  "nbformat_minor": 0
}
