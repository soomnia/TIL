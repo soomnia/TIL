{
  "cells": [
    {
      "cell_type": "markdown",
      "metadata": {
        "id": "E8D1x2Ri86VL"
      },
      "source": [
        "## **1. 반복문 문제 (1)**\n",
        "\n",
        "* for 반복문 - 리스트\n"
      ]
    },
    {
      "cell_type": "code",
      "execution_count": 1,
      "metadata": {
        "id": "25jLX0Hw87mP"
      },
      "outputs": [
        {
          "name": "stdout",
          "output_type": "stream",
          "text": [
            "apple\n",
            "strawberry\n",
            "melon\n"
          ]
        }
      ],
      "source": [
        "# 1) 'basket' 리스트는 apple, strawberry, melon으로 이루어져 있음\n",
        "basket = ['apple', 'strawberry', 'melon']\n",
        "\n",
        "# 2) 'basket' 리스트의 과일 반복문으로 출력\n",
        "for fruit in basket:\n",
        "    print(fruit)"
      ]
    },
    {
      "cell_type": "markdown",
      "metadata": {
        "id": "u0cUsCOp8_K2"
      },
      "source": [
        "## **2. 반복문 문제 (2)**\n",
        "\n",
        "* for 반복문 - 딕셔너리\n",
        "\n"
      ]
    },
    {
      "cell_type": "code",
      "execution_count": 1,
      "metadata": {
        "id": "DChVwW259AXD"
      },
      "outputs": [],
      "source": [
        "# 1) myDictionary 변수에 아래와 동일한 딕셔너리 선언\n",
        "# {'name': '자신의 영어 이름', 'hobby': 'soccer'}\n",
        "myDictionary = {\n",
        "    'name': 'ssoo',\n",
        "    'hobby': 'soccer'\n",
        "}"
      ]
    },
    {
      "cell_type": "code",
      "execution_count": 3,
      "metadata": {
        "id": "gJLr1pd29CAk"
      },
      "outputs": [
        {
          "name": "stdout",
          "output_type": "stream",
          "text": [
            "name : ssoo\n",
            "hobby : soccer\n"
          ]
        }
      ],
      "source": [
        "# 2) 'myDictionary' 딕셔너리의 key를 변수로 하여 value를 반복문으로 출력\n",
        "\n",
        "for key in myDictionary:\n",
        "    print(key, \":\", myDictionary[key])"
      ]
    },
    {
      "cell_type": "markdown",
      "metadata": {
        "id": "xb7bt1wi9HN9"
      },
      "source": [
        "## **3. 반복문 문제 (3)**\n",
        "\n",
        "* for 반복문 - range\n"
      ]
    },
    {
      "cell_type": "code",
      "execution_count": 4,
      "metadata": {
        "id": "iRKURL6m9IEm"
      },
      "outputs": [
        {
          "name": "stdout",
          "output_type": "stream",
          "text": [
            "5\n",
            "10\n",
            "15\n",
            "20\n",
            "25\n",
            "30\n",
            "35\n",
            "40\n",
            "45\n"
          ]
        }
      ],
      "source": [
        "# 1) 5부터 시작해서 50 미만의 수를 5간격으로 출력\n",
        "for i in range(5, 50, 5):\n",
        "    print(i)"
      ]
    },
    {
      "cell_type": "markdown",
      "metadata": {
        "id": "oVRNvGSm9KcE"
      },
      "source": [
        "## **4. 반복문 문제 (4)**\n",
        "\n",
        "* while 반복문 - break\n"
      ]
    },
    {
      "cell_type": "code",
      "execution_count": 27,
      "metadata": {},
      "outputs": [
        {
          "name": "stdout",
          "output_type": "stream",
          "text": [
            "A:  55 , count: 3\n",
            "A:  60 , count: 6\n",
            "A:  65 , count: 9\n",
            "A:  70 , count: 12\n",
            "A:  75 , count: 15\n",
            "A:  80 , count: 18\n",
            "A:  85 , count: 21\n",
            "A:  90 , count: 24\n",
            "A:  95 , count: 27\n",
            "A:  100 , count: 30\n",
            "A:  105 , count: 33\n"
          ]
        }
      ],
      "source": [
        "# while 반복문 완성하기\n",
        "# 1) A = 50, count = 0 설정\n",
        "# 2) 반복문 조건은 'A가 10보다 크다면 항상 반복 시켜줘'\n",
        "# 3) 반복문 1바퀴마다 실행할 명령어\n",
        "#     - A는 5씩 증가\n",
        "#     - count는 3씩 증가\n",
        "#     - A와 count 출력\n",
        "# 4) 조건문 조건은 'count가 30 초과일 때, break 키워드를 통해 무한 반복문 빠져나오기'\n",
        "\n",
        "A = 50\n",
        "count = 0\n",
        "\n",
        "while A > 10:\n",
        "    A += 5\n",
        "    count += 3\n",
        "    print(\"A: \", A, \", count:\", count)\n",
        "\n",
        "    if count > 30:\n",
        "        break"
      ]
    }
  ],
  "metadata": {
    "colab": {
      "provenance": [],
      "toc_visible": true
    },
    "kernelspec": {
      "display_name": "Python 3",
      "name": "python3"
    },
    "language_info": {
      "codemirror_mode": {
        "name": "ipython",
        "version": 3
      },
      "file_extension": ".py",
      "mimetype": "text/x-python",
      "name": "python",
      "nbconvert_exporter": "python",
      "pygments_lexer": "ipython3",
      "version": "3.11.7"
    }
  },
  "nbformat": 4,
  "nbformat_minor": 0
}
