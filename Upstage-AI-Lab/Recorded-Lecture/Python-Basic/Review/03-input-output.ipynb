{
  "cells": [
    {
      "cell_type": "markdown",
      "metadata": {
        "id": "EqUSBw3cKG3j"
      },
      "source": [
        "## **1. 입출력 문제 (1)**\n",
        "\n",
        "* 사용자 입력\n",
        "\n"
      ]
    },
    {
      "cell_type": "code",
      "execution_count": 2,
      "metadata": {
        "id": "kQeBuyMlKEZe"
      },
      "outputs": [
        {
          "name": "stdout",
          "output_type": "stream",
          "text": [
            "7\n"
          ]
        }
      ],
      "source": [
        "# 1) 입력 함수를 사용하여 'int_7' 변수에 숫자 '7' 입력 받아서 저장하여 출력\n",
        "int_7 = input(\"7을 입력하세요!\")\n",
        "print(int_7)"
      ]
    },
    {
      "cell_type": "code",
      "execution_count": 2,
      "metadata": {
        "id": "Wgck_y2yKEVr"
      },
      "outputs": [
        {
          "name": "stdout",
          "output_type": "stream",
          "text": [
            "7 의 타입은: <class 'str'>\n"
          ]
        }
      ],
      "source": [
        "# 2) 'int_7' 변수의 타입 출력\n",
        "print(int_7, \"의 타입은:\", type(int_7))"
      ]
    },
    {
      "cell_type": "code",
      "execution_count": 3,
      "metadata": {
        "id": "9hijqJGBKEQd"
      },
      "outputs": [],
      "source": [
        "# 3) 'int_7' 변수를 숫자로 변환하여 저장\n",
        "int_7 = int(int_7)"
      ]
    },
    {
      "cell_type": "code",
      "execution_count": 4,
      "metadata": {
        "id": "BBJYgv9vKLFw"
      },
      "outputs": [
        {
          "name": "stdout",
          "output_type": "stream",
          "text": [
            "7 의 타입은: <class 'int'>\n"
          ]
        }
      ],
      "source": [
        "# 4) 'int_7' 변수의 타입 출력\n",
        "print(int_7, \"의 타입은:\", type(int_7))"
      ]
    },
    {
      "cell_type": "markdown",
      "metadata": {
        "id": "wSigHfBTKLl6"
      },
      "source": [
        "## **2. 입출력 문제 (2)**\n",
        "\n",
        "* 파일 입출력 - 쓰기 모드\n",
        "\n"
      ]
    },
    {
      "cell_type": "code",
      "execution_count": 5,
      "metadata": {
        "id": "jVfjAMExKMsa"
      },
      "outputs": [],
      "source": [
        "# 1) 'inputOutput.txt' 파일을 '쓰기' 모드로 열어서 'myFile' 객체에 저장\n",
        "myFile = open(\"inputOuput.txt\", \"w\")"
      ]
    },
    {
      "cell_type": "code",
      "execution_count": 7,
      "metadata": {
        "id": "oHnNIIUmKOxI"
      },
      "outputs": [],
      "source": [
        "# 2) myFile 객체에 쓰기 함수를 이용하여 \"Input! \\n Output!\" 문자열 입력\n",
        "myFile = open(\"inputOuput.txt\", \"w\")\n",
        "\n",
        "myFile.write(\"Input! \\n Output!\")\n",
        "\n",
        "# 3) myFile 객체를 파일 닫기 함수를 이용하여 닫기\n",
        "myFile.close()\n"
      ]
    },
    {
      "cell_type": "markdown",
      "metadata": {
        "id": "HcQAooJMKR8D"
      },
      "source": [
        "## **3. 입출력 문제 (3)**\n",
        "\n",
        "* 파일 입출력 - 읽기 모드\n",
        "\n"
      ]
    },
    {
      "cell_type": "code",
      "execution_count": 8,
      "metadata": {
        "id": "x6a5DtcsKTLh"
      },
      "outputs": [],
      "source": [
        "# 1) inputOutput.txt 파일을 읽기 모드로 열어서 read_file 객체에 저장\n",
        "read_file = open(\"inputOuput.txt\", \"r\")"
      ]
    },
    {
      "cell_type": "code",
      "execution_count": 10,
      "metadata": {
        "id": "SydKll3TKU98"
      },
      "outputs": [
        {
          "name": "stdout",
          "output_type": "stream",
          "text": [
            "Output!\n"
          ]
        }
      ],
      "source": [
        "# 2) read_file 객체에서 텍스트를 한 줄씩 읽어서 반환해주는 함수를 이용하여 줄 바꿈 문자 제거하여 출력\n",
        "text_strip = read_file.readline().strip()\n",
        "print(text_strip)"
      ]
    }
  ],
  "metadata": {
    "colab": {
      "provenance": [],
      "toc_visible": true
    },
    "kernelspec": {
      "display_name": "Python 3",
      "name": "python3"
    },
    "language_info": {
      "codemirror_mode": {
        "name": "ipython",
        "version": 3
      },
      "file_extension": ".py",
      "mimetype": "text/x-python",
      "name": "python",
      "nbconvert_exporter": "python",
      "pygments_lexer": "ipython3",
      "version": "3.11.7"
    }
  },
  "nbformat": 4,
  "nbformat_minor": 0
}
