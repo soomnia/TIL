{
 "cells": [
  {
   "cell_type": "markdown",
   "metadata": {},
   "source": [
    "# 파이썬 기본기 다지기\n",
    "> 클래스"
   ]
  },
  {
   "cell_type": "markdown",
   "metadata": {},
   "source": [
    "## 객체 지향 프로그래밍\n",
    "Object Oriented Programming<br>\n",
    "프로그램을 여러 개의 독립적 기본 단위 '객체'로 나누어 '객체'들의 상호작용으로 프로그램을 설계 및 개발\n",
    "\n",
    "* 장점\n",
    "    * 코드 재사용 용이\n",
    "    * 유지보수 용이\n",
    "\n",
    "* 단점\n",
    "    * 상대적으로 느린 실행 속도\n",
    "    * 객체가 많을수록 프로그램 용량 증가\n",
    "    * 설계 시 시간 소요\n",
    "\n",
    "\n",
    "### 클래스\n",
    "객체를 만들기 위한 도안\n",
    "\n",
    "### 객체\n",
    "클래스로 만들어진 모든 것\n",
    "* 객체마다 고유한 성질을 가짐\n",
    "* 객체들은 서로 영향을 끼치지 않음"
   ]
  },
  {
   "cell_type": "code",
   "execution_count": 19,
   "metadata": {},
   "outputs": [],
   "source": [
    "class TeddyBearJelly:\n",
    "    pass"
   ]
  },
  {
   "cell_type": "markdown",
   "metadata": {},
   "source": [
    "### 객체와 인스턴스\n",
    "* 객체<br>\n",
    "red_bear = TeddyBearJelly() 를 통해 만든 red_bear는 객체이다.\n",
    "\n",
    "\n",
    "* 인스턴스<br>\n",
    "특정 객체가 어떤 클래스의 객체인지 관계 위주로 설명할 때 사용<br>\n",
    "red_bear은 TeddyBearJelly의 인스턴스<br>\n",
    "클래스 기반으로 만들어진 객체를 인스턴스라고 부름\n"
   ]
  },
  {
   "cell_type": "code",
   "execution_count": 20,
   "metadata": {},
   "outputs": [],
   "source": [
    "# 객체 생성\n",
    "# 각 bear들은 TeddyBearJelly의 인스턴스\n",
    "red_bear = TeddyBearJelly()\n",
    "green_bear = TeddyBearJelly()\n",
    "yellow_bear = TeddyBearJelly()"
   ]
  },
  {
   "cell_type": "markdown",
   "metadata": {},
   "source": [
    "### 메소드\n",
    "클래스가 갖고 있는 함수\n",
    "* 클래스 내부 함수의 첫 번째 매개변수로 반드시 <b>self</b> 입력\n",
    "* 객체를 호출할 때 호출한 객체 자신 == self를 전달해야하기 때문"
   ]
  },
  {
   "cell_type": "code",
   "execution_count": 21,
   "metadata": {},
   "outputs": [],
   "source": [
    "class TeddyBearJelly:\n",
    "    def set_info(self, color, taste):\n",
    "        self.color = color\n",
    "        self.taste = taste\n",
    "\n",
    "    def print_info(self):\n",
    "        print('*' * 10)\n",
    "        print(\"color:\", self.color)\n",
    "        print(\"taste:\", self.taste)\n",
    "        print('*' * 10)"
   ]
  },
  {
   "cell_type": "code",
   "execution_count": 22,
   "metadata": {},
   "outputs": [],
   "source": [
    "# 젤리 객체 선언\n",
    "yellow_bear = TeddyBearJelly()\n",
    "\n",
    "## yellow_bear는 객체이고, TeddyBearJelly의 인스턴스(관계)이다."
   ]
  },
  {
   "cell_type": "code",
   "execution_count": 23,
   "metadata": {},
   "outputs": [
    {
     "name": "stdout",
     "output_type": "stream",
     "text": [
      "yellow\n",
      "lemonn\n",
      "**********\n",
      "color: yellow\n",
      "taste: lemonn\n",
      "**********\n"
     ]
    }
   ],
   "source": [
    "yellow_bear.set_info(\"yellow\", \"lemonn\")\n",
    "\n",
    "## 속성에 접근\n",
    "print(yellow_bear.color)\n",
    "print(yellow_bear.taste)\n",
    "\n",
    "yellow_bear.print_info()"
   ]
  },
  {
   "cell_type": "markdown",
   "metadata": {},
   "source": [
    "### 생성자 constructor\n",
    "클래스로부터 인스턴스가 생성될 때 자동으로 실행되는 함수\n",
    "* 가장 먼저 생성자인 \\_\\_init\\_\\_ 함수를 호출\n",
    "    * 인스턴스 생성과 동시에 필요한 정보를 입력 받도록 함\n",
    "```python\n",
    "class 클래스명:\n",
    "    def __init__(self, 매개변수):\n",
    "        pass\n",
    "``` "
   ]
  },
  {
   "cell_type": "code",
   "execution_count": 24,
   "metadata": {},
   "outputs": [],
   "source": [
    "class TeddyBearJelly:\n",
    "    def __init__(self, color, taste):\n",
    "        self.color = color\n",
    "        self.taste = taste\n",
    "\n",
    "    def print_info(self):\n",
    "        print('*' * 10)\n",
    "        print(\"color:\", self.color)\n",
    "        print(\"taste:\", self.taste)\n",
    "        print('*' * 10)"
   ]
  },
  {
   "cell_type": "code",
   "execution_count": 25,
   "metadata": {},
   "outputs": [],
   "source": [
    "## 젤리 리스트 선언\n",
    "bears = [\n",
    "    TeddyBearJelly(\"red\", \"strawberry\"),\n",
    "    TeddyBearJelly(\"yellow\", \"lemon\"),\n",
    "    TeddyBearJelly(\"green\", \"apple\")\n",
    "]"
   ]
  },
  {
   "cell_type": "code",
   "execution_count": 26,
   "metadata": {},
   "outputs": [
    {
     "name": "stdout",
     "output_type": "stream",
     "text": [
      "red\n",
      "strawberry\n"
     ]
    }
   ],
   "source": [
    "print(bears[0].color)\n",
    "print(bears[0].taste)"
   ]
  },
  {
   "cell_type": "markdown",
   "metadata": {},
   "source": [
    "### 상속 inheritance\n",
    "새로운 클래스를 만들 때 기존의 클래스의 것을 물려 받을 수 있음<br>\n",
    "\n",
    "왜 쓸까요?\n",
    "1. 기존 클래스를 변경하지 않고 기능 추가|변경\n",
    "2. 기존 클래스가 라이브러리 형태로 제공되거나 수정이 허용되지 않을 때 사용\n",
    "\n",
    "\n",
    "* 상위 클래스 - 부모 클래스 super class\n",
    "* 하위 클래스 - 자식 클래스 sub class\n",
    "\n",
    "#### 상속 선언\n",
    "자식 클래스 선언 시 소괄호 안에 부모 클래스 포함 --> 부모 클래스의 속성, 메소드를 자동 포함하게 됨\n",
    "\n",
    "#### 메소드 오버라이딩\n",
    "부모 클래스의 메소드를 자식 클래스에서 재정의\n",
    "* 일반적인 메소드 오버라이딩:<br>\n",
    "자식 클래스에서 생성된 것을 호출하면 부모의 것은 무시됨\n",
    "* 부모 메소드 호출<br>\n",
    "자식 클래스 메소드와 별개로 부모 클래스의 메소드도 수행하고 싶다면 super() 키워드를 사용"
   ]
  },
  {
   "cell_type": "code",
   "execution_count": 27,
   "metadata": {},
   "outputs": [],
   "source": [
    "# 부모 클래스 선언\n",
    "class Jelly:\n",
    "    def __init__(self, color, taste):\n",
    "        self.color = color\n",
    "        self.taste = taste\n",
    "    \n",
    "    def print_info(self):\n",
    "        print(\"부모 클래스요.\")\n",
    "        print(\"젤리!\")\n",
    "\n",
    "# 자식 클래스 선언 \n",
    "# 자식 클래스를 선언할 때 소괄호로 부모 클래스를 포함\n",
    "# 일반적인 메소드 오버라이딩\n",
    "# 자식 클래스에서 생성된 메소드로 부모 클래스의 메소드 무시\n",
    "class TeddyBearJelly(Jelly):\n",
    "    def print_info(self):\n",
    "        print(\"자식입니다.\")\n",
    "        print(\"곰돌이 젤리!\")\n",
    "        print(\"color:\", self.color)\n",
    "        print(\"taste:\", self.taste)\n",
    "\n",
    "# 자식 클래스 선언\n",
    "# 자식 클래스를 선언할 때 소괄호로 부모클래스를 포함\n",
    "# 부모 메소드 호출\n",
    "# super() 키워드를 사용하여 자식 클래스에서 부모 클래스 호출 가능\n",
    "class HeartJelly(Jelly):\n",
    "    def print_info(self):\n",
    "        super().print_info()\n",
    "        print('*' * 10)\n",
    "        print(\"자식입니다.\")\n",
    "        print(\"하트 젤리!\")\n",
    "        print(\"color:\", self.color)\n",
    "        print(\"taste:\", self.taste)"
   ]
  },
  {
   "cell_type": "code",
   "execution_count": 28,
   "metadata": {},
   "outputs": [
    {
     "name": "stdout",
     "output_type": "stream",
     "text": [
      "부모 클래스요.\n",
      "젤리!\n",
      "----------\n",
      "자식입니다.\n",
      "곰돌이 젤리!\n",
      "color: yellow\n",
      "taste: lemon\n",
      "----------\n",
      "부모 클래스요.\n",
      "젤리!\n",
      "**********\n",
      "자식입니다.\n",
      "하트 젤리!\n",
      "color: red\n",
      "taste: strawberry\n",
      "----------\n"
     ]
    }
   ],
   "source": [
    "# 부모 클래스 객체 생성\n",
    "green_jelly = Jelly(\"green\", \"apple\")\n",
    "green_jelly.print_info()\n",
    "\n",
    "print(\"-\" * 10)\n",
    "\n",
    "# 자식 클래스로 객체 생성 1\n",
    "yellow_jelly = TeddyBearJelly(\"yellow\", \"lemon\")\n",
    "yellow_jelly.print_info()\n",
    "\n",
    "print(\"-\" * 10)\n",
    "\n",
    "# 자식 클래스로 객체 생성 2\n",
    "red_jelly = HeartJelly(\"red\", \"strawberry\")\n",
    "red_jelly.print_info()\n",
    "\n",
    "print(\"-\" * 10)"
   ]
  },
  {
   "cell_type": "markdown",
   "metadata": {},
   "source": [
    "#### 다중 상속\n",
    "자식 클래스를 선언할 때 소괄호로 원하는 부모 클래스 모두 포함 <- 개수 제한 없음!\n",
    "\n",
    "```python\n",
    "    class 부모 클래스1:\n",
    "          pass\n",
    "\n",
    "    class 부모 클래스2:\n",
    "          pass\n",
    "\n",
    "    class 자식 클래스(부모 클래스1, 부모 클래스2):\n",
    "          pass\n",
    "```"
   ]
  }
 ],
 "metadata": {
  "kernelspec": {
   "display_name": "base",
   "language": "python",
   "name": "python3"
  },
  "language_info": {
   "codemirror_mode": {
    "name": "ipython",
    "version": 3
   },
   "file_extension": ".py",
   "mimetype": "text/x-python",
   "name": "python",
   "nbconvert_exporter": "python",
   "pygments_lexer": "ipython3",
   "version": "3.11.7"
  }
 },
 "nbformat": 4,
 "nbformat_minor": 2
}
