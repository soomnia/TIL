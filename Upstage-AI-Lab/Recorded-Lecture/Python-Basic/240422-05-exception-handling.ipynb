{
 "cells": [
  {
   "cell_type": "markdown",
   "metadata": {},
   "source": [
    "# 파이썬 기초 다지기\n",
    "> 예외 처리(오류, 예외처리기법)"
   ]
  },
  {
   "cell_type": "markdown",
   "metadata": {},
   "source": [
    "## 구문 오류\n",
    "프로그램 실행 전 발생하는 오류\n",
    "* 조건문, 반복문의 들여쓰기, 괄호 개수 등\n",
    "\n",
    "프로그램이 실행조차 되지 않기 때문에 해당 구문을 바로 수정해야 함"
   ]
  },
  {
   "cell_type": "markdown",
   "metadata": {},
   "source": [
    "## 예외 - 런타임 오류\n",
    "프로그램 실행 중 발생하는 오류 --> 예외 처리를 통해 해결할 수 있음\n",
    "\n",
    "## 예외 처리 기법\n",
    "### try - except\n",
    "* try<br>\n",
    "예외 발생 가능성이 있는 코드 삽입\n",
    "* except<br>\n",
    "예외 발생했을 때 실행할 코드 삽입\n",
    "    * except 안에 `pass` 키워드 사용 시 강제 종료를 막을 수 있음"
   ]
  },
  {
   "cell_type": "code",
   "execution_count": 1,
   "metadata": {},
   "outputs": [
    {
     "name": "stdout",
     "output_type": "stream",
     "text": [
      "예외가 발생했습니다.\n"
     ]
    }
   ],
   "source": [
    "myList = [1, 2, 3, 4]\n",
    "\n",
    "try:\n",
    "    myList[7]\n",
    "except:\n",
    "    print(\"예외가 발생했습니다.\")"
   ]
  },
  {
   "cell_type": "code",
   "execution_count": 3,
   "metadata": {},
   "outputs": [],
   "source": [
    "myList = [1, 2, 3, 4]\n",
    "\n",
    "try:\n",
    "    myList[7]\n",
    "except:\n",
    "    # 런타임 오류로 인한 강제 종료 없이 실행 종료됨\n",
    "    pass"
   ]
  },
  {
   "cell_type": "markdown",
   "metadata": {},
   "source": [
    "### try - except - else\n",
    "* try<br>\n",
    "예외 발생 가능성이 있는 코드 삽입\n",
    "* except<br>\n",
    "예외 발생했을 때 실행할 코드 삽입\n",
    "* else<br>\n",
    "예외가 발생하지 않았을 때 실행할 코드 삽입"
   ]
  },
  {
   "cell_type": "code",
   "execution_count": 4,
   "metadata": {},
   "outputs": [
    {
     "name": "stdout",
     "output_type": "stream",
     "text": [
      "예외 발생\n"
     ]
    }
   ],
   "source": [
    "try:\n",
    "    Number = int(input(\"숫자를 입력하세요.\"))\n",
    "except:\n",
    "    print(\"예외 발생\")\n",
    "else:\n",
    "    print(\"입력한 숫자는\", Number, \"입니다.\")"
   ]
  },
  {
   "cell_type": "code",
   "execution_count": 5,
   "metadata": {},
   "outputs": [
    {
     "name": "stdout",
     "output_type": "stream",
     "text": [
      "입력한 숫자는 78 입니다.\n"
     ]
    }
   ],
   "source": [
    "try:\n",
    "    Number = int(input(\"숫자를 입력하세요.\"))\n",
    "except:\n",
    "    print(\"예외 발생\")\n",
    "else:\n",
    "    print(\"입력한 숫자는\", Number, \"입니다.\")"
   ]
  },
  {
   "cell_type": "markdown",
   "metadata": {},
   "source": [
    "### try - except - else\n",
    "* try<br>\n",
    "예외 발생 가능성이 있는 코드 삽입\n",
    "* except<br>\n",
    "예외 발생했을 때 실행할 코드 삽입\n",
    "* finally<br>\n",
    "예외 발생 여부와 상관 없이 무조건 실행할 코드 삽입"
   ]
  },
  {
   "cell_type": "code",
   "execution_count": 6,
   "metadata": {},
   "outputs": [
    {
     "name": "stdout",
     "output_type": "stream",
     "text": [
      "예외 발생\n",
      "끝!\n"
     ]
    }
   ],
   "source": [
    "try:\n",
    "    Number = int(input(\"숫자를 입력하세요.\"))\n",
    "except:\n",
    "    print(\"예외 발생\")\n",
    "finally:\n",
    "    print(\"끝!\")"
   ]
  },
  {
   "cell_type": "code",
   "execution_count": 7,
   "metadata": {},
   "outputs": [
    {
     "name": "stdout",
     "output_type": "stream",
     "text": [
      "끝!\n"
     ]
    }
   ],
   "source": [
    "try:\n",
    "    Number = int(input(\"숫자를 입력하세요.\"))\n",
    "except:\n",
    "    print(\"예외 발생\")\n",
    "finally:\n",
    "    print(\"끝!\")"
   ]
  },
  {
   "cell_type": "markdown",
   "metadata": {},
   "source": [
    "### try - excepy - else - finally\n",
    "* try<br>\n",
    "예외 발생 가능성이 있는 코드 삽입\n",
    "* except<br>\n",
    "예외 발생했을 때 실행할 코드 삽입\n",
    "* else<br>\n",
    "예외가 발생하지 않았을 때 실행할 코드 삽입\n",
    "* finally<br>\n",
    "예외 발생 여부와 상관 없이 무조건 실행할 코드 삽입"
   ]
  },
  {
   "cell_type": "code",
   "execution_count": 8,
   "metadata": {},
   "outputs": [
    {
     "name": "stdout",
     "output_type": "stream",
     "text": [
      "예외 발생\n",
      "끝!\n"
     ]
    }
   ],
   "source": [
    "try:\n",
    "    Number = int(input(\"숫자를 입력하세요.\"))\n",
    "except:\n",
    "    print(\"예외 발생\")\n",
    "else:\n",
    "    print(\"입력한 숫자는\", Number, \"입니다.\")\n",
    "finally:\n",
    "    print(\"끝!\")"
   ]
  },
  {
   "cell_type": "code",
   "execution_count": 9,
   "metadata": {},
   "outputs": [
    {
     "name": "stdout",
     "output_type": "stream",
     "text": [
      "입력한 숫자는 78 입니다.\n",
      "끝!\n"
     ]
    }
   ],
   "source": [
    "try:\n",
    "    Number = int(input(\"숫자를 입력하세요.\"))\n",
    "except:\n",
    "    print(\"예외 발생\")\n",
    "else:\n",
    "    print(\"입력한 숫자는\", Number, \"입니다.\")\n",
    "finally:\n",
    "    print(\"끝!\")"
   ]
  }
 ],
 "metadata": {
  "kernelspec": {
   "display_name": "base",
   "language": "python",
   "name": "python3"
  },
  "language_info": {
   "codemirror_mode": {
    "name": "ipython",
    "version": 3
   },
   "file_extension": ".py",
   "mimetype": "text/x-python",
   "name": "python",
   "nbconvert_exporter": "python",
   "pygments_lexer": "ipython3",
   "version": "3.11.7"
  }
 },
 "nbformat": 4,
 "nbformat_minor": 2
}
