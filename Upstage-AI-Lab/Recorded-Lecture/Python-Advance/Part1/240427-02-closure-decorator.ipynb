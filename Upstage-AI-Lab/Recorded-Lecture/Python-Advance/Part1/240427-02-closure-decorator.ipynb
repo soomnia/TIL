{
 "cells": [
  {
   "cell_type": "markdown",
   "metadata": {},
   "source": [
    "# 파이썬 라이브러리를 활용한 기초 프로젝트\n",
    "> 인코딩과 디코딩"
   ]
  },
  {
   "cell_type": "markdown",
   "metadata": {},
   "source": [
    "## **클로저 (Closure)**\n",
    "- 함수 안의 함수를 결과로 반환할 때, 그 **내부 함수 == `클로저(Closure)`**\n",
    "- 사용되는 곳\n",
    "  - 콜백(Callback) 함수에 사용\n",
    "  - 함수의 순차적 실행\n",
    "  - 데코레이터 함수"
   ]
  },
  {
   "cell_type": "code",
   "execution_count": 3,
   "metadata": {},
   "outputs": [],
   "source": [
    "# 받은 수에 3을 곱하는 함수\n",
    "def mul3(n):\n",
    "    return n * 3\n",
    "\n",
    "# 받은 수에 5를 곱하는 함수\n",
    "def mul5(n):\n",
    "    return n * 5\n",
    "\n",
    "# ... 이런 식으로 함수를 늘려나가야 할까?"
   ]
  },
  {
   "cell_type": "markdown",
   "metadata": {},
   "source": [
    "### 1. Class 사용하기\n"
   ]
  },
  {
   "cell_type": "code",
   "execution_count": 4,
   "metadata": {},
   "outputs": [],
   "source": [
    "class Mul:\n",
    "    def __init__(self, m):\n",
    "        self.m = m\n",
    "\n",
    "    def mul(self, n):\n",
    "        return self.m * n"
   ]
  },
  {
   "cell_type": "code",
   "execution_count": 5,
   "metadata": {},
   "outputs": [
    {
     "name": "stdout",
     "output_type": "stream",
     "text": [
      "30\n",
      "50\n"
     ]
    }
   ],
   "source": [
    "# 모듈을 실행시킬 때 사용하는 구문\n",
    "# namespace에 main을 가진 모듈이라면 아래 내용을 실행하라는 뜻\n",
    "if __name__ == \"__main__\":\n",
    "    mul3 = Mul(3) # 3으로 init\n",
    "    mul5 = Mul(5) # 5로 init\n",
    "\n",
    "    print(mul3.mul(10))  # mul(n)\n",
    "    print(mul5.mul(10))  # mul(n)"
   ]
  },
  {
   "cell_type": "code",
   "execution_count": 7,
   "metadata": {},
   "outputs": [],
   "source": [
    "class Mul:\n",
    "    def __init__(self, m):\n",
    "        self.m = m\n",
    "\n",
    "    # 객체가 호출될 때 자동적으로 실행되는 구문\n",
    "    def __call__(self, n):   # mul 함수를 __call__ 함수명으로 변경\n",
    "        return self.m * n"
   ]
  },
  {
   "cell_type": "code",
   "execution_count": 8,
   "metadata": {},
   "outputs": [
    {
     "name": "stdout",
     "output_type": "stream",
     "text": [
      "30\n",
      "50\n"
     ]
    }
   ],
   "source": [
    "if __name__ == \"__main__\":\n",
    "    mul3 = Mul(3)\n",
    "    mul5 = Mul(5)\n",
    "\n",
    "    # 함수를 달리 명시하지 않아도 같은 기능을 하는 것을 확인할 수 있다.\n",
    "    print(mul3(10)) \n",
    "    print(mul5(10)) "
   ]
  },
  {
   "cell_type": "markdown",
   "metadata": {},
   "source": [
    "### 2. 클로저 closure 사용하기\n",
    "내부 함수"
   ]
  },
  {
   "cell_type": "code",
   "execution_count": 9,
   "metadata": {},
   "outputs": [],
   "source": [
    "def mul(m):           # 외부 함수\n",
    "    def wrapper(n):   # 내부 함수 (클로저)\n",
    "        return m * n\n",
    "    return wrapper"
   ]
  },
  {
   "cell_type": "code",
   "execution_count": 10,
   "metadata": {},
   "outputs": [
    {
     "name": "stdout",
     "output_type": "stream",
     "text": [
      "30\n",
      "50\n"
     ]
    }
   ],
   "source": [
    "if __name__ == \"__main__\":\n",
    "    mul3 = mul(3)    # m = 3 인 wrapper(n) mul3 에 저장 \n",
    "    mul5 = mul(5)    # m = 5 인 wrapper(n) mul5 에 저장\n",
    "\n",
    "    print(mul3(10))  # m = 3, n = 10 인 wrapper 함수가 실행\n",
    "    print(mul5(10))  # m = 5, n = 10 인 wrapper 함수가 실행"
   ]
  },
  {
   "cell_type": "markdown",
   "metadata": {},
   "source": [
    "## **데코레이터 (Decorator)**\n",
    "- **함수를 꾸며주는 함수**\n",
    "- **함수 자체를**를 **인수**로 받는 **클로저**\n",
    "- @를 어노테이션으로 사용\n",
    "- 사용되는 곳\n",
    "  - 반복되는 작업을 여러 함수에 적용할 경우\n",
    "  - 기존 함수를 수정하지 않고 추가 기능을 구현하고 싶을 경우"
   ]
  },
  {
   "cell_type": "code",
   "execution_count": 11,
   "metadata": {},
   "outputs": [],
   "source": [
    "import time\n",
    "\n",
    "def func1(a, b):\n",
    "    start = time.time()\n",
    "    print(\"함수가 실행됩니다.\")\n",
    "    \n",
    "    val = a + b\n",
    "    \n",
    "    end = time.time()\n",
    "    print(\"함수 수행시간: %f 초\" % (end-start))\n",
    "    \n",
    "    return val"
   ]
  },
  {
   "cell_type": "code",
   "execution_count": 12,
   "metadata": {},
   "outputs": [
    {
     "name": "stdout",
     "output_type": "stream",
     "text": [
      "함수가 실행됩니다.\n",
      "함수 수행시간: 0.000024 초\n",
      "3\n"
     ]
    }
   ],
   "source": [
    "if __name__ == \"__main__\":\n",
    "    result = func1(1, 2)\n",
    "    print(result)"
   ]
  },
  {
   "cell_type": "code",
   "execution_count": 13,
   "metadata": {},
   "outputs": [],
   "source": [
    "def func2(a, b):\n",
    "    start = time.time()\n",
    "    print(\"함수가 실행됩니다.\")\n",
    "    \n",
    "    val = a * b\n",
    "    \n",
    "    end = time.time()\n",
    "    print(\"함수 수행시간: %f 초\" % (end-start))\n",
    "    \n",
    "    return val"
   ]
  },
  {
   "cell_type": "code",
   "execution_count": 14,
   "metadata": {},
   "outputs": [
    {
     "name": "stdout",
     "output_type": "stream",
     "text": [
      "함수가 실행됩니다.\n",
      "함수 수행시간: 0.000018 초\n",
      "2\n"
     ]
    }
   ],
   "source": [
    "if __name__ == \"__main__\":\n",
    "    result = func2(1, 2)\n",
    "    print(result)"
   ]
  },
  {
   "cell_type": "markdown",
   "metadata": {},
   "source": [
    "기능에서 차이가 나는 건 val을 계산하는 부분 뿐, 나머지는 겹친다. <br>\n",
    "효율적인 코드를 위해 데코레이터를 사용해보자."
   ]
  },
  {
   "cell_type": "code",
   "execution_count": 15,
   "metadata": {},
   "outputs": [],
   "source": [
    "def func1(a, b):\n",
    "    val = a + b   \n",
    "    return val\n",
    "\n",
    "def func2(a, b):\n",
    "    val = a * b   \n",
    "    return val"
   ]
  },
  {
   "cell_type": "code",
   "execution_count": 16,
   "metadata": {},
   "outputs": [],
   "source": [
    "''' 실행 시간 측정 데코레이터 '''\n",
    "# 함수 func을 매개변수로 사용\n",
    "def elapsed(func):\n",
    "    def wrapper(a, b):\n",
    "        print('함수가 실행됩니다.')\n",
    "        start = time.time()\n",
    "        # 인수로 받은 func을 실행\n",
    "        result = func(a, b)\n",
    "        end = time.time()\n",
    "        print(\"함수 수행시간: %f 초\" % (end - start))\n",
    "        return result\n",
    "    return wrapper"
   ]
  },
  {
   "cell_type": "code",
   "execution_count": 17,
   "metadata": {},
   "outputs": [
    {
     "name": "stdout",
     "output_type": "stream",
     "text": [
      "함수가 실행됩니다.\n",
      "함수 수행시간: 0.000001 초\n",
      "3\n"
     ]
    }
   ],
   "source": [
    "if __name__ == \"__main__\":\n",
    "    deco1 = elapsed(func1)\n",
    "    result = deco1(1,2)\n",
    "    print(result)"
   ]
  },
  {
   "cell_type": "code",
   "execution_count": 18,
   "metadata": {},
   "outputs": [
    {
     "name": "stdout",
     "output_type": "stream",
     "text": [
      "함수가 실행됩니다.\n",
      "함수 수행시간: 0.000000 초\n",
      "2\n"
     ]
    }
   ],
   "source": [
    "if __name__ == \"__main__\":\n",
    "    deco2 = elapsed(func2)\n",
    "    result = deco2(1,2)\n",
    "    print(result)"
   ]
  },
  {
   "cell_type": "markdown",
   "metadata": {},
   "source": [
    "위에서 어노테이션을 사용하면, 코드를 더 줄일 수 있다.<br>\n",
    "함수를 정의할 때 어노테이션으로 데코레이터를 명시함"
   ]
  },
  {
   "cell_type": "code",
   "execution_count": 19,
   "metadata": {},
   "outputs": [],
   "source": [
    "@elapsed\n",
    "def func1(a, b):\n",
    "    val = a + b   \n",
    "    return val\n",
    "\n",
    "@elapsed\n",
    "def func2(a, b):\n",
    "    val = a * b   \n",
    "    return val"
   ]
  },
  {
   "cell_type": "code",
   "execution_count": 20,
   "metadata": {},
   "outputs": [
    {
     "name": "stdout",
     "output_type": "stream",
     "text": [
      "함수가 실행됩니다.\n",
      "함수 수행시간: 0.000001 초\n",
      "3\n"
     ]
    }
   ],
   "source": [
    "if __name__ == \"__main__\":\n",
    "    result = func1(1,2)\n",
    "    print(result)"
   ]
  },
  {
   "cell_type": "code",
   "execution_count": 21,
   "metadata": {},
   "outputs": [
    {
     "name": "stdout",
     "output_type": "stream",
     "text": [
      "함수가 실행됩니다.\n",
      "함수 수행시간: 0.000001 초\n",
      "2\n"
     ]
    }
   ],
   "source": [
    "if __name__ == \"__main__\":\n",
    "    result = func2(1,2)\n",
    "    print(result)"
   ]
  }
 ],
 "metadata": {
  "kernelspec": {
   "display_name": "base",
   "language": "python",
   "name": "python3"
  },
  "language_info": {
   "codemirror_mode": {
    "name": "ipython",
    "version": 3
   },
   "file_extension": ".py",
   "mimetype": "text/x-python",
   "name": "python",
   "nbconvert_exporter": "python",
   "pygments_lexer": "ipython3",
   "version": "3.11.7"
  }
 },
 "nbformat": 4,
 "nbformat_minor": 2
}
