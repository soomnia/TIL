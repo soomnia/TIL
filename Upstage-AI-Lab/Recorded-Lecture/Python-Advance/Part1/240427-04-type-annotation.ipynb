{
 "cells": [
  {
   "cell_type": "markdown",
   "metadata": {},
   "source": [
    "# 파이썬 라이브러리를 활용한 기초 프로젝트\n",
    "> 변수 타입 어노테이션"
   ]
  },
  {
   "cell_type": "markdown",
   "metadata": {},
   "source": [
    "## **타입 어노테이션 (Type Annotation)**\n",
    "- 변수나 상수를 선언할 때 그 타입을 명시적으로 선언 **어떤 타입의 값이 저장될 것인지** 명시\n",
    "- 사용 시, **코드 가독성**과 **협업 효율성**이 높아짐\n",
    "- Python 3.5 부터 기능이 지원됨\n",
    "- 기본적으로 파이썬은 프로그램 실행 도중 변수 타입을 동적으로 바꿀 수 있는 **`동적 프로그래밍 언어(dynamic programming language)`**\n",
    "\n",
    "### 💡**동적 프로그래밍 언어의 장단점**\n",
    "- 장점\n",
    "   - 타입에 자유로워 유연한 코딩이 가능하므로 쉽고 빠르게 프로그램을 만들 수 있음\n",
    "   - 타입 체크를 위한 코드가 없으므로 비교적 깔끔한 소스 코드\n",
    "- 단점\n",
    "   - 프로젝트의 규모가 커질수록 잘못된 타입 사용으로 말미암은 버그가 생길 확률 높아짐\n",
    "   - 타입 어노테이션이 없을 시, 정적 프로그래밍 언어와 협업 중 타입 버그 발생 시 원인 찾기 어려움\n",
    "   - 실시간으로 타입을 바꾸므로, 실행속도가 느림"
   ]
  },
  {
   "cell_type": "code",
   "execution_count": 1,
   "metadata": {},
   "outputs": [
    {
     "data": {
      "text/plain": [
       "int"
      ]
     },
     "execution_count": 1,
     "metadata": {},
     "output_type": "execute_result"
    }
   ],
   "source": [
    "# Python\n",
    "a = int(1)\n",
    "type(a)"
   ]
  },
  {
   "cell_type": "code",
   "execution_count": 2,
   "metadata": {},
   "outputs": [
    {
     "data": {
      "text/plain": [
       "str"
      ]
     },
     "execution_count": 2,
     "metadata": {},
     "output_type": "execute_result"
    }
   ],
   "source": [
    "a = str(\"1\")\n",
    "type(a)"
   ]
  },
  {
   "cell_type": "code",
   "execution_count": 3,
   "metadata": {},
   "outputs": [],
   "source": [
    "# 파이썬 타입 어노테이션\n",
    "a: int = 10"
   ]
  },
  {
   "cell_type": "code",
   "execution_count": 4,
   "metadata": {},
   "outputs": [
    {
     "name": "stdout",
     "output_type": "stream",
     "text": [
      "10\n",
      "<class 'int'>\n"
     ]
    }
   ],
   "source": [
    "print(a)\n",
    "print(type(a))"
   ]
  },
  {
   "cell_type": "code",
   "execution_count": 5,
   "metadata": {},
   "outputs": [],
   "source": [
    "## -> return되는 것의 타입 지정\n",
    "def add(a: int, b: int) -> int: \n",
    "    return a + b"
   ]
  },
  {
   "cell_type": "code",
   "execution_count": 7,
   "metadata": {},
   "outputs": [
    {
     "data": {
      "text/plain": [
       "int"
      ]
     },
     "execution_count": 7,
     "metadata": {},
     "output_type": "execute_result"
    }
   ],
   "source": [
    "type(add(1, 2))"
   ]
  },
  {
   "cell_type": "code",
   "execution_count": 9,
   "metadata": {},
   "outputs": [
    {
     "name": "stdout",
     "output_type": "stream",
     "text": [
      "12\n",
      "<class 'str'>\n"
     ]
    }
   ],
   "source": [
    "# 에러가 발생하지는 않음\n",
    "print(add(\"1\", \"2\"))\n",
    "print(type(add(\"1\", \"2\")))"
   ]
  },
  {
   "cell_type": "code",
   "execution_count": 10,
   "metadata": {},
   "outputs": [
    {
     "data": {
      "text/plain": [
       "{'a': int, 'b': int, 'return': int}"
      ]
     },
     "execution_count": 10,
     "metadata": {},
     "output_type": "execute_result"
    }
   ],
   "source": [
    "# 타입 어노테이션 확인\n",
    "add.__annotations__"
   ]
  }
 ],
 "metadata": {
  "kernelspec": {
   "display_name": "base",
   "language": "python",
   "name": "python3"
  },
  "language_info": {
   "codemirror_mode": {
    "name": "ipython",
    "version": 3
   },
   "file_extension": ".py",
   "mimetype": "text/x-python",
   "name": "python",
   "nbconvert_exporter": "python",
   "pygments_lexer": "ipython3",
   "version": "3.11.7"
  }
 },
 "nbformat": 4,
 "nbformat_minor": 2
}
