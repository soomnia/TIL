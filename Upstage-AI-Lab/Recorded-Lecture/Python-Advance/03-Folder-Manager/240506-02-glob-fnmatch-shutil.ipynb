{
 "cells": [
  {
   "cell_type": "markdown",
   "metadata": {},
   "source": [
    "# 파일 찾기, 복사, 이동"
   ]
  },
  {
   "cell_type": "code",
   "execution_count": 18,
   "metadata": {},
   "outputs": [],
   "source": [
    "import os"
   ]
  },
  {
   "cell_type": "markdown",
   "metadata": {},
   "source": [
    "## `glob`\n",
    "패턴(확장자, 특정 단어 등)을 이용해 파일을 검색할 때 사용하는 모듈"
   ]
  },
  {
   "cell_type": "code",
   "execution_count": 1,
   "metadata": {},
   "outputs": [],
   "source": [
    "import glob"
   ]
  },
  {
   "cell_type": "markdown",
   "metadata": {},
   "source": [
    "### 파일 확장자로 찾기"
   ]
  },
  {
   "cell_type": "code",
   "execution_count": 3,
   "metadata": {},
   "outputs": [],
   "source": [
    "# 현재 경로에서 검색\n",
    "for filename in glob.glob(\"*.txt\"):\n",
    "    print(filename)\n",
    "\n",
    "## 없을 땐 아무 것도 출력되지 않음"
   ]
  },
  {
   "cell_type": "code",
   "execution_count": 4,
   "metadata": {},
   "outputs": [
    {
     "name": "stdout",
     "output_type": "stream",
     "text": [
      "sample/test1.txt\n",
      "sample/test2.txt\n",
      "sample/test3.txt\n"
     ]
    }
   ],
   "source": [
    "# 하위 경로에서 검색\n",
    "for filename in glob.glob(\"**/*.txt\"):\n",
    "    print(filename)"
   ]
  },
  {
   "cell_type": "code",
   "execution_count": 5,
   "metadata": {},
   "outputs": [
    {
     "name": "stdout",
     "output_type": "stream",
     "text": [
      "sample/test1.txt\n",
      "sample/test2.txt\n",
      "sample/test3.txt\n"
     ]
    }
   ],
   "source": [
    "# 현재 경로 + 하위 경로에서 검색\n",
    "for filename in glob.glob(\"**/*.txt\", recursive=True):\n",
    "    print(filename)"
   ]
  },
  {
   "cell_type": "markdown",
   "metadata": {},
   "source": [
    "### 파일명 글자수로 찾기"
   ]
  },
  {
   "cell_type": "code",
   "execution_count": 10,
   "metadata": {},
   "outputs": [
    {
     "name": "stdout",
     "output_type": "stream",
     "text": [
      "sample/list.pkl\n"
     ]
    }
   ],
   "source": [
    "for filename in glob.glob(\"**/????.*\", recursive=True):\n",
    "    print(filename)"
   ]
  },
  {
   "cell_type": "markdown",
   "metadata": {},
   "source": [
    "### 문자열 포함 파일명 찾기"
   ]
  },
  {
   "cell_type": "code",
   "execution_count": 11,
   "metadata": {},
   "outputs": [
    {
     "name": "stdout",
     "output_type": "stream",
     "text": [
      "sample/list.pkl\n"
     ]
    }
   ],
   "source": [
    "# a-z 중에 이루어진 네 글자 파일명 검색\n",
    "for filename in glob.glob(\"**/[a-z][a-z][a-z][a-z].*\", recursive=True):\n",
    "    print(filename)"
   ]
  },
  {
   "cell_type": "code",
   "execution_count": 17,
   "metadata": {},
   "outputs": [
    {
     "name": "stdout",
     "output_type": "stream",
     "text": [
      "sample/test1.txt\n",
      "sample/test2.txt\n",
      "sample/test3.txt\n"
     ]
    }
   ],
   "source": [
    "# test로 시작되는 문자열이 포함된 파일명 검색\n",
    "for filename in glob.glob(\"**/test*.*\", recursive=True):\n",
    "    print(filename)"
   ]
  },
  {
   "cell_type": "code",
   "execution_count": 15,
   "metadata": {},
   "outputs": [
    {
     "name": "stdout",
     "output_type": "stream",
     "text": [
      "sample/test1.txt\n",
      "sample/1test.txt\n",
      "sample/test2.txt\n",
      "sample/test3.txt\n"
     ]
    }
   ],
   "source": [
    "# test 문자열이 포함된 파일명 검색\n",
    "for filename in glob.glob(\"**/*test*.*\", recursive=True):\n",
    "    print(filename)"
   ]
  },
  {
   "cell_type": "markdown",
   "metadata": {},
   "source": [
    "## `fnmatch`\n",
    "- `glob`처럼 특정 패턴을 검색하는 모듈\n",
    "- 파일명 매칭 여부를 True, False로 반환하기 때문에 `os.listdir()` 함수와 함께 사용"
   ]
  },
  {
   "cell_type": "code",
   "execution_count": 19,
   "metadata": {},
   "outputs": [],
   "source": [
    "import fnmatch"
   ]
  },
  {
   "cell_type": "markdown",
   "metadata": {},
   "source": [
    "### 탐색 조건을 걸어 검색"
   ]
  },
  {
   "cell_type": "code",
   "execution_count": 20,
   "metadata": {},
   "outputs": [
    {
     "name": "stdout",
     "output_type": "stream",
     "text": [
      "test1.txt\n",
      "test2.txt\n",
      "test3.txt\n"
     ]
    }
   ],
   "source": [
    "# ./sample 경로에 있는 파일 중에서\n",
    "for filename in os.listdir('./sample'):\n",
    "    # t로 시작하는 네 글자 + [0-9]의 파일명을 가진 txt 파일이라면 출력\n",
    "    if fnmatch.fnmatch(filename, 't???[0-9].txt'):\n",
    "        print(filename)"
   ]
  },
  {
   "cell_type": "markdown",
   "metadata": {},
   "source": [
    "## `shutil`\n",
    "파일을 복사 및 이동할 때 사용하는 모듈\n",
    "- `copy`, `copy2` : 파일 복사\n",
    "\n",
    "- `move` : 파일 이동, 확장자 변경"
   ]
  },
  {
   "cell_type": "code",
   "execution_count": 21,
   "metadata": {},
   "outputs": [],
   "source": [
    "import shutil"
   ]
  },
  {
   "cell_type": "markdown",
   "metadata": {},
   "source": [
    "### 파일 복사하기"
   ]
  },
  {
   "cell_type": "code",
   "execution_count": 22,
   "metadata": {},
   "outputs": [
    {
     "data": {
      "text/plain": [
       "'./sample/test1_copy.txt'"
      ]
     },
     "execution_count": 22,
     "metadata": {},
     "output_type": "execute_result"
    }
   ],
   "source": [
    "# 파일 복사\n",
    "shutil.copy('./sample/test1.txt', './sample/test1_copy.txt')"
   ]
  },
  {
   "cell_type": "code",
   "execution_count": 23,
   "metadata": {},
   "outputs": [
    {
     "data": {
      "text/plain": [
       "'./sample/test1_copy2.txt'"
      ]
     },
     "execution_count": 23,
     "metadata": {},
     "output_type": "execute_result"
    }
   ],
   "source": [
    "# 메타 정보 복사\n",
    "## 파일 내부 내용 데이터 뿐만 아니라 파일 고유의 수정 날짜 등도 동일하게 복사\n",
    "shutil.copy2('./sample/test1.txt', './sample/test1_copy2.txt')"
   ]
  },
  {
   "cell_type": "markdown",
   "metadata": {},
   "source": [
    "### 확장자 바꾸기"
   ]
  },
  {
   "cell_type": "code",
   "execution_count": 24,
   "metadata": {},
   "outputs": [
    {
     "data": {
      "text/plain": [
       "'./sample/test1_copy.py'"
      ]
     },
     "execution_count": 24,
     "metadata": {},
     "output_type": "execute_result"
    }
   ],
   "source": [
    "shutil.move('./sample/test1_copy.txt', './sample/test1_copy.py')"
   ]
  },
  {
   "cell_type": "code",
   "execution_count": 25,
   "metadata": {},
   "outputs": [
    {
     "data": {
      "text/plain": [
       "'./sample/test1_copy.txt'"
      ]
     },
     "execution_count": 25,
     "metadata": {},
     "output_type": "execute_result"
    }
   ],
   "source": [
    "shutil.move('./sample/test1_copy.py', './sample/test1_copy.txt')"
   ]
  },
  {
   "cell_type": "markdown",
   "metadata": {},
   "source": [
    "### 파일 이동하기"
   ]
  },
  {
   "cell_type": "code",
   "execution_count": 27,
   "metadata": {},
   "outputs": [
    {
     "data": {
      "text/plain": [
       "'./test1_copy.txt'"
      ]
     },
     "execution_count": 27,
     "metadata": {},
     "output_type": "execute_result"
    }
   ],
   "source": [
    "shutil.move('./sample/test1_copy.txt', './test1_copy.txt')"
   ]
  }
 ],
 "metadata": {
  "kernelspec": {
   "display_name": "python3.8",
   "language": "python",
   "name": "python3"
  },
  "language_info": {
   "codemirror_mode": {
    "name": "ipython",
    "version": 3
   },
   "file_extension": ".py",
   "mimetype": "text/x-python",
   "name": "python",
   "nbconvert_exporter": "python",
   "pygments_lexer": "ipython3",
   "version": "3.8.19"
  }
 },
 "nbformat": 4,
 "nbformat_minor": 2
}
