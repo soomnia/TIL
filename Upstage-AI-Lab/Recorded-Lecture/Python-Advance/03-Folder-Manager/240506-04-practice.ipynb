{
 "cells": [
  {
   "cell_type": "markdown",
   "metadata": {},
   "source": [
    "# 프로젝트 실습\n",
    "> 진행 순서\n",
    "1. 압축 파일 정리\n",
    "2. 파일명 정리\n",
    "3. 폴더 생성\n",
    "4. 파일 분류 및 이동"
   ]
  },
  {
   "cell_type": "markdown",
   "metadata": {},
   "source": [
    "## 1. 압축 파일 정리"
   ]
  },
  {
   "cell_type": "code",
   "execution_count": 4,
   "metadata": {},
   "outputs": [],
   "source": [
    "# 정리 대상 폴더 경로 지정\n",
    "target_path = './practice_folder'"
   ]
  },
  {
   "cell_type": "code",
   "execution_count": 1,
   "metadata": {},
   "outputs": [],
   "source": [
    "import glob\n",
    "import os"
   ]
  },
  {
   "cell_type": "code",
   "execution_count": 5,
   "metadata": {},
   "outputs": [
    {
     "name": "stdout",
     "output_type": "stream",
     "text": [
      "['./practice_folder/센터가동현황_물류.zip']\n"
     ]
    }
   ],
   "source": [
    "# 압축 파일 확인\n",
    "zip_f_path = []\n",
    "\n",
    "for filename in glob.glob(os.path.join(target_path, \"**/*.zip\"), recursive=True):\n",
    "    zip_f_path.append(filename)\n",
    "    print(zip_f_path)"
   ]
  },
  {
   "cell_type": "code",
   "execution_count": 2,
   "metadata": {},
   "outputs": [],
   "source": [
    "import zipfile"
   ]
  },
  {
   "cell_type": "markdown",
   "metadata": {},
   "source": [
    "* [📒 ZipFile.infolist()](https://docs.python.org/ko/3/library/zipfile.html#zipfile.ZipFile.infolist)"
   ]
  },
  {
   "cell_type": "code",
   "execution_count": 6,
   "metadata": {},
   "outputs": [],
   "source": [
    "# 압축 파일 해제\n",
    "for zip in zip_f_path:\n",
    "    with zipfile.ZipFile(zip) as myzip:\n",
    "        ## 아카이브의 각 멤버에 대한 ZipInfo 객체를 포함하는 리스트를 반환\n",
    "        zip_info = myzip.infolist()\n",
    "        for info in zip_info:\n",
    "            ## 한글 깨짐 방지를 위한 decoding\n",
    "            decoded = info.filename.encode('cp437').decode('euc-kr')\n",
    "            info.filename = os.path.join(target_path, decoded)\n",
    "            myzip.extract(info)"
   ]
  },
  {
   "cell_type": "markdown",
   "metadata": {},
   "source": [
    "## 2. 파일명 정리"
   ]
  },
  {
   "cell_type": "code",
   "execution_count": 8,
   "metadata": {},
   "outputs": [
    {
     "name": "stdout",
     "output_type": "stream",
     "text": [
      "Collecting openpyxl\n",
      "  Downloading openpyxl-3.1.2-py2.py3-none-any.whl.metadata (2.5 kB)\n",
      "Collecting et-xmlfile (from openpyxl)\n",
      "  Downloading et_xmlfile-1.1.0-py3-none-any.whl.metadata (1.8 kB)\n",
      "Downloading openpyxl-3.1.2-py2.py3-none-any.whl (249 kB)\n",
      "\u001b[2K   \u001b[90m━━━━━━━━━━━━━━━━━━━━━━━━━━━━━━━━━━━━━━━━\u001b[0m \u001b[32m250.0/250.0 kB\u001b[0m \u001b[31m9.7 MB/s\u001b[0m eta \u001b[36m0:00:00\u001b[0m\n",
      "\u001b[?25hDownloading et_xmlfile-1.1.0-py3-none-any.whl (4.7 kB)\n",
      "Installing collected packages: et-xmlfile, openpyxl\n",
      "Successfully installed et-xmlfile-1.1.0 openpyxl-3.1.2\n",
      "Note: you may need to restart the kernel to use updated packages.\n"
     ]
    }
   ],
   "source": [
    "# # 파이썬에서 엑셀 파일을 다루는 라이브러리\n",
    "# %pip install openpyxl"
   ]
  },
  {
   "cell_type": "markdown",
   "metadata": {},
   "source": [
    "[📒 openpyxl](https://openpyxl.readthedocs.io/en/stable/)"
   ]
  },
  {
   "cell_type": "code",
   "execution_count": 9,
   "metadata": {},
   "outputs": [],
   "source": [
    "import openpyxl as op"
   ]
  },
  {
   "cell_type": "markdown",
   "metadata": {},
   "source": [
    "### 2-1. 파일명 수정 엑셀 파일을 생성하는 함수 작성\n",
    "- 폴더별 파일명을 받아 엑셀 파일에 <i>[파일경로]</i>와 <i>[파일명(변경전)]</i>을 작성\n",
    "- 바꾸고 싶은 파일명을 <i>[파일명(변경후)]</i> 컬럼에 작성\n",
    "- 이후 [3단계](#3-파일명-변경하기)에서 해당 정보를 바탕으로 파일명을 변경"
   ]
  },
  {
   "cell_type": "code",
   "execution_count": 11,
   "metadata": {},
   "outputs": [],
   "source": [
    "def getFileName(target_path):\n",
    "    ## 여러 폴더가 있는 폴더 경로를 입력받아 list로 저장\n",
    "    folders = os.listdir(target_path)\n",
    "\n",
    "    # openpyxl Workbook 생성\n",
    "    workbook = op.Workbook()\n",
    "\n",
    "    # 생성한 Workbook의 활성화 시트를 정의\n",
    "    worksheet = workbook.active\n",
    "\n",
    "    ## 첫 row는 컬럼명을 기입해야 하므로 2행부터 시작\n",
    "    i = 2\n",
    "    ## 현재 폴더 위치\n",
    "    current_path = target_path\n",
    "    ## 현재 폴더의 파일들을 list로 저장\n",
    "    files = os.listdir(current_path)\n",
    "\n",
    "    ## 현재 폴더 위치의 파일 list를 for문으로 하나씩 접근\n",
    "    for file in files:\n",
    "        worksheet.cell(row=i, column=1).value = current_path + '/'\n",
    "        worksheet.cell(row=i, column=2).value = file\n",
    "        i += 1\n",
    "    worksheet.cell(row=1, column=1).value = \"파일경로\"\n",
    "    worksheet.cell(row=1, column=2).value = \"파일명(변경전)\"\n",
    "    ## 이후 파일 이름을 변경한 후 저장할 컬럼명\n",
    "    worksheet.cell(row=1, column=3).value = \"파일명(변경후)\"\n",
    "\n",
    "    ## 위에서 작성한 파일을 저장\n",
    "    workbook.save(os.path.join(target_path, \"filelist.xlsx\"))\n"
   ]
  },
  {
   "cell_type": "code",
   "execution_count": 13,
   "metadata": {},
   "outputs": [],
   "source": [
    "getFileName(target_path)"
   ]
  },
  {
   "cell_type": "markdown",
   "metadata": {},
   "source": [
    "## 3. 파일명 변경하기"
   ]
  },
  {
   "cell_type": "markdown",
   "metadata": {},
   "source": [
    "### 3-1. 엑셀 파일을 읽어 수정할 파일명을 알아내는 함수 작성\n",
    "- [2-1](#2-1-파일명-수정-엑셀-파일을-생성하는-함수-작성)의 결과로 작성된 엑셀 파일 읽기\n",
    "\n",
    "#### [ ] list comprehension ?\n"
   ]
  },
  {
   "cell_type": "code",
   "execution_count": 22,
   "metadata": {},
   "outputs": [],
   "source": [
    "# str형 filepath를 인수로 받아 list을 반환하는 함수\n",
    "def readExcel(filepath : str) -> list:\n",
    "    ## 파일 경로로부터 Workbook 객체 생성\n",
    "    workbook = op.load_workbook(filepath)\n",
    "\n",
    "    ## 활성화 worksheet 정의\n",
    "    worksheet = workbook.active\n",
    "\n",
    "    ## list comprehension 구문을 통해 각 컬럼의 데이터를 리스트화\n",
    "    folderpath = [r[0].value for r in worksheet]\n",
    "    file_before = [r[1].value for r in worksheet]\n",
    "    file_after = [r[2].value for r in worksheet]\n",
    "    \n",
    "    ## 변경해야 할 파일 개수 확인\n",
    "    len_num = len(folderpath)\n",
    "    ## 결과값 저장할 리스트\n",
    "    datalist = []\n",
    "\n",
    "    ## for 문을 통해 튜플 작성\n",
    "    for i in range(1, len_num):\n",
    "        ## 각 행의 데이터를 저장하는 튜플\n",
    "        temp = (folderpath[i], file_before[i], file_after[i])\n",
    "        ## 리스트에 각 행의 값을 튜플 형태로 추가\n",
    "        datalist.append(temp)\n",
    "\n",
    "    return datalist\n"
   ]
  },
  {
   "cell_type": "code",
   "execution_count": 24,
   "metadata": {},
   "outputs": [],
   "source": [
    "rename_list = readExcel(os.path.join(target_path, 'filelist.xlsx'))"
   ]
  },
  {
   "cell_type": "markdown",
   "metadata": {},
   "source": [
    "### 3-2. 파일명을 수정하는 함수 작성\n",
    "- [3-1](#3-1-엑셀-파일을-읽어-수정할-파일명을-알아내는-함수-작성)의 반환 결과를 인수로 파일명 수정하기"
   ]
  },
  {
   "cell_type": "code",
   "execution_count": 25,
   "metadata": {},
   "outputs": [],
   "source": [
    "import shutil"
   ]
  },
  {
   "cell_type": "code",
   "execution_count": 26,
   "metadata": {},
   "outputs": [],
   "source": [
    "def renameFiles(datalist : list):\n",
    "    for data in datalist:\n",
    "        print(f'{data[1]}의 파일명을 {data[2]}로 변경합니다.')\n",
    "        shutil.move(data[0]+data[1], data[0]+data[2])"
   ]
  },
  {
   "cell_type": "code",
   "execution_count": null,
   "metadata": {},
   "outputs": [],
   "source": [
    "renameFiles(rename_list)"
   ]
  },
  {
   "cell_type": "markdown",
   "metadata": {},
   "source": [
    "## 4. 폴더 생성"
   ]
  },
  {
   "cell_type": "markdown",
   "metadata": {},
   "source": [
    "### 4-1. 파일명의 분류 부분을 리스트화 하는 함수 작성\n",
    "- `fnmatch`를 통해 정해진 패턴의 파일명에서 카테고리를 분류\n",
    "- 분류된 카테고리를 기반으로 이후 폴더를 생성하여 파일을 카테고리별 폴더 하위에 저장"
   ]
  },
  {
   "cell_type": "code",
   "execution_count": 28,
   "metadata": {},
   "outputs": [],
   "source": [
    "import fnmatch"
   ]
  },
  {
   "cell_type": "code",
   "execution_count": 29,
   "metadata": {},
   "outputs": [],
   "source": [
    "def categorizeList(target_path : str) -> list :\n",
    "\n",
    "    files = []\n",
    "\n",
    "    for filename in os.listdir(target_path):\n",
    "        ## 파일명의 끝이 _XXX(숫자 세 자리)로 끝나는 파일 탐색하여 리스트에 추가\n",
    "        if fnmatch.fnmatch(filename, '*_[0-9][0-9][0-9].*'):\n",
    "            files.append(filename)\n",
    "\n",
    "    categories = []\n",
    "\n",
    "    for file in files:\n",
    "        ## 파일명을 '_'로 분리한 뒤\n",
    "        temp = file.split('_')\n",
    "        ## 그 중 -2 인덱싱 데이터를 리스트에 추가\n",
    "        categories.append(temp[-2])\n",
    "\n",
    "    ## 중복을 제거하기 위해 set 사용\n",
    "    temp = set(categories)\n",
    "    ## 다시 리스트로\n",
    "    categories = list(temp)    \n",
    "\n",
    "    return categories"
   ]
  },
  {
   "cell_type": "code",
   "execution_count": 32,
   "metadata": {},
   "outputs": [
    {
     "data": {
      "text/plain": [
       "['생산', '인사', '물류', '재무', '마케팅', '기타']"
      ]
     },
     "execution_count": 32,
     "metadata": {},
     "output_type": "execute_result"
    }
   ],
   "source": [
    "# 위에서 포함되지 않는 것들을 저장하기 위한 '기타'도 리스트에 추가한다\n",
    "categories = categorizeList(target_path) + ['기타']\n",
    "categories"
   ]
  },
  {
   "cell_type": "markdown",
   "metadata": {},
   "source": [
    "### 4-2. 폴더 생성하는 함수 작성\n",
    "- [4-1](#4-1-파일명의-분류-부분을-리스트화-하는-함수-작성)에서 생성한 카테고리 리스트를 통해 폴더를 생성"
   ]
  },
  {
   "cell_type": "code",
   "execution_count": 33,
   "metadata": {},
   "outputs": [],
   "source": [
    "import pathlib"
   ]
  },
  {
   "cell_type": "code",
   "execution_count": 35,
   "metadata": {},
   "outputs": [],
   "source": [
    "# 분류된 파일들을 저장할 최상위 폴더명\n",
    "organized_path = './organized_folder'"
   ]
  },
  {
   "cell_type": "code",
   "execution_count": 36,
   "metadata": {},
   "outputs": [],
   "source": [
    "def makeFolder(target_path : str, categories : list):\n",
    "    for category in categories:\n",
    "        ## 지정된 위치에 카테고리 이름대로 폴더 생성\n",
    "        folder = pathlib.Path(os.path.join(target_path, category))\n",
    "        folder.mkdir(parents=True, exist_ok=True)"
   ]
  },
  {
   "cell_type": "code",
   "execution_count": 37,
   "metadata": {},
   "outputs": [],
   "source": [
    "makeFolder(organized_path, categories)"
   ]
  },
  {
   "cell_type": "markdown",
   "metadata": {},
   "source": [
    "### 4-3. 파일 분류대로 이동시키는 함수 작성\n",
    "- 기존 폴더의 파일들을 분류된 파일들을 카테고리별로 생성한 폴더로 이동"
   ]
  },
  {
   "cell_type": "code",
   "execution_count": 38,
   "metadata": {},
   "outputs": [],
   "source": [
    "import shutil"
   ]
  },
  {
   "cell_type": "code",
   "execution_count": 41,
   "metadata": {},
   "outputs": [],
   "source": [
    "def moveFiles(organized_path : str, target_path : str, categories : list):\n",
    "    ## 이동시킬 파일명들을 리스트화\n",
    "    files = os.listdir(target_path)\n",
    "    \n",
    "    category_dictionary = {}\n",
    "\n",
    "    ## 파일명에 대한 폴더명을 딕셔너리에 저장\n",
    "    for file in files:\n",
    "        try:\n",
    "            temps = file.split('_')\n",
    "            ## 카테고리 리스트에 포함되지 않는다면, 에러 발생\n",
    "            assert temps[-2] in categories\n",
    "            ## 파일명 : 분류 형태로 딕셔너리에 추가\n",
    "            category_dictionary[file] = temps[-2]\n",
    "        except:\n",
    "            ## 카테고리에 포함되지 않는다면 파일명 : '기타' 형태로 추가\n",
    "            category_dictionary[file] = '기타'\n",
    "\n",
    "    for key, value in category_dictionary.items():\n",
    "        shutil.move(target_path+\"/\"+key, organized_path+\"/\"+value)"
   ]
  },
  {
   "cell_type": "code",
   "execution_count": 40,
   "metadata": {},
   "outputs": [],
   "source": [
    "moveFiles(organized_path, target_path, categories)"
   ]
  }
 ],
 "metadata": {
  "kernelspec": {
   "display_name": "python3.8",
   "language": "python",
   "name": "python3"
  },
  "language_info": {
   "codemirror_mode": {
    "name": "ipython",
    "version": 3
   },
   "file_extension": ".py",
   "mimetype": "text/x-python",
   "name": "python",
   "nbconvert_exporter": "python",
   "pygments_lexer": "ipython3",
   "version": "3.8.19"
  }
 },
 "nbformat": 4,
 "nbformat_minor": 2
}
