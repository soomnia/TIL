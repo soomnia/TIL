{
 "cells": [
  {
   "cell_type": "markdown",
   "metadata": {},
   "source": [
    "# 파일 압축"
   ]
  },
  {
   "cell_type": "markdown",
   "metadata": {},
   "source": [
    "## `zlib`\n",
    "데이터를 압축/해제할 때 사용하는 모듈\n",
    "- `compress()` `decompress()` 함수로 문자열을 압축 및 해제\n",
    "- **데이터 크기를 줄여서** 전송해야 할 때 사용"
   ]
  },
  {
   "cell_type": "code",
   "execution_count": 1,
   "metadata": {},
   "outputs": [],
   "source": [
    "import zlib"
   ]
  },
  {
   "cell_type": "code",
   "execution_count": 2,
   "metadata": {},
   "outputs": [],
   "source": [
    "# 대용량 문자열 데이터 (350,000 byte)\n",
    "data = \"Life is too short, You need Python.\" * 10000"
   ]
  },
  {
   "cell_type": "code",
   "execution_count": 3,
   "metadata": {},
   "outputs": [
    {
     "data": {
      "text/plain": [
       "350000"
      ]
     },
     "execution_count": 3,
     "metadata": {},
     "output_type": "execute_result"
    }
   ],
   "source": [
    "len(data)"
   ]
  },
  {
   "cell_type": "code",
   "execution_count": 6,
   "metadata": {},
   "outputs": [
    {
     "data": {
      "text/plain": [
       "b'x\\x9c\\xed\\xca\\xa1\\r\\x800\\x10\\x00\\xc0U~\\x00\\xc2$\\x15X<%\\xd4\\xf4\\x13Z\\x04\\xdb3\\x06\\xe6N_ig\\x8d6bf\\xc6\\xb8\\xf2\\x9eK\\xec\\xf9D\\xaf\\xf5\\x88\\xed\\x9dW\\xf6\\xb5(\\x8a\\xa2(\\x8a\\xa2(\\x8a\\xa2(\\x8a\\xa2(\\x8a\\xa2(\\x8a\\xa2(\\x8a\\xa2(\\x8a\\xa2(\\x8a\\xa2(\\x8a\\xa2(\\x8a\\xa2(\\x8a\\xa2(\\x8a\\xa2(\\x8a\\xa2(\\x8a\\xa2(\\x8a\\xa2(\\x8a\\xa2(\\x8a\\xa2(\\x8a\\xa2(\\x8a\\xa2(\\x8a\\xa2(\\x8a\\xa2(\\x8a\\xa2(\\x8a\\xa2(\\x8a\\xa2(\\x8a\\xa2(\\x8a\\xa2(\\x8a\\xa2(\\x8a\\xa2(\\x8a\\xa2(\\x8a\\xa2(\\x8a\\xa2(\\x8a\\xa2(\\x8a\\xa2(\\x8a\\xa2(\\x8a\\xa2(\\x8a\\xa2(\\x8a\\xa2(\\x8a\\xa2(\\x8a\\xa2(\\x8a\\xa2(\\x8a\\xa2(\\x8a\\xa2(\\x8a\\xa2(\\x8a\\xa2(\\x8a\\xa2(\\x8a\\xa2(\\x8a\\xa2(\\x8a\\xa2(\\x8a\\xa2(\\x8a\\xa2(\\x8a\\xa2(\\x8a\\xa2(\\x8a\\xa2(\\x8a\\xa2(\\x8a\\xa2(\\x8a\\xa2(\\x8a\\xa2(\\x8a\\xa2(\\x8a\\xa2(\\x8a\\xa2(\\x8a\\xa2(\\x8a\\xa2(\\x8a\\xa2(\\x8a\\xa2(\\x8a\\xa2(\\x8a\\xa2(\\x8a\\xa2(\\x8a\\xa2(\\x8a\\xa2(\\x8a\\xa2(\\x8a\\xa2(\\x8a\\xa2(\\x8a\\xa2(\\x8a\\xa2(\\x8a\\xa2(\\x8a\\xa2(\\x8a\\xa2(\\x8a\\xa2(\\x8a\\xa2(\\x8a\\xa2(\\x8a\\xa2(\\x8a\\xa2(\\x8a\\xa2(\\x8a\\xa2(\\x8a\\xa2(\\x8a\\xa2(\\x8a\\xa2(\\x8a\\xa2(\\x8a\\xa2(\\x8a\\xa2(\\x8a\\xa2(\\x8a\\xa2(\\x8a\\xa2(\\x8a\\xa2(\\x8a\\xa2(\\x8a\\xa2(\\x8a\\xa2(\\x8a\\xa2(\\x8a\\xa2(\\x8a\\xa2(\\x8a\\xa2(\\x8a\\xa2(\\x8a\\xa2(\\x8a\\xa2(\\x8a\\xa2(\\x8a\\xa2(\\x8a\\xa2(\\x8a\\xa2(\\x8a\\xa2(\\x8a\\xa2(\\x8a\\xa2(\\x8a\\xa2(\\x8a\\xa2(\\x8a\\xa2(\\x8a\\xa2(\\x8a\\xa2(\\x8a\\xa2(\\x8a\\xa2(\\x8a\\xa2(\\x8a\\xa2(\\x8a\\xa2(\\x8a\\xa2(\\x8a\\xa2(\\x8a\\xa2(\\x8a\\xa2(\\x8a\\xa2(\\x8a\\xa2(\\x8a\\xa2(\\x8a\\xa2(\\x8a\\xa2(\\x8a\\xa2(\\x8a\\xa2(\\x8a\\xa2(\\x8a\\xa2(\\x8a\\xa2(\\x8a\\xa2(\\x8a\\xa2(\\x8a\\xa2(\\x8a\\xa2(\\x8a\\xa2(\\x8a\\xa2(\\x8a\\xa2(\\x8a\\xa2(\\x8a\\xa2(\\x8a\\xa2(\\x8a\\xa2(\\x8a\\xa2(\\x8a\\xa2(\\x8a\\xa2(\\x8a\\xa2(\\x8a\\xa2(\\x8a\\xa2(\\x8a\\xa2(\\x8a\\xa2(\\x8a\\xa2(\\x8a\\xa2(\\x8a\\xa2(\\x8a\\xa2(\\x8a\\xa2(\\x8a\\xa2(\\x8a\\xa2(\\x8a\\xa2(\\x8a\\xa2(\\x8a\\xa2(\\x8a\\xa2(\\x8a\\xa2(\\x8a\\xa2(\\x8a\\xa2(\\x8a\\xa2(\\x8a\\xa2(\\x8a\\xa2(\\x8a\\xa2(\\x8a\\xa2(\\x8a\\xa2(\\x8a\\xa2(\\x8a\\xa2(\\x8a\\xa2(\\x8a\\xa2(\\x8a\\xa2(\\x8a\\xa2(\\x8a\\xa2(\\x8a\\xa2(\\x8a\\xa2(\\x8a\\xa2(\\x8a\\xa2(\\x8a\\xa2(\\x8a\\xa2(\\x8a\\xa2(\\x8a\\xa2(\\x8a\\xa2(\\x8a\\xa2(\\x8a\\xa2(\\x8a\\xa2(\\x8a\\xa2(\\x8a\\xa2(\\x8a\\xa2(\\x8a\\xa2(\\x8a\\xa2(\\x8a\\xa2(\\x8a\\xa2(\\x8a\\xa2(\\x8a\\xa2(\\x8a\\xa2(\\x8a\\xa2(\\x8a\\xa2(\\x8a\\xa2(\\x8a\\xa2(\\x8a\\xa2(\\x8a\\xa2(\\x8a\\xa2(\\x8a\\xa2(\\x8a\\xa2(\\x8a\\xa2(\\x8a\\xa2(\\x8a\\xa2(\\x8a\\xa2(\\x8a\\xa2(\\x8a\\xa2(\\x8a\\xa2(\\x8a\\xa2(\\x8a\\xa2(\\x8a\\xa2(\\x8a\\xa2(\\x8a\\xa2(\\x8a\\xa2(\\x8a\\xa2(\\x8a\\xa2(\\x8a\\xa2(\\x8a\\xa2(\\x8a\\xa2(\\x8a\\xa2(\\x8a\\xa2(\\x8a\\xa2(\\x8a\\xa2(\\x8a\\xa2(\\x8a\\xa2(\\x8a\\xa2(\\x8a\\xa2(\\x8a\\xa2(\\x8a\\xa2(\\x8a\\xa2(\\x8a\\xa2(\\x8a\\xa2(\\x8a\\xa2(\\x8a\\xa2(\\x8a\\xa2(\\x8a\\xa2(\\x8a\\xa2(\\x8a\\xa2(\\x8a\\xa2(\\x8a\\xa2(\\x8a\\xa2(\\x8a\\xa2(\\x8a\\xa2(\\x8a\\xa2(\\x8a\\xa2(\\x8a\\xa2(\\x8a\\xa2(\\x8a\\xa2(\\x8a\\xa2(\\x8a\\xa2(\\x8a\\xa2(\\x8a\\xa2(\\x8a\\xa2(\\x8a\\xa2(\\x8a\\xa2(\\x8a\\xa2(\\x8a\\xa2(\\x8a\\xa2(\\x8a\\xa2(\\x8a\\xa2(\\x8a\\xa2(\\x8a\\xa2(\\x8a\\xa2(\\x8a\\xa2(\\x8a\\xa2(\\x8a\\xa2(\\x8a\\xa2(\\x8a\\xa2(\\x8a\\xa2(\\x8a\\xa2(\\x8a\\xa2(\\x8a\\xa2(\\x8a\\xa2(\\x8a\\xa2(\\x8a\\xa2(\\x8a\\xa2(\\x8a\\xa2(\\x8a\\xa2(\\x8a\\xa2(\\x8a\\xa2(\\x8a\\xa2(\\x8a\\xa2(\\x8a\\xa2(\\x8a\\xa2(\\x8a\\xa2(\\x8a\\xa2(\\x8a\\xa2(\\x8a\\xa2(\\x8a\\xa2(\\x8a\\xa2(\\x8a\\xa2(\\x8a\\xa2(\\x8a\\xa2(\\x8a\\xa2(\\x8a\\xa2(\\x8a\\xa2(\\x8a\\xa2(\\x8a\\xa2(\\x8a\\xa2(\\x8a\\xa2(\\x8a\\xa2(\\x8a\\xa2(\\x8a\\xa2(\\x8a\\xa2(\\x8a\\xa2(\\x8a\\xa2(\\x8a\\xa2(\\x8a\\xa2(\\x8a\\xa2(\\x8a\\xa2(\\x8a\\xa2(\\x8a\\xa2(\\x8a\\xa2(\\x8a\\xa2(\\x8a\\xa2(\\x8a\\xa2(\\x8a\\xa2(\\x8a\\xa2(\\x8a\\xa2(\\x8a\\xa2(\\x8a\\xa2(\\x8a\\xa2(\\x8a\\xa2(\\x8a\\xa2(\\x8a\\xa2(\\x8a\\xa2(\\x8a\\xa2\\xfcQ>\\x13g\\x86`'"
      ]
     },
     "execution_count": 6,
     "metadata": {},
     "output_type": "execute_result"
    }
   ],
   "source": [
    "# zlib 압축\n",
    "## 유니코드로 인코딩 후 압축해야 함\n",
    "compressed = zlib.compress(data.encode(encoding='utf-8'))\n",
    "compressed"
   ]
  },
  {
   "cell_type": "code",
   "execution_count": 7,
   "metadata": {},
   "outputs": [
    {
     "data": {
      "text/plain": [
       "1077"
      ]
     },
     "execution_count": 7,
     "metadata": {},
     "output_type": "execute_result"
    }
   ],
   "source": [
    "len(compressed)"
   ]
  },
  {
   "cell_type": "code",
   "execution_count": 8,
   "metadata": {},
   "outputs": [
    {
     "name": "stdout",
     "output_type": "stream",
     "text": [
      "zlib 압축률 : 324.98\n"
     ]
    }
   ],
   "source": [
    "# 압축률\n",
    "print(f'zlib 압축률 : {round(len(data) / len(compressed), 2)}')"
   ]
  },
  {
   "cell_type": "code",
   "execution_count": 9,
   "metadata": {},
   "outputs": [
    {
     "data": {
      "text/plain": [
       "350000"
      ]
     },
     "execution_count": 9,
     "metadata": {},
     "output_type": "execute_result"
    }
   ],
   "source": [
    "# zlib 압축 해제\n",
    "decompressed = zlib.decompress(compressed).decode('utf-8')\n",
    "len(decompressed)"
   ]
  },
  {
   "cell_type": "markdown",
   "metadata": {},
   "source": [
    "## `gzip`\n",
    "**파일**을 압축/해제할 때 사용하는 모듈<br>\n",
    "내부적으로 `zlib` 알고리즘 사용"
   ]
  },
  {
   "cell_type": "code",
   "execution_count": 10,
   "metadata": {},
   "outputs": [],
   "source": [
    "import gzip"
   ]
  },
  {
   "cell_type": "code",
   "execution_count": 11,
   "metadata": {},
   "outputs": [],
   "source": [
    "# 위의 문자열 data를 파일로 원본 데이터 저장\n",
    "with open('origin.txt', 'w') as f:\n",
    "    f.write(data)"
   ]
  },
  {
   "cell_type": "code",
   "execution_count": 12,
   "metadata": {},
   "outputs": [],
   "source": [
    "# gzip 압축\n",
    "with gzip.open('origin.txt.gz', 'wb') as f:\n",
    "    f.write(data.encode('utf-8'))"
   ]
  },
  {
   "cell_type": "code",
   "execution_count": 13,
   "metadata": {},
   "outputs": [],
   "source": [
    "# gzip 압축 해제\n",
    "with gzip.open('origin.txt.gz', 'rb') as f:\n",
    "    org_data = f.read().decode('utf-8')"
   ]
  },
  {
   "cell_type": "code",
   "execution_count": 14,
   "metadata": {},
   "outputs": [
    {
     "data": {
      "text/plain": [
       "350000"
      ]
     },
     "execution_count": 14,
     "metadata": {},
     "output_type": "execute_result"
    }
   ],
   "source": [
    "len(org_data)"
   ]
  },
  {
   "cell_type": "markdown",
   "metadata": {},
   "source": [
    "## `zipfile`\n",
    "여러 개의 파일을 **함께** .zip 확장자로 압축할 때 사용하는 모듈"
   ]
  },
  {
   "cell_type": "code",
   "execution_count": 15,
   "metadata": {},
   "outputs": [],
   "source": [
    "import zipfile"
   ]
  },
  {
   "cell_type": "code",
   "execution_count": 16,
   "metadata": {},
   "outputs": [],
   "source": [
    "# 여러 파일을 한번에 압축\n",
    "with zipfile.ZipFile('./sample/test.zip', 'w') as myzip:\n",
    "    myzip.write('./sample/test1.txt')\n",
    "    myzip.write('./sample/test2.txt')\n",
    "    myzip.write('./sample/test3.txt')"
   ]
  },
  {
   "cell_type": "code",
   "execution_count": 18,
   "metadata": {},
   "outputs": [],
   "source": [
    "# 압축 해제\n",
    "with zipfile.ZipFile('./sample/test.zip') as myzip:\n",
    "    myzip.extractall()"
   ]
  },
  {
   "cell_type": "markdown",
   "metadata": {},
   "source": [
    "## `tarfile`\n",
    "여러 개의 파일을 .tar 확장자로 압축할 때 사용하는 모듈"
   ]
  },
  {
   "cell_type": "code",
   "execution_count": 19,
   "metadata": {},
   "outputs": [],
   "source": [
    "import tarfile"
   ]
  },
  {
   "cell_type": "code",
   "execution_count": 20,
   "metadata": {},
   "outputs": [],
   "source": [
    "# 여러 파일을 한번에 압축\n",
    "with tarfile.open('./sample/test.tar', 'w') as mytar:\n",
    "    mytar.add('./sample/test1.txt')\n",
    "    mytar.add('./sample/test2.txt')\n",
    "    mytar.add('./sample/test3.txt')"
   ]
  },
  {
   "cell_type": "code",
   "execution_count": 21,
   "metadata": {},
   "outputs": [],
   "source": [
    "# 압축 해제\n",
    "with tarfile.open('./sample/test.tar') as mytar:\n",
    "    mytar.extractall()"
   ]
  }
 ],
 "metadata": {
  "kernelspec": {
   "display_name": "python3.8",
   "language": "python",
   "name": "python3"
  },
  "language_info": {
   "codemirror_mode": {
    "name": "ipython",
    "version": 3
   },
   "file_extension": ".py",
   "mimetype": "text/x-python",
   "name": "python",
   "nbconvert_exporter": "python",
   "pygments_lexer": "ipython3",
   "version": "3.8.19"
  }
 },
 "nbformat": 4,
 "nbformat_minor": 2
}
