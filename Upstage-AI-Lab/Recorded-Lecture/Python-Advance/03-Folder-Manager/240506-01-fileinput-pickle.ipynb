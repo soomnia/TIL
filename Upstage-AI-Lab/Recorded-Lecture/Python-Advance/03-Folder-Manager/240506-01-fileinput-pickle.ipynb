{
 "cells": [
  {
   "cell_type": "markdown",
   "metadata": {},
   "source": [
    "# 파일 읽기, 저장"
   ]
  },
  {
   "cell_type": "markdown",
   "metadata": {},
   "source": [
    "## `fileinput`\n",
    "텍스트 파일 읽기/쓰기/저장 기능을 더욱 편리하게 사용할 수 있게 하는 라이브러리\n",
    "- 여러 개의 파일을 읽고 수정 가능\n",
    "- `Inplace editing` 기능 사용 시 `open`, `close`보다 더 수정이 간편하며 직관적"
   ]
  },
  {
   "cell_type": "code",
   "execution_count": 1,
   "metadata": {},
   "outputs": [],
   "source": [
    "import fileinput\n",
    "\n",
    "# 파일 탐색 시 사용\n",
    "import glob\n",
    "\n",
    "import os"
   ]
  },
  {
   "cell_type": "markdown",
   "metadata": {},
   "source": [
    "### 여러 개의 파일 읽기"
   ]
  },
  {
   "cell_type": "code",
   "execution_count": null,
   "metadata": {},
   "outputs": [],
   "source": [
    "# 현재 경로 확인\n",
    "os.getcwd()"
   ]
  },
  {
   "cell_type": "code",
   "execution_count": 3,
   "metadata": {},
   "outputs": [
    {
     "data": {
      "text/plain": [
       "['240505-09-os.path-pathlib.ipynb',\n",
       " '240506-01-fileinput-pickle.ipynb',\n",
       " 'README.md',\n",
       " '.env',\n",
       " 'sample']"
      ]
     },
     "execution_count": 3,
     "metadata": {},
     "output_type": "execute_result"
    }
   ],
   "source": [
    "# 디렉터리 확인\n",
    "os.listdir(os.getcwd())"
   ]
  },
  {
   "cell_type": "code",
   "execution_count": 4,
   "metadata": {},
   "outputs": [],
   "source": [
    "# 경로 설정\n",
    "path = 'sample/'"
   ]
  },
  {
   "cell_type": "code",
   "execution_count": 5,
   "metadata": {},
   "outputs": [
    {
     "data": {
      "text/plain": [
       "['sample/test1.txt', 'sample/test2.txt', 'sample/test3.txt']"
      ]
     },
     "execution_count": 5,
     "metadata": {},
     "output_type": "execute_result"
    }
   ],
   "source": [
    "# txt 파일 확인\n",
    "## path 안에 *.txt를 포함한 파일 검색\n",
    "glob.glob(os.path.join(path, '*.txt'))"
   ]
  },
  {
   "cell_type": "code",
   "execution_count": 6,
   "metadata": {},
   "outputs": [
    {
     "name": "stdout",
     "output_type": "stream",
     "text": [
      "1번째 줄입니다\n",
      "\n",
      "2번째 줄입니다\n",
      "\n",
      "3번째 줄입니다\n",
      "\n",
      "4번째 줄입니다\n",
      "\n",
      "5번째 줄입니다\n",
      "\n",
      "6번째 줄입니다\n",
      "\n",
      "7번째 줄입니다\n",
      "\n",
      "8번째 줄입니다\n",
      "\n",
      "9번째 줄입니다\n",
      "\n",
      "10번째 줄입니다\n",
      "\n",
      "11번째 줄입니다\n",
      "\n",
      "12번째 줄입니다\n",
      "\n",
      "13번째 줄입니다\n",
      "\n",
      "14번째 줄입니다\n",
      "\n",
      "15번째 줄입니다\n",
      "\n",
      "16번째 줄입니다\n",
      "\n",
      "17번째 줄입니다\n",
      "\n",
      "18번째 줄입니다\n",
      "\n",
      "19번째 줄입니다\n",
      "\n",
      "20번째 줄입니다\n",
      "\n",
      "21번째 줄입니다\n",
      "\n",
      "22번째 줄입니다\n",
      "\n",
      "23번째 줄입니다\n",
      "\n",
      "24번째 줄입니다\n",
      "\n",
      "25번째 줄입니다\n",
      "\n",
      "26번째 줄입니다\n",
      "\n",
      "27번째 줄입니다\n",
      "\n",
      "28번째 줄입니다\n",
      "\n",
      "29번째 줄입니다\n",
      "\n",
      "30번째 줄입니다\n",
      "\n"
     ]
    }
   ],
   "source": [
    "# 여러 파일 한 번에 읽기\n",
    "with fileinput.input(glob.glob(os.path.join(path, '*.txt'))) as f:\n",
    "    for line in f:\n",
    "        print(line)"
   ]
  },
  {
   "cell_type": "markdown",
   "metadata": {},
   "source": [
    "### Inplace Editing\n",
    "```python\n",
    "fileinput.input(파일_경로, inplace=True, backup='.bak')\n",
    "```"
   ]
  },
  {
   "cell_type": "markdown",
   "metadata": {},
   "source": [
    "#### 첫 번째 줄 수정"
   ]
  },
  {
   "cell_type": "code",
   "execution_count": 7,
   "metadata": {},
   "outputs": [],
   "source": [
    "txt_files = glob.glob(os.path.join(path, '*.txt'))"
   ]
  },
  {
   "cell_type": "code",
   "execution_count": 8,
   "metadata": {},
   "outputs": [],
   "source": [
    "with fileinput.input(txt_files, inplace=True) as f:\n",
    "    for line in f:\n",
    "        if f.isfirstline():\n",
    "            ## 각 파일의 첫 번째 줄은 print문의 출력내용으로 수정\n",
    "            print('첫 번째 줄입니다.', end='\\n')\n",
    "        else:\n",
    "            ## 나머지는 동일하게 재작성\n",
    "            print(line, end='')"
   ]
  },
  {
   "cell_type": "code",
   "execution_count": 11,
   "metadata": {},
   "outputs": [],
   "source": [
    "with fileinput.input(txt_files, inplace=True) as f:\n",
    "    for line in f:\n",
    "        if line == '첫 번째 줄입니다.\\n':\n",
    "            print('1번째 줄입니다.', end='\\n')\n",
    "        else:\n",
    "            ## 나머지는 동일하게 재작성\n",
    "            print(line, end='')"
   ]
  },
  {
   "cell_type": "markdown",
   "metadata": {},
   "source": [
    "#### 키워드를 포함한 라인 수정"
   ]
  },
  {
   "cell_type": "code",
   "execution_count": 18,
   "metadata": {},
   "outputs": [],
   "source": [
    "with fileinput.input(txt_files, inplace=True) as f:\n",
    "    for line in f:\n",
    "        if '14번째' in line:\n",
    "            print('열네 번째 줄입니다.\\n', end='')\n",
    "        else:\n",
    "            print(line, end='')"
   ]
  },
  {
   "cell_type": "markdown",
   "metadata": {},
   "source": [
    "#### 텍스트 치환"
   ]
  },
  {
   "cell_type": "code",
   "execution_count": 19,
   "metadata": {},
   "outputs": [],
   "source": [
    "with fileinput.input(txt_files, inplace=True) as f:\n",
    "    for line in  f:\n",
    "        if '열네 번째' in line:\n",
    "            print(line.replace('열네 번째', '14번째'), end='')\n",
    "        else:\n",
    "            print(line, end='')"
   ]
  },
  {
   "cell_type": "markdown",
   "metadata": {},
   "source": [
    "## `pickle`\n",
    "파이썬에서 사용하는 딕셔너리, 리스트, 클래스 등의 **자료형을 변환 없이** 그대로 파일로 저장, 이를 호출할 때 사용하는 모듈"
   ]
  },
  {
   "cell_type": "code",
   "execution_count": 20,
   "metadata": {},
   "outputs": [],
   "source": [
    "import pickle"
   ]
  },
  {
   "cell_type": "markdown",
   "metadata": {},
   "source": [
    "### 객체형 파일 저장"
   ]
  },
  {
   "cell_type": "code",
   "execution_count": 21,
   "metadata": {},
   "outputs": [],
   "source": [
    "# 리스트\n",
    "data = ['A', 'B', 'C']"
   ]
  },
  {
   "cell_type": "code",
   "execution_count": 22,
   "metadata": {},
   "outputs": [],
   "source": [
    "# 파일 저장\n",
    "with open('sample/list.pkl', 'wb') as f:\n",
    "    pickle.dump(data, f)"
   ]
  },
  {
   "cell_type": "code",
   "execution_count": 23,
   "metadata": {},
   "outputs": [],
   "source": [
    "# 파일 읽기\n",
    "with open('sample/list.pkl', 'rb') as f:\n",
    "    data_from_pickle = pickle.load(f)"
   ]
  },
  {
   "cell_type": "code",
   "execution_count": 24,
   "metadata": {},
   "outputs": [
    {
     "name": "stdout",
     "output_type": "stream",
     "text": [
      "['A', 'B', 'C']\n",
      "<class 'list'>\n",
      "***************\n",
      "['A', 'B', 'C']\n",
      "<class 'list'>\n"
     ]
    }
   ],
   "source": [
    "print(data)\n",
    "print(type(data))\n",
    "print('*' * 15)\n",
    "print(data_from_pickle)\n",
    "print(type(data_from_pickle))"
   ]
  },
  {
   "cell_type": "code",
   "execution_count": 27,
   "metadata": {},
   "outputs": [
    {
     "data": {
      "text/plain": [
       "{1: {'no': 1, 'subject': '안녕 피클', 'content': '사용하기 편리한 피클'}}"
      ]
     },
     "execution_count": 27,
     "metadata": {},
     "output_type": "execute_result"
    }
   ],
   "source": [
    "# 딕셔너리\n",
    "data = {}\n",
    "data[1] = {\n",
    "    'no' : 1,\n",
    "    'subject' : '안녕 피클',\n",
    "    'content' : '사용하기 편리한 피클'\n",
    "}\n",
    "data"
   ]
  },
  {
   "cell_type": "code",
   "execution_count": 28,
   "metadata": {},
   "outputs": [],
   "source": [
    "# 파일 저장\n",
    "with open('sample/dictionary.pkl', 'wb') as f:\n",
    "    pickle.dump(data, f)"
   ]
  },
  {
   "cell_type": "code",
   "execution_count": 29,
   "metadata": {},
   "outputs": [],
   "source": [
    "# 파일 읽기\n",
    "with open('sample/dictionary.pkl', 'rb') as f:\n",
    "    data_from_pickle = pickle.load(f)"
   ]
  },
  {
   "cell_type": "code",
   "execution_count": 30,
   "metadata": {},
   "outputs": [
    {
     "name": "stdout",
     "output_type": "stream",
     "text": [
      "{1: {'no': 1, 'subject': '안녕 피클', 'content': '사용하기 편리한 피클'}}\n",
      "<class 'dict'>\n",
      "***************\n",
      "{1: {'no': 1, 'subject': '안녕 피클', 'content': '사용하기 편리한 피클'}}\n",
      "<class 'dict'>\n"
     ]
    }
   ],
   "source": [
    "print(data)\n",
    "print(type(data))\n",
    "print('*' * 15)\n",
    "print(data_from_pickle)\n",
    "print(type(data_from_pickle))"
   ]
  }
 ],
 "metadata": {
  "kernelspec": {
   "display_name": "python3.8",
   "language": "python",
   "name": "python3"
  },
  "language_info": {
   "codemirror_mode": {
    "name": "ipython",
    "version": 3
   },
   "file_extension": ".py",
   "mimetype": "text/x-python",
   "name": "python",
   "nbconvert_exporter": "python",
   "pygments_lexer": "ipython3",
   "version": "3.8.19"
  }
 },
 "nbformat": 4,
 "nbformat_minor": 2
}
