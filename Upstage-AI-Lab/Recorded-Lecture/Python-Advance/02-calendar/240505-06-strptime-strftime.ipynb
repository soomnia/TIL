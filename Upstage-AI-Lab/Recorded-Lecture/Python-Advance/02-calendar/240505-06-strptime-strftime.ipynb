{
 "cells": [
  {
   "cell_type": "markdown",
   "metadata": {},
   "source": [
    "# 날짜 출력\n",
    "\n",
    "[📒 strptime, strftime 포맷 코드](https://docs.python.org/ko/3.11/library/datetime.html#strftime-and-strptime-format-codes)"
   ]
  },
  {
   "cell_type": "code",
   "execution_count": 1,
   "metadata": {},
   "outputs": [],
   "source": [
    "import datetime"
   ]
  },
  {
   "cell_type": "markdown",
   "metadata": {},
   "source": [
    "## `strptime(str, 'format')`\n",
    "날짜 형식 문자열을 datetime 객체로 변환\n",
    "- %Y 연\n",
    "- %m 월\n",
    "- %d 일\n",
    "- %H 시\n",
    "- %M 분\n",
    "- %S 초"
   ]
  },
  {
   "cell_type": "code",
   "execution_count": 4,
   "metadata": {},
   "outputs": [
    {
     "name": "stdout",
     "output_type": "stream",
     "text": [
      "2022-05-05 21:30:30\n",
      "<class 'str'>\n",
      "******************************\n",
      "2022-05-05 21:30:30\n",
      "<class 'datetime.datetime'>\n"
     ]
    }
   ],
   "source": [
    "str_datetime = '2022-05-05 21:30:30'\n",
    "\n",
    "current_date = datetime.datetime.strptime(str_datetime, '%Y-%m-%d %H:%M:%S')\n",
    "\n",
    "print(str_datetime)\n",
    "print(type(str_datetime))\n",
    "print('*' * 30)\n",
    "print(current_date)\n",
    "print(type(current_date))"
   ]
  },
  {
   "cell_type": "markdown",
   "metadata": {},
   "source": [
    "## `strftime('format')`\n",
    "datetime 객체를 문자열로 변환"
   ]
  },
  {
   "cell_type": "code",
   "execution_count": 6,
   "metadata": {},
   "outputs": [
    {
     "data": {
      "text/plain": [
       "datetime.datetime(2024, 5, 5, 21, 43, 51, 521552)"
      ]
     },
     "execution_count": 6,
     "metadata": {},
     "output_type": "execute_result"
    }
   ],
   "source": [
    "now = datetime.datetime.now()\n",
    "now"
   ]
  },
  {
   "cell_type": "code",
   "execution_count": 8,
   "metadata": {},
   "outputs": [
    {
     "data": {
      "text/plain": [
       "'2024-05-05'"
      ]
     },
     "execution_count": 8,
     "metadata": {},
     "output_type": "execute_result"
    }
   ],
   "source": [
    "str_date = now.strftime('%Y-%m-%d')\n",
    "str_date"
   ]
  },
  {
   "cell_type": "code",
   "execution_count": 10,
   "metadata": {},
   "outputs": [
    {
     "data": {
      "text/plain": [
       "'21:43:51'"
      ]
     },
     "execution_count": 10,
     "metadata": {},
     "output_type": "execute_result"
    }
   ],
   "source": [
    "str_time = now.strftime('%H:%M:%S')\n",
    "str_time"
   ]
  },
  {
   "cell_type": "code",
   "execution_count": 11,
   "metadata": {},
   "outputs": [
    {
     "data": {
      "text/plain": [
       "'2024-05-05 21:43:51'"
      ]
     },
     "execution_count": 11,
     "metadata": {},
     "output_type": "execute_result"
    }
   ],
   "source": [
    "str_datetime = now.strftime('%Y-%m-%d %H:%M:%S')\n",
    "str_datetime"
   ]
  },
  {
   "cell_type": "code",
   "execution_count": 12,
   "metadata": {},
   "outputs": [
    {
     "name": "stdout",
     "output_type": "stream",
     "text": [
      "2024-05-05 21:43:51.521552\n",
      "<class 'datetime.datetime'>\n",
      "******************************\n",
      "2024-05-05 21:43:51\n",
      "<class 'str'>\n"
     ]
    }
   ],
   "source": [
    "print(now)\n",
    "print(type(now))\n",
    "print('*' * 30)\n",
    "print(str_datetime)\n",
    "print(type(str_datetime))"
   ]
  }
 ],
 "metadata": {
  "kernelspec": {
   "display_name": "python3.8",
   "language": "python",
   "name": "python3"
  },
  "language_info": {
   "codemirror_mode": {
    "name": "ipython",
    "version": 3
   },
   "file_extension": ".py",
   "mimetype": "text/x-python",
   "name": "python",
   "nbconvert_exporter": "python",
   "pygments_lexer": "ipython3",
   "version": "3.8.19"
  }
 },
 "nbformat": 4,
 "nbformat_minor": 2
}
