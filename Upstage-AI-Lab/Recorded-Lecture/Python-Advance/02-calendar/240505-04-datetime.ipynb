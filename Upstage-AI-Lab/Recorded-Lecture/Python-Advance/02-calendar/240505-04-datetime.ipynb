{
 "cells": [
  {
   "cell_type": "markdown",
   "metadata": {},
   "source": [
    "# 날짜 및 요일 계산\n",
    "## datetime\n",
    "* 날짜와 시간 데이터를 처리하는 파이썬 내장 라이브러리\n",
    "* 현재 시간에 대한 정보를 원하는 형식으로 지정하여 사용 가능\n",
    "* `timedelta` 객체를 활용해 날짜/시간 연산 가능"
   ]
  },
  {
   "cell_type": "code",
   "execution_count": 14,
   "metadata": {},
   "outputs": [],
   "source": [
    "import datetime"
   ]
  },
  {
   "cell_type": "markdown",
   "metadata": {},
   "source": [
    "### 날짜 표현 `datetime.date(y, m, d)`"
   ]
  },
  {
   "cell_type": "code",
   "execution_count": 15,
   "metadata": {},
   "outputs": [
    {
     "data": {
      "text/plain": [
       "datetime.date(2024, 5, 5)"
      ]
     },
     "execution_count": 15,
     "metadata": {},
     "output_type": "execute_result"
    }
   ],
   "source": [
    "day1 = datetime.date(2024, 5, 5)\n",
    "day1"
   ]
  },
  {
   "cell_type": "markdown",
   "metadata": {},
   "source": [
    "### 날짜/시간 표현 `datetime.datetime`"
   ]
  },
  {
   "cell_type": "code",
   "execution_count": 16,
   "metadata": {},
   "outputs": [
    {
     "data": {
      "text/plain": [
       "datetime.datetime(2024, 5, 5, 21, 0, 15)"
      ]
     },
     "execution_count": 16,
     "metadata": {},
     "output_type": "execute_result"
    }
   ],
   "source": [
    "day2 = datetime.datetime(2024, 5, 5, 21, 00, 15)\n",
    "day2"
   ]
  },
  {
   "cell_type": "code",
   "execution_count": 17,
   "metadata": {},
   "outputs": [
    {
     "name": "stdout",
     "output_type": "stream",
     "text": [
      "2024\n",
      "5\n",
      "5\n",
      "21\n",
      "0\n",
      "15\n"
     ]
    }
   ],
   "source": [
    "# 연도\n",
    "print(day2.year)\n",
    "\n",
    "# 월\n",
    "print(day2.month)\n",
    "\n",
    "# 일\n",
    "print(day2.day)\n",
    "\n",
    "# 시간\n",
    "print(day2.hour)\n",
    "\n",
    "# 분\n",
    "print(day2.minute)\n",
    "\n",
    "# 초\n",
    "print(day2.second)"
   ]
  },
  {
   "cell_type": "markdown",
   "metadata": {},
   "source": [
    "### 날짜/시간 합치기 `combine(day, time)`"
   ]
  },
  {
   "cell_type": "code",
   "execution_count": 18,
   "metadata": {},
   "outputs": [
    {
     "name": "stdout",
     "output_type": "stream",
     "text": [
      "2024-05-05 21:00:15\n"
     ]
    }
   ],
   "source": [
    "day = datetime.date(2024, 5, 5)\n",
    "time = datetime.time(21, 0, 15)\n",
    "\n",
    "dt = datetime.datetime.combine(day, time)\n",
    "print(dt)"
   ]
  },
  {
   "cell_type": "markdown",
   "metadata": {},
   "source": [
    "### 현재 날짜 `today()`"
   ]
  },
  {
   "cell_type": "code",
   "execution_count": 19,
   "metadata": {},
   "outputs": [
    {
     "data": {
      "text/plain": [
       "datetime.date(2024, 5, 5)"
      ]
     },
     "execution_count": 19,
     "metadata": {},
     "output_type": "execute_result"
    }
   ],
   "source": [
    "datetime.date.today()"
   ]
  },
  {
   "cell_type": "markdown",
   "metadata": {},
   "source": [
    "### 현재 시간 `now()`\n",
    "[📒 datetime.datetime.now()](https://docs.python.org/ko/3.11/library/datetime.html#datetime.datetime.now)<br>\n",
    "마지막 요소는 마이크로 초(`microsecond`)"
   ]
  },
  {
   "cell_type": "code",
   "execution_count": 20,
   "metadata": {},
   "outputs": [
    {
     "data": {
      "text/plain": [
       "datetime.datetime(2024, 5, 5, 21, 21, 11, 390409)"
      ]
     },
     "execution_count": 20,
     "metadata": {},
     "output_type": "execute_result"
    }
   ],
   "source": [
    "datetime.datetime.now()\n"
   ]
  },
  {
   "cell_type": "markdown",
   "metadata": {},
   "source": [
    "### 날짜 계산 `timedelta`\n",
    "[📒 timedelta 객체](https://docs.python.org/ko/3.11/library/datetime.html#timedelta-objects)"
   ]
  },
  {
   "cell_type": "code",
   "execution_count": 21,
   "metadata": {},
   "outputs": [],
   "source": [
    "day1 = datetime.datetime(2024, 5, 5)\n",
    "day2 = datetime.datetime(2024, 11, 8)"
   ]
  },
  {
   "cell_type": "code",
   "execution_count": 22,
   "metadata": {},
   "outputs": [
    {
     "data": {
      "text/plain": [
       "datetime.timedelta(days=187)"
      ]
     },
     "execution_count": 22,
     "metadata": {},
     "output_type": "execute_result"
    }
   ],
   "source": [
    "# 날짜 뺄셈\n",
    "day2 - day1"
   ]
  },
  {
   "cell_type": "code",
   "execution_count": 23,
   "metadata": {},
   "outputs": [
    {
     "data": {
      "text/plain": [
       "datetime.datetime(2024, 11, 8, 0, 0)"
      ]
     },
     "execution_count": 23,
     "metadata": {},
     "output_type": "execute_result"
    }
   ],
   "source": [
    "# 날짜 덧셈\n",
    "plus = datetime.timedelta(days=187)\n",
    "d_day = day1 + plus\n",
    "d_day"
   ]
  },
  {
   "cell_type": "markdown",
   "metadata": {},
   "source": [
    "### 요일 판별 `weekday()`\n",
    "- 0: 월요일\n",
    "- 1: 화요일\n",
    "- 2: 수요일\n",
    "- 3: 목요일\n",
    "- 4: 금요일\n",
    "- 5: 토요일\n",
    "- 6: 일요일"
   ]
  },
  {
   "cell_type": "code",
   "execution_count": 24,
   "metadata": {},
   "outputs": [],
   "source": [
    "day1 = datetime.date(2024, 5, 5)\n",
    "day2 = datetime.date(2024, 11, 8)"
   ]
  },
  {
   "cell_type": "code",
   "execution_count": 25,
   "metadata": {},
   "outputs": [
    {
     "data": {
      "text/plain": [
       "6"
      ]
     },
     "execution_count": 25,
     "metadata": {},
     "output_type": "execute_result"
    }
   ],
   "source": [
    "day1.weekday()"
   ]
  },
  {
   "cell_type": "code",
   "execution_count": 26,
   "metadata": {},
   "outputs": [
    {
     "data": {
      "text/plain": [
       "4"
      ]
     },
     "execution_count": 26,
     "metadata": {},
     "output_type": "execute_result"
    }
   ],
   "source": [
    "day2.weekday()"
   ]
  }
 ],
 "metadata": {
  "kernelspec": {
   "display_name": "python3.8",
   "language": "python",
   "name": "python3"
  },
  "language_info": {
   "codemirror_mode": {
    "name": "ipython",
    "version": 3
   },
   "file_extension": ".py",
   "mimetype": "text/x-python",
   "name": "python",
   "nbconvert_exporter": "python",
   "pygments_lexer": "ipython3",
   "version": "3.8.19"
  }
 },
 "nbformat": 4,
 "nbformat_minor": 2
}
