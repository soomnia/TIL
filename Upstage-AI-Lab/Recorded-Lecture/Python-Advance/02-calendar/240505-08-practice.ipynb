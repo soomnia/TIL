{
 "cells": [
  {
   "cell_type": "markdown",
   "metadata": {},
   "source": [
    "# 프로젝트 실습\n",
    "> 진행 순서\n",
    "1. 윤년 판별 함수\n",
    "2. 마지막 날짜 계산\n",
    "3. 지나온 날짜 계산\n",
    "4. 요일 반환\n",
    "5. 달력 확인"
   ]
  },
  {
   "cell_type": "markdown",
   "metadata": {},
   "source": [
    "## 1. 윤년 판별 함수"
   ]
  },
  {
   "cell_type": "code",
   "execution_count": 9,
   "metadata": {},
   "outputs": [],
   "source": [
    "def isLeapYear(year):\n",
    "    return ((year % 4 == 0) and (year % 100 != 0)) or (year % 400 == 0)"
   ]
  },
  {
   "cell_type": "markdown",
   "metadata": {},
   "source": [
    "## 2. 마지막 날짜 계산"
   ]
  },
  {
   "cell_type": "code",
   "execution_count": 4,
   "metadata": {},
   "outputs": [],
   "source": [
    "# 연, 월을 입력해 그 달의 마지막 날짜를 반환 받는 함수\n",
    "def lastDay(year, month):\n",
    "    # 각 달의 마지막 날짜를 기록한 리스트\n",
    "    last_days = [31, 28, 21, 30, 31, 30, 31, 31, 30, 31, 30, 31]\n",
    "    \n",
    "    # 윤년일 경우 2월 29일까지\n",
    "    if isLeapYear(year):\n",
    "        last_days[1] = 29\n",
    "    \n",
    "    return last_days[month - 1]"
   ]
  },
  {
   "cell_type": "code",
   "execution_count": 6,
   "metadata": {},
   "outputs": [
    {
     "name": "stdout",
     "output_type": "stream",
     "text": [
      "28\n",
      "29\n"
     ]
    }
   ],
   "source": [
    "print(lastDay(2023,2))\n",
    "print(lastDay(2024,2))"
   ]
  },
  {
   "cell_type": "markdown",
   "metadata": {},
   "source": [
    "## 3. 지나온 날짜 계산"
   ]
  },
  {
   "cell_type": "code",
   "execution_count": 8,
   "metadata": {},
   "outputs": [],
   "source": [
    "def totalDay(year, month, day):\n",
    "    # 1년 1월 1일부터 전년도 12월 31일까지 지난 날짜 합산\n",
    "    ## (year - 1) * 365: 전년도 일수\n",
    "    ## + (year - 1) // 4 - (year - 1) // 100 + (year - 1) // 400 : 윤년일 경우 29일까지 +1 해야하기 때문\n",
    "    total = (year - 1) * 365 + (year - 1) // 4 - (year - 1) // 100 + (year - 1) // 400\n",
    "\n",
    "    # 전년도까지 지난 날짜의 합계 + 전 달까지 지난 날짜\n",
    "    for i in range(1, month):\n",
    "        # 윤년 확인 포함\n",
    "        total += lastDay(year, i)\n",
    "\n",
    "    # 전 달까지 지난 날짜 + 이번 달 날짜 반환\n",
    "    return total + day"
   ]
  },
  {
   "cell_type": "markdown",
   "metadata": {},
   "source": [
    "## 4. 요일 반환"
   ]
  },
  {
   "cell_type": "code",
   "execution_count": 10,
   "metadata": {},
   "outputs": [],
   "source": [
    "def weekDay(year, month, day):\n",
    "    return totalDay(year, month, day) % 7"
   ]
  },
  {
   "cell_type": "markdown",
   "metadata": {},
   "source": [
    "## 5. 달력 확인"
   ]
  },
  {
   "cell_type": "code",
   "execution_count": 49,
   "metadata": {},
   "outputs": [
    {
     "name": "stdout",
     "output_type": "stream",
     "text": [
      "==============================\n",
      "          2020년 2월\n",
      "==============================\n",
      "일   월   화   수   목   금   토\n",
      "==============================\n",
      "                          1 \n",
      "  2   3   4   5   6   7   8 \n",
      "  9  10  11  12  13  14  15 \n",
      " 16  17  18  19  20  21  22 \n",
      " 23  24  25  26  27  28  29 \n",
      "==============================\n"
     ]
    }
   ],
   "source": [
    "if __name__ == \"__main__\":\n",
    "    year, month = map(int, input('달력을 출력할 연, 월을 입력하세요:').split())\n",
    "    print('=' * 30)\n",
    "    print(f'          {year}년 {month}월')\n",
    "    print('=' * 30)\n",
    "    print('일   월   화   수   목   금   토')\n",
    "    print('=' * 30)\n",
    "\n",
    "    # 1일\n",
    "    for i in range(weekDay(year, month, 1)):\n",
    "        print('    ', end = '')\n",
    "    \n",
    "    # 1일부터 달의 마지막 날짜까지 반복하며 출력\n",
    "    for i in range(1, lastDay(year, month) + 1):\n",
    "        print(' {0:2d} '.format(i), end = '')\n",
    "\n",
    "        # 출력한 i일이 토요일이고 그 달의 마지막 날짜가 아니라면 줄바꿈\n",
    "        if weekDay(year, month, i) == 6 and i != lastDay(year, month):\n",
    "            print('')\n",
    "    \n",
    "    #\n",
    "    print('\\n' + '=' * 30)"
   ]
  }
 ],
 "metadata": {
  "kernelspec": {
   "display_name": "python3.8",
   "language": "python",
   "name": "python3"
  },
  "language_info": {
   "codemirror_mode": {
    "name": "ipython",
    "version": 3
   },
   "file_extension": ".py",
   "mimetype": "text/x-python",
   "name": "python",
   "nbconvert_exporter": "python",
   "pygments_lexer": "ipython3",
   "version": "3.8.19"
  }
 },
 "nbformat": 4,
 "nbformat_minor": 2
}
