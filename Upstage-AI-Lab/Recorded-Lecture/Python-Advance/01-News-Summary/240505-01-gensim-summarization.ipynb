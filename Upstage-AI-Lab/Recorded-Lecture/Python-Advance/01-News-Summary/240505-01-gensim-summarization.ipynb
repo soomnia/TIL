{
 "cells": [
  {
   "cell_type": "markdown",
   "metadata": {},
   "source": [
    "# 과업4. 문서 요약하기\n",
    "\n",
    "## gensim.summarization.summarizer\n",
    "[AI Hub | 도서자료 요약](https://aihub.or.kr/aihubdata/data/view.do?currMenu=115&topMenu=100&aihubDataSe=realm&dataSetSn=93)"
   ]
  },
  {
   "cell_type": "code",
   "execution_count": 3,
   "metadata": {},
   "outputs": [],
   "source": [
    "from gensim.summarization.summarizer import summarize\n",
    "import pandas as pd\n",
    "import numpy as np"
   ]
  },
  {
   "cell_type": "code",
   "execution_count": 4,
   "metadata": {},
   "outputs": [],
   "source": [
    "df = pd.read_csv('Book_test.csv')\n",
    "# 위에서부터 100줄만 사용\n",
    "df = df.iloc[0:100]\n",
    "df.reset_index(inplace=True)"
   ]
  },
  {
   "cell_type": "code",
   "execution_count": 5,
   "metadata": {},
   "outputs": [
    {
     "data": {
      "text/html": [
       "<div>\n",
       "<style scoped>\n",
       "    .dataframe tbody tr th:only-of-type {\n",
       "        vertical-align: middle;\n",
       "    }\n",
       "\n",
       "    .dataframe tbody tr th {\n",
       "        vertical-align: top;\n",
       "    }\n",
       "\n",
       "    .dataframe thead th {\n",
       "        text-align: right;\n",
       "    }\n",
       "</style>\n",
       "<table border=\"1\" class=\"dataframe\">\n",
       "  <thead>\n",
       "    <tr style=\"text-align: right;\">\n",
       "      <th></th>\n",
       "      <th>index</th>\n",
       "      <th>Unnamed: 0</th>\n",
       "      <th>passage</th>\n",
       "      <th>summary</th>\n",
       "    </tr>\n",
       "  </thead>\n",
       "  <tbody>\n",
       "    <tr>\n",
       "      <th>0</th>\n",
       "      <td>0</td>\n",
       "      <td>0</td>\n",
       "      <td>이 장은 후진타오(호금도) 시대가 어떤 과정을 통해 등장했는가를 검토하는 것이다....</td>\n",
       "      <td>후진타오 시대는 제 3세대 지도자가 물러나며 제 4세대 지도자가 새로운 통치 집단...</td>\n",
       "    </tr>\n",
       "    <tr>\n",
       "      <th>1</th>\n",
       "      <td>1</td>\n",
       "      <td>1</td>\n",
       "      <td>한편 사영기업가의 입당허용이 단기간에 중국정치에 변화를 몰고 올 것 같지는 않다....</td>\n",
       "      <td>사영기업가 계층은 국가의 통제를 아직 벗어나지 못했다는 등의 이유로 단기간에 중국...</td>\n",
       "    </tr>\n",
       "    <tr>\n",
       "      <th>2</th>\n",
       "      <td>2</td>\n",
       "      <td>2</td>\n",
       "      <td>그런데 제 16차 당 대회에서는 민족주의를 강조하는 경향이 이전보다 더욱 두드러졌...</td>\n",
       "      <td>공산당이 국민정당에 대해 민족정당이 된 것, 정치보고에 민족정신 등에 대한 강조가...</td>\n",
       "    </tr>\n",
       "    <tr>\n",
       "      <th>3</th>\n",
       "      <td>3</td>\n",
       "      <td>3</td>\n",
       "      <td>2.3.2 제10기 전국인민대표대회 제 1차 회의(2003년)\\n 2003년 3월 ...</td>\n",
       "      <td>2003년의 10기 전국인대 1차 회의는 주요 국가지도자에 대한 인선이 있었고 공...</td>\n",
       "    </tr>\n",
       "    <tr>\n",
       "      <th>4</th>\n",
       "      <td>4</td>\n",
       "      <td>4</td>\n",
       "      <td>1) 인선에 대한 총괄평가\\n 제 10기 전국인대 제 1차 회의에서 선출(비준)된...</td>\n",
       "      <td>10기 전국인대 1차 회의는 완전하고 실질적인 권력이양이 이루어지지 않았다. 이에...</td>\n",
       "    </tr>\n",
       "  </tbody>\n",
       "</table>\n",
       "</div>"
      ],
      "text/plain": [
       "   index  Unnamed: 0                                            passage  \\\n",
       "0      0           0   이 장은 후진타오(호금도) 시대가 어떤 과정을 통해 등장했는가를 검토하는 것이다....   \n",
       "1      1           1   한편 사영기업가의 입당허용이 단기간에 중국정치에 변화를 몰고 올 것 같지는 않다....   \n",
       "2      2           2   그런데 제 16차 당 대회에서는 민족주의를 강조하는 경향이 이전보다 더욱 두드러졌...   \n",
       "3      3           3  2.3.2 제10기 전국인민대표대회 제 1차 회의(2003년)\\n 2003년 3월 ...   \n",
       "4      4           4   1) 인선에 대한 총괄평가\\n 제 10기 전국인대 제 1차 회의에서 선출(비준)된...   \n",
       "\n",
       "                                             summary  \n",
       "0   후진타오 시대는 제 3세대 지도자가 물러나며 제 4세대 지도자가 새로운 통치 집단...  \n",
       "1   사영기업가 계층은 국가의 통제를 아직 벗어나지 못했다는 등의 이유로 단기간에 중국...  \n",
       "2   공산당이 국민정당에 대해 민족정당이 된 것, 정치보고에 민족정신 등에 대한 강조가...  \n",
       "3   2003년의 10기 전국인대 1차 회의는 주요 국가지도자에 대한 인선이 있었고 공...  \n",
       "4   10기 전국인대 1차 회의는 완전하고 실질적인 권력이양이 이루어지지 않았다. 이에...  "
      ]
     },
     "execution_count": 5,
     "metadata": {},
     "output_type": "execute_result"
    }
   ],
   "source": [
    "df.head()"
   ]
  },
  {
   "cell_type": "code",
   "execution_count": 6,
   "metadata": {},
   "outputs": [
    {
     "data": {
      "text/plain": [
       "' 이 장은 후진타오(호금도) 시대가 어떤 과정을 통해 등장했는가를 검토하는 것이다. 이를 위해 여기서는 2002년 11월 개최된 중국공산당 제 16차 전국대표대회(당 대회)와 2003년 3월 개최된 제 10기 전국인민대표대회(전국인대) 제 1차 회의를 분석할 것이다. 후진타오 시대는 이 두 대회를 시작으로 2004년 9월 공산당 제 16기 중앙위원회 4차 전체회의(4중전회)까지 약 2년의 긴 과정을 거쳐 형성되었다. 우선, 이 기간 동안 장쩌민(장택민), 리펑(이붕), 주룽지(주용기)로 대표되는 제 3세대 지도자가 물러나고, 후진타오, 원자바오(온가보), 쩡칭홍(증경홍)으로 대표되는 제 4세대 지도자가 새로운 통치 집단으로 등장했다. 또한, 이 기간 동안 후진타오 시대의 중국이 실시할 국가정책의 방침과 내용이 서서히 모습을 드러냈다. 따라서 후진타오 시대의 등장과정을 이해하기 위해서는 16차 당 대회와 10기 전국인대 1차 회의에 대한 분석이 필수적이다.\\n 그런데 제 3세대에서 제 4세대로의 권력이양은 결코 순탄하지 않았다. 장쩌민이 2002년 16차 당 대회에서 후진타오에게 총서기직을 물려준 다음에도 2004년 공산당 제 16기 4중전회까지 약 2년 동안 중앙군사위원회 주석직을 유지했다는 사실은 이를 상징적으로 보여준다. 따라서 이 기간은 장쩌민 시대와 후진타오 시대가 공존하는 일종의 과도기라고 할 수 있다. 또한 이 기간은 후진타오와 원자바오가 장쩌민 세력에 맞서 자신의 권력기반을 공고히 하는 한편 장쩌민 시대의 유산을 정리하면서 국민들에게 자신의 새로운 비전을 제시하는 탐색기였다고 말할 수 있다.'"
      ]
     },
     "execution_count": 6,
     "metadata": {},
     "output_type": "execute_result"
    }
   ],
   "source": [
    "df.loc[0, 'passage']"
   ]
  },
  {
   "cell_type": "code",
   "execution_count": 7,
   "metadata": {},
   "outputs": [
    {
     "data": {
      "text/plain": [
       "' 후진타오 시대는 제 3세대 지도자가 물러나며 제 4세대 지도자가 새로운 통치 집단이 되었고 국가정책 방침과 내용이 모습을 드러냈다. 장쩌민이 후진타오에게 총서기직을 물려준 후에도 약 2년 동안 중앙군사위원회 주석직을 유지한 것은 제 3세대에서 제 4세대로의 순탄치 않은 권력이양을 보여준다. 이 시기는 장쩌민 시대와 후진타오 시대가 공존하는 과도기이며 후진타오와 원자바오가 자신의 새로운 비전을 제시하는 탐색기였다.'"
      ]
     },
     "execution_count": 7,
     "metadata": {},
     "output_type": "execute_result"
    }
   ],
   "source": [
    "df.loc[0, 'summary']"
   ]
  },
  {
   "cell_type": "code",
   "execution_count": 8,
   "metadata": {},
   "outputs": [
    {
     "data": {
      "text/plain": [
       "'이 장은 후진타오(호금도) 시대가 어떤 과정을 통해 등장했는가를 검토하는 것이다.\\n따라서 이 기간은 장쩌민 시대와 후진타오 시대가 공존하는 일종의 과도기라고 할 수 있다.'"
      ]
     },
     "execution_count": 8,
     "metadata": {},
     "output_type": "execute_result"
    }
   ],
   "source": [
    "# 데이터 요약하기\n",
    "summarize(df.loc[0, 'passage'])"
   ]
  },
  {
   "cell_type": "code",
   "execution_count": 9,
   "metadata": {},
   "outputs": [
    {
     "data": {
      "text/plain": [
       "'이 장은 후진타오(호금도) 시대가 어떤 과정을 통해 등장했는가를 검토하는 것이다.\\n후진타오 시대는 이 두 대회를 시작으로 2004년 9월 공산당 제 16기 중앙위원회 4차 전체회의(4중전회)까지 약 2년의 긴 과정을 거쳐 형성되었다.\\n따라서 후진타오 시대의 등장과정을 이해하기 위해서는 16차 당 대회와 10기 전국인대 1차 회의에 대한 분석이 필수적이다.\\n따라서 이 기간은 장쩌민 시대와 후진타오 시대가 공존하는 일종의 과도기라고 할 수 있다.'"
      ]
     },
     "execution_count": 9,
     "metadata": {},
     "output_type": "execute_result"
    }
   ],
   "source": [
    "# 요약의 정도를 설정하기\n",
    "summarize(df.loc[0, 'passage'], ratio=0.4)"
   ]
  },
  {
   "cell_type": "code",
   "execution_count": 10,
   "metadata": {},
   "outputs": [],
   "source": [
    "# 전체 데이터에 적용\n",
    "df['extract'] = df['passage'].apply(lambda x : summarize(x, ratio=0.4))"
   ]
  },
  {
   "cell_type": "code",
   "execution_count": 12,
   "metadata": {},
   "outputs": [
    {
     "data": {
      "text/plain": [
       "0     이 장은 후진타오(호금도) 시대가 어떤 과정을 통해 등장했는가를 검토하는 것이다.\\...\n",
       "1     그러나 장기적으로 볼 때 사영기업가 계층의 정치적 복권은 정치변화와 관련해 큰 의미...\n",
       "2     예를 들어, 앞에서 보았듯이 “당헌” 개정에 의해 공산당이 ‘중화민족의 선봉대’로 ...\n",
       "3     또한 제 10기 전국인대 첫 번째 회의는 5년 임기의 제 10기 전국인대가 시작하는...\n",
       "4     제 10기 전국인대 제 1차 회의에서 선출(비준)된 인사들의 구성과 성격에 대해서는...\n",
       "                            ...                        \n",
       "95    그러므로 그것은 있는 것을 그대로 받아들이는 생각도 아니고 공감을 전제하는 느낌도 ...\n",
       "96    사람은 꿈을 가지지 않은 사람이 없습니다.\\n그런데 꿈은 현실이 아닙니다.\\n‘꿈의...\n",
       "97    무엇보다 자칫 사실에 대한 충실한 서술과 검증을 넘어 관념적이고 추상적인 논의만을 ...\n",
       "98    그러므로 상상은 이성이나 감성과 전혀 다른 차원에서 사람으로 하여금 ‘창조적’이게 ...\n",
       "99    그러나 사람의 마음결에는 또 다른 것이 있습니다.\\n우리 모두 알듯이 사람의 삶은 ...\n",
       "Name: extract, Length: 100, dtype: object"
      ]
     },
     "execution_count": 12,
     "metadata": {},
     "output_type": "execute_result"
    }
   ],
   "source": [
    "df['extract']"
   ]
  },
  {
   "cell_type": "code",
   "execution_count": 13,
   "metadata": {},
   "outputs": [
    {
     "name": "stdout",
     "output_type": "stream",
     "text": [
      "------------------------------------------------------------------------------------------------------------------------\n",
      "96번째 문장\n",
      "\n",
      "원문\n",
      "\n",
      "사람은 꿈을 가지지 않은 사람이 없습니다. 그런데 꿈은 현실이 아닙니다. 꿈을 꾸는 자리는 현실이지만 꿈은 현실 안에 담겨 있는 것이 아닙니다. ‘꿈의현실’이라고 말할 수 있는그러한 것은 실은 없습니다. 하지만 우리는 꿈을 꿉니다. 그렇게 꿈을 꾸는 한 꿈은 실재입니다. 그런데 다시 말하면 바로 그렇기 때문에 꿈은 없는 데 있는 것입니다. 그리고 우리가 다 알듯이 꿈은 상상입니다. 희망이 그러합니다. 그것은 마음이 그리는 그림입니다. 실재하지 않는, 그러나 마음이 지어 만들어내는 실재하는 사물입니다. 그러므로 그것은 언제나 자취도 없이 사라질 수 있습니다. 그러나 동시에 그것은 언제나 내 현실을 빚는 ‘가능성의 샘’으로 있어 마침내 꿈을 현실화할 수 있습니다. 꿈은 이루어집니다.\n",
      "\n",
      "\n",
      "제공된 요약\n",
      "\n",
      "꿈은 현실 안에 담기지 않았지만 우리는 꿈을 꿉니다. 꿈을 꾸는 동안 꿈은 실재이기 때문입니다. 그렇기 때문에 꿈은 '마음이 지어내는 실재하는 사물'이자 '가능성의 샘'이기에 이루어질 수 있습니다.\n",
      "\n",
      "\n",
      "gensim 요약\n",
      "\n",
      "사람은 꿈을 가지지 않은 사람이 없습니다.\n",
      "그런데 꿈은 현실이 아닙니다.\n",
      "‘꿈의현실’이라고 말할 수 있는그러한 것은 실은 없습니다.\n",
      "그러므로 그것은 언제나 자취도 없이 사라질 수 있습니다.\n",
      "그러나 동시에 그것은 언제나 내 현실을 빚는 ‘가능성의 샘’으로 있어 마침내 꿈을 현실화할 수 있습니다.\n",
      "\n",
      "\n"
     ]
    }
   ],
   "source": [
    "# 비교\n",
    "for i in range(0, 1):\n",
    "    random_n = np.random.randint(0, 100, size=1)\n",
    "    print(\"-\" * 120)\n",
    "    print(f\"{random_n[0]}번째 문장\\n\")\n",
    "    print(f\"원문\\n\\n{df['passage'][random_n[0]]}\\n\\n\")\n",
    "    print(f\"제공된 요약\\n\\n{df['summary'][random_n[0]]}\\n\\n\")\n",
    "    print(f\"gensim 요약\\n\\n{df['extract'][random_n[0]]}\\n\\n\")"
   ]
  }
 ],
 "metadata": {
  "kernelspec": {
   "display_name": "python3.8",
   "language": "python",
   "name": "python3"
  },
  "language_info": {
   "codemirror_mode": {
    "name": "ipython",
    "version": 3
   },
   "file_extension": ".py",
   "mimetype": "text/x-python",
   "name": "python",
   "nbconvert_exporter": "python",
   "pygments_lexer": "ipython3",
   "version": "3.8.19"
  }
 },
 "nbformat": 4,
 "nbformat_minor": 2
}
