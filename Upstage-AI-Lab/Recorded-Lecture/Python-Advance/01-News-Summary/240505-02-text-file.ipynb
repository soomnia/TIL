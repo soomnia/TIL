{
 "cells": [
  {
   "cell_type": "markdown",
   "metadata": {},
   "source": [
    "# 과업5. 파일 저장"
   ]
  },
  {
   "cell_type": "markdown",
   "metadata": {},
   "source": [
    "## open과 close\n",
    "### open\n",
    "```python\n",
    "file_obj = open(file_path, 'mode')\n",
    "```\n",
    "### 파일 열기 모드\n",
    "| 모드 | 설명 |\n",
    "|:-----------:|:-----------:|\n",
    "| <b>r</b> | 읽기 모드<br>파일을 읽기만 할 때 사용 |\n",
    "| <b>w</b> | 쓰기 모드<br>파일에 내용을 쓸 때 사용 |\n",
    "| <b>a</b> | 추가 모드<br>파일의 마지막 부분에 새로운 내용을 추가할 때 사용 |\n",
    "\n",
    "\n",
    "### close\n",
    "```python\n",
    "file_obj.close()\n",
    "```"
   ]
  },
  {
   "cell_type": "markdown",
   "metadata": {},
   "source": [
    "## 파일 생성"
   ]
  },
  {
   "cell_type": "code",
   "execution_count": 1,
   "metadata": {},
   "outputs": [],
   "source": [
    "f = open(\"새파일.txt\", 'w')\n",
    "# close()를 통해 파일 객체를 닫지 않으면 변경사항이 반영되지 않는다.\n",
    "f.close()"
   ]
  },
  {
   "cell_type": "markdown",
   "metadata": {},
   "source": [
    "## 파일 쓰기"
   ]
  },
  {
   "cell_type": "code",
   "execution_count": 7,
   "metadata": {},
   "outputs": [],
   "source": [
    "f = open(\"새파일.txt\", 'w')\n",
    "for i in range(1, 11):\n",
    "    data = \"%d번째 줄입니다\\n\" % i\n",
    "    f.write(data)\n",
    "f.close()"
   ]
  },
  {
   "cell_type": "markdown",
   "metadata": {},
   "source": [
    "## 파일 읽기"
   ]
  },
  {
   "cell_type": "code",
   "execution_count": 3,
   "metadata": {},
   "outputs": [
    {
     "name": "stdout",
     "output_type": "stream",
     "text": [
      "1번째 줄입니다\n",
      "\n",
      "2번째 줄입니다\n",
      "\n"
     ]
    }
   ],
   "source": [
    "# 한 줄 읽기\n",
    "f = open(\"새파일.txt\", 'r')\n",
    "line = f.readline()\n",
    "print(line)\n",
    "line = f.readline()\n",
    "print(line)\n",
    "f.close()"
   ]
  },
  {
   "cell_type": "code",
   "execution_count": 4,
   "metadata": {},
   "outputs": [
    {
     "name": "stdout",
     "output_type": "stream",
     "text": [
      "1번째 줄입니다\n",
      "\n",
      "2번째 줄입니다\n",
      "\n",
      "3번째 줄입니다\n",
      "\n",
      "4번째 줄입니다\n",
      "\n",
      "5번째 줄입니다\n",
      "\n",
      "6번째 줄입니다\n",
      "\n",
      "7번째 줄입니다\n",
      "\n",
      "8번째 줄입니다\n",
      "\n",
      "9번째 줄입니다\n",
      "\n",
      "10번째 줄입니다\n",
      "\n"
     ]
    }
   ],
   "source": [
    "# 모든 줄 읽기\n",
    "f = open(\"새파일.txt\", 'r')\n",
    "lines = f.readlines()\n",
    "for line in lines:\n",
    "    print(line)\n",
    "f.close()"
   ]
  },
  {
   "cell_type": "markdown",
   "metadata": {},
   "source": [
    "## 내용 추가"
   ]
  },
  {
   "cell_type": "code",
   "execution_count": 5,
   "metadata": {},
   "outputs": [],
   "source": [
    "# w 모드 사용\n",
    "f = open(\"새파일.txt\", 'w')\n",
    "for i in range(11, 21):\n",
    "    data = \"%d번째 줄입니다\\n\" % i\n",
    "    f.write(data)\n",
    "f.close()\n",
    "\n",
    "## 기존 내용은 없어지고 새로운 내용이 쓰인다."
   ]
  },
  {
   "cell_type": "code",
   "execution_count": 8,
   "metadata": {},
   "outputs": [],
   "source": [
    "# a 모드 사용\n",
    "f = open(\"새파일.txt\", 'a')\n",
    "for i in range(11, 21):\n",
    "    data = \"%d번째 줄입니다\\n\" % i\n",
    "    f.write(data)\n",
    "f.close()"
   ]
  },
  {
   "cell_type": "markdown",
   "metadata": {},
   "source": [
    "## with문\n",
    "`close()`를 사용하지 않아도 됨<br>\n",
    "with문을 실행하는 중에만 파일 객체를 열고 실행이 끝나면 파일을 닫음"
   ]
  },
  {
   "cell_type": "code",
   "execution_count": 9,
   "metadata": {},
   "outputs": [],
   "source": [
    "#\n",
    "with open(\"새파일.txt\", 'w') as f:\n",
    "    for i in range(1, 11):\n",
    "        data = \"%d번째 줄입니다\\n\" % i\n",
    "        f.write(data)"
   ]
  }
 ],
 "metadata": {
  "kernelspec": {
   "display_name": "python3.8",
   "language": "python",
   "name": "python3"
  },
  "language_info": {
   "codemirror_mode": {
    "name": "ipython",
    "version": 3
   },
   "file_extension": ".py",
   "mimetype": "text/x-python",
   "name": "python",
   "nbconvert_exporter": "python",
   "pygments_lexer": "ipython3",
   "version": "3.8.19"
  }
 },
 "nbformat": 4,
 "nbformat_minor": 2
}
