{
 "cells": [
  {
   "cell_type": "markdown",
   "metadata": {},
   "source": [
    "# 과업1. 인코딩\n",
    "바이너리 파일을 문자열로 변경\n",
    "\n",
    "## 바이너리 파일\n",
    "- ‘0’ 과 ‘1’ 을 이용한 **2진수 데이터** 만으로만으로 인코딩된 파일\n",
    "- 데이터를 효율적으로 처리, 저장, 실행 등을 목적으로 만들어진 파일\n",
    "- 장점\n",
    "   - 데이터를 처리하고 전송하는데 일반적으로 비용이 적게 든다.\n",
    "   - 텍스트 파일에 비해서 데이터 처리 속도가 빠르다.\n",
    "   - 데이터 저장 공간도 적게 듦\n",
    "- 대표적인 확장자 : exe, dll, zip, rar, mp3, mpg, jpg, png 등"
   ]
  },
  {
   "cell_type": "markdown",
   "metadata": {},
   "source": [
    "## **Base64 인코딩**\n",
    "- 다양한 통신채널 (HTML, 이메일 등) 을 통해 **바이너리 데이터**를 **안전하게 전송**할 수 있게 하는 방법\n",
    "- ASCII (8bit) : 프로토콜,시스템마다 다르게 해석되어 데이터가 왜곡될 여지가 있기 때문에 적합하지 않음\n",
    "- Base64 : XML이나 HTTP 프로토콜에서도 특수문자 파싱 문제를 해결할 수 있는 수단\n",
    "- 64 진법은 ASCII문자들을 모두 표현할 수 있는 가장 작은 진법\n",
    "    - `문자열 입력` -> `ASCII/Binary (8bit)` -> `6bit cut` -> `base64`\n",
    "- [Base64 인코딩 테이블](https://en.wikipedia.org/wiki/Base64)"
   ]
  },
  {
   "cell_type": "code",
   "execution_count": 1,
   "metadata": {},
   "outputs": [],
   "source": [
    "import base64"
   ]
  },
  {
   "cell_type": "code",
   "execution_count": 2,
   "metadata": {},
   "outputs": [],
   "source": [
    "## 문자열 인코딩/디코딩\n",
    "string = 'Life is too short, We need Python !'"
   ]
  },
  {
   "cell_type": "code",
   "execution_count": 3,
   "metadata": {},
   "outputs": [
    {
     "ename": "TypeError",
     "evalue": "a bytes-like object is required, not 'str'",
     "output_type": "error",
     "traceback": [
      "\u001b[0;31m---------------------------------------------------------------------------\u001b[0m",
      "\u001b[0;31mTypeError\u001b[0m                                 Traceback (most recent call last)",
      "Cell \u001b[0;32mIn[3], line 1\u001b[0m\n\u001b[0;32m----> 1\u001b[0m encoded \u001b[38;5;241m=\u001b[39m base64\u001b[38;5;241m.\u001b[39mb64encode(string)\n",
      "File \u001b[0;32m/opt/anaconda3/lib/python3.11/base64.py:58\u001b[0m, in \u001b[0;36mb64encode\u001b[0;34m(s, altchars)\u001b[0m\n\u001b[1;32m     51\u001b[0m \u001b[38;5;28;01mdef\u001b[39;00m \u001b[38;5;21mb64encode\u001b[39m(s, altchars\u001b[38;5;241m=\u001b[39m\u001b[38;5;28;01mNone\u001b[39;00m):\n\u001b[1;32m     52\u001b[0m \u001b[38;5;250m    \u001b[39m\u001b[38;5;124;03m\"\"\"Encode the bytes-like object s using Base64 and return a bytes object.\u001b[39;00m\n\u001b[1;32m     53\u001b[0m \n\u001b[1;32m     54\u001b[0m \u001b[38;5;124;03m    Optional altchars should be a byte string of length 2 which specifies an\u001b[39;00m\n\u001b[1;32m     55\u001b[0m \u001b[38;5;124;03m    alternative alphabet for the '+' and '/' characters.  This allows an\u001b[39;00m\n\u001b[1;32m     56\u001b[0m \u001b[38;5;124;03m    application to e.g. generate url or filesystem safe Base64 strings.\u001b[39;00m\n\u001b[1;32m     57\u001b[0m \u001b[38;5;124;03m    \"\"\"\u001b[39;00m\n\u001b[0;32m---> 58\u001b[0m     encoded \u001b[38;5;241m=\u001b[39m binascii\u001b[38;5;241m.\u001b[39mb2a_base64(s, newline\u001b[38;5;241m=\u001b[39m\u001b[38;5;28;01mFalse\u001b[39;00m)\n\u001b[1;32m     59\u001b[0m     \u001b[38;5;28;01mif\u001b[39;00m altchars \u001b[38;5;129;01mis\u001b[39;00m \u001b[38;5;129;01mnot\u001b[39;00m \u001b[38;5;28;01mNone\u001b[39;00m:\n\u001b[1;32m     60\u001b[0m         \u001b[38;5;28;01massert\u001b[39;00m \u001b[38;5;28mlen\u001b[39m(altchars) \u001b[38;5;241m==\u001b[39m \u001b[38;5;241m2\u001b[39m, \u001b[38;5;28mrepr\u001b[39m(altchars)\n",
      "\u001b[0;31mTypeError\u001b[0m: a bytes-like object is required, not 'str'"
     ]
    }
   ],
   "source": [
    "encoded = base64.b64encode(string)"
   ]
  },
  {
   "cell_type": "markdown",
   "metadata": {},
   "source": [
    "base64는 기본적으로 byte 단위의 데이터 - 바이너리 파일만 인코딩할 수 있다."
   ]
  },
  {
   "cell_type": "code",
   "execution_count": 4,
   "metadata": {},
   "outputs": [
    {
     "name": "stdout",
     "output_type": "stream",
     "text": [
      "b'Life is too short, We need Python !'\n"
     ]
    }
   ],
   "source": [
    "# ascii 인코딩\n",
    "bstring = string.encode('ascii')\n",
    "print(bstring)"
   ]
  },
  {
   "cell_type": "code",
   "execution_count": 5,
   "metadata": {},
   "outputs": [],
   "source": [
    "# base64 인코딩\n",
    "encoded = base64.b64encode(bstring)"
   ]
  },
  {
   "cell_type": "code",
   "execution_count": 6,
   "metadata": {},
   "outputs": [
    {
     "name": "stdout",
     "output_type": "stream",
     "text": [
      "b'TGlmZSBpcyB0b28gc2hvcnQsIFdlIG5lZWQgUHl0aG9uICE='\n"
     ]
    }
   ],
   "source": [
    "print(encoded)"
   ]
  },
  {
   "cell_type": "code",
   "execution_count": 7,
   "metadata": {},
   "outputs": [],
   "source": [
    "# base64 디코딩\n",
    "decoded = base64.decodebytes(encoded)"
   ]
  },
  {
   "cell_type": "code",
   "execution_count": 8,
   "metadata": {},
   "outputs": [
    {
     "name": "stdout",
     "output_type": "stream",
     "text": [
      "b'Life is too short, We need Python !'\n"
     ]
    }
   ],
   "source": [
    "print(decoded)"
   ]
  },
  {
   "cell_type": "code",
   "execution_count": 9,
   "metadata": {},
   "outputs": [
    {
     "name": "stdout",
     "output_type": "stream",
     "text": [
      "Life is too short, We need Python !\n"
     ]
    }
   ],
   "source": [
    "# ascii 디코딩\n",
    "decoded_str = decoded.decode('ascii')\n",
    "print(decoded_str)"
   ]
  },
  {
   "cell_type": "code",
   "execution_count": 10,
   "metadata": {},
   "outputs": [],
   "source": [
    "## 이미지 인코딩/디코딩\n",
    "path = \"soomnia.png\""
   ]
  },
  {
   "cell_type": "code",
   "execution_count": 11,
   "metadata": {},
   "outputs": [
    {
     "data": {
      "image/jpeg": "[encoded data removed]",
      "image/png": "[encoded data removed]",
      "text/plain": [
       "<PIL.PngImagePlugin.PngImageFile image mode=RGB size=420x420>"
      ]
     },
     "execution_count": 11,
     "metadata": {},
     "output_type": "execute_result"
    }
   ],
   "source": [
    "# 이미지 확인\n",
    "## pip install pillow\n",
    "from PIL import Image\n",
    "img = Image.open(path)\n",
    "img"
   ]
  },
  {
   "cell_type": "code",
   "execution_count": 12,
   "metadata": {},
   "outputs": [],
   "source": [
    "# 바이너리 파일 읽기\n",
    "## rb: read bytes\n",
    "with open(path, 'rb') as img:\n",
    "    image = img.read()"
   ]
  },
  {
   "cell_type": "code",
   "execution_count": 13,
   "metadata": {},
   "outputs": [
    {
     "data": {
      "text/plain": [
       "b'\\x89PNG\\r\\n\\x1a\\n\\x00\\x00\\x00\\rIHDR\\x00\\x00\\x01\\xa4\\x00\\x00\\x01\\xa4\\x08\\x02\\x00\\x00\\x00\\xf1.\\xc6b\\x00\\x00\\x05\\xc5IDATx\\x9c\\xec\\xd6a\\x8dj1\\x14F\\xd1\\xc7\\xcbu\\x80>$\\xa0\\x06\\t\\xe8#9\\x12\\xc6\\xc3\\x84\\xdb\\xc2\\xec\\xb5\\x0c\\xf4\\xfb\\xd1\\xec\\x9ccf\\xfe\\x01\\xfcu\\xffw\\x0f\\x00XA\\xec\\x80\\x04\\xb1\\x03\\x12\\xc4\\x0eH\\x10; A\\xec\\x80\\x04\\xb1\\x03\\x12\\xc4\\x0eH\\x10; A\\xec\\x80\\x04\\xb1\\x03\\x12\\xc4\\x0eH\\x10; A\\xec\\x80\\x04\\xb1\\x03\\x12\\xc4\\x0eH\\x10; A\\xec\\x80\\x04\\xb1\\x03\\x12\\xc4\\x0eH\\x10; A\\xec\\x80\\x04\\xb1\\x03\\x12\\xc4\\x0eH\\x10; A\\xec\\x80\\x04\\xb1\\x03\\x12\\xc4\\x0eH\\x10; A\\xec\\x80\\x04\\xb1\\x03\\x12\\xc4\\x0eH\\x10; A\\xec\\x80\\x84c\\xd9K\\x8f\\xd7s\\xd9[\\xc0\\x17\\xb9_o\\x0b^q\\xd9\\x01\\tb\\x07$\\x88\\x1d\\x90 v@\\x82\\xd8\\x01\\tb\\x07$\\x88\\x1d\\x90 v@\\x82\\xd8\\x01\\tb\\x07$\\x88\\x1d\\x90 v@\\x82\\xd8\\x01\\tb\\x07$\\x88\\x1d\\x90 v@\\x82\\xd8\\x01\\tb\\x07$\\x88\\x1d\\x90 v@\\x82\\xd8\\x01\\tb\\x07$\\x88\\x1d\\x90 v@\\x82\\xd8\\x01\\tb\\x07$\\x88\\x1d\\x90 v@\\x82\\xd8\\x01\\tb\\x07$\\x88\\x1d\\x90 v@\\x82\\xd8\\x01\\tb\\x07$\\x88\\x1d\\x90 v@\\x82\\xd8\\x01\\tb\\x07$\\x88\\x1d\\x90 v@\\x82\\xd8\\x01\\tb\\x07$\\x88\\x1d\\x90 v@\\x82\\xd8\\x01\\tb\\x07$\\x88\\x1d\\x90 v@\\x82\\xd8\\x01\\tb\\x07$\\x88\\x1d\\x90 v@\\x82\\xd8\\x01\\tb\\x07$\\x88\\x1d\\x90 v@\\x82\\xd8\\x01\\tb\\x07$\\x88\\x1d\\x90 v@\\x82\\xd8\\x01\\tb\\x07$\\x88\\x1d\\x90 v@\\x82\\xd8\\x01\\tb\\x07$\\x88\\x1d\\x90 v@\\x82\\xd8\\x01\\tb\\x07$\\\\ff\\xf7\\x06\\x80\\xd3\\xb9\\xec\\x80\\x04\\xb1\\x03\\x12\\xc4\\x0eH\\x10; A\\xec\\x80\\x04\\xb1\\x03\\x12\\xc4\\x0eH\\x10; A\\xec\\x80\\x04\\xb1\\x03\\x12\\xc4\\x0eH\\x10; A\\xec\\x80\\x04\\xb1\\x03\\x12\\xc4\\x0eH\\x10; A\\xec\\x80\\x04\\xb1\\x03\\x12\\xc4\\x0eH\\x10; A\\xec\\x80\\x04\\xb1\\x03\\x12\\xc4\\x0eH\\x10; A\\xec\\x80\\x04\\xb1\\x03\\x12\\xc4\\x0eH\\x10; A\\xec\\x80\\x04\\xb1\\x03\\x12\\xc4\\x0eH\\x10; A\\xec\\x80\\x04\\xb1\\x03\\x12\\xc4\\x0eH\\x10; A\\xec\\x80\\x04\\xb1\\x03\\x12\\xc4\\x0eH\\x10; A\\xec\\x80\\x04\\xb1\\x03\\x12\\xc4\\x0eH\\x10; A\\xec\\x80\\x04\\xb1\\x03\\x12\\xc4\\x0eH\\x10; A\\xec\\x80\\x04\\xb1\\x03\\x12\\xc4\\x0eH\\x10; A\\xec\\x80\\x04\\xb1\\x03\\x12\\xc4\\x0eH\\x10; A\\xec\\x80\\x04\\xb1\\x03\\x12\\xc4\\x0eH\\x10; A\\xec\\x80\\x04\\xb1\\x03\\x12\\xc4\\x0eH\\x10; A\\xec\\x80\\x04\\xb1\\x03\\x12\\xc4\\x0eH\\x10; \\xe1\\xd8=\\x80\\x0f\\xf2x=wOx\\xbf\\xfb\\xf5\\xb6{\\x02\\x1f\\xc1e\\x07$\\x88\\x1d\\x90 v@\\x82\\xd8\\x01\\tb\\x07$\\x88\\x1d\\x90 v@\\x82\\xd8\\x01\\tb\\x07$\\x88\\x1d\\x90 v@\\x82\\xd8\\x01\\tb\\x07$\\x88\\x1d\\x90 v@\\x82\\xd8\\x01\\tb\\x07$\\x88\\x1d\\x90 v@\\x82\\xd8\\x01\\tb\\x07$\\x88\\x1d\\x90 v@\\x82\\xd8\\x01\\tb\\x07$\\x88\\x1d\\x90 v@\\x82\\xd8\\x01\\tb\\x07$\\x88\\x1d\\x90 v@\\x82\\xd8\\x01\\tb\\x07$\\x88\\x1d\\x90 v@\\x82\\xd8\\x01\\tb\\x07$\\x88\\x1d\\x90 v@\\x82\\xd8\\x01\\tb\\x07$\\x88\\x1d\\x90 v@\\x82\\xd8\\x01\\tb\\x07$\\x88\\x1d\\x90 v@\\x82\\xd8\\x01\\tb\\x07$\\x88\\x1d\\x90 v@\\x82\\xd8\\x01\\tb\\x07$\\x88\\x1d\\x90 v@\\x82\\xd8\\x01\\tb\\x07$\\x88\\x1d\\x90 v@\\x82\\xd8\\x01\\tb\\x07$\\x88\\x1d\\x90 v@\\x82\\xd8\\x01\\tb\\x07$\\x88\\x1d\\x90 v@\\x82\\xd8\\x01\\tb\\x07$\\x88\\x1d\\x90p\\x99\\x99\\xdd\\x1b\\x00N\\xe7\\xb2\\x03\\x12\\xc4\\x0eH\\x10; A\\xec\\x80\\x04\\xb1\\x03\\x12\\xc4\\x0eH\\x10; A\\xec\\x80\\x04\\xb1\\x03\\x12\\xc4\\x0eH\\x10; A\\xec\\x80\\x04\\xb1\\x03\\x12\\xc4\\x0eH\\x10; A\\xec\\x80\\x04\\xb1\\x03\\x12\\xc4\\x0eH\\x10; A\\xec\\x80\\x04\\xb1\\x03\\x12\\xc4\\x0eH\\x10; A\\xec\\x80\\x04\\xb1\\x03\\x12\\xc4\\x0eH\\x10; A\\xec\\x80\\x04\\xb1\\x03\\x12\\xc4\\x0eH\\x10; A\\xec\\x80\\x04\\xb1\\x03\\x12\\xc4\\x0eH\\x10; A\\xec\\x80\\x04\\xb1\\x03\\x12\\xc4\\x0eH\\x10; A\\xec\\x80\\x04\\xb1\\x03\\x12\\xc4\\x0eH\\x10; A\\xec\\x80\\x04\\xb1\\x03\\x12\\xc4\\x0eH\\x10; A\\xec\\x80\\x04\\xb1\\x03\\x12\\xc4\\x0eH\\x10; A\\xec\\x80\\x04\\xb1\\x03\\x12\\xc4\\x0eH\\x10; A\\xec\\x80\\x04\\xb1\\x03\\x12\\xc4\\x0eH\\x10; A\\xec\\x80\\x04\\xb1\\x03\\x12\\xc4\\x0eH\\x10; A\\xec\\x80\\x04\\xb1\\x03\\x12\\xc4\\x0eH\\x10; A\\xec\\x80\\x84c\\xd9K\\x8f\\xd7s\\xd9[\\xfc\\xda\\xfdz\\xdb=\\xe1\\x9d\\xfc\\xba\\xaf\\xb0\\xe6\\xd7\\xb9\\xec\\x80\\x04\\xb1\\x03\\x12\\xc4\\x0eH\\x10; A\\xec\\x80\\x04\\xb1\\x03\\x12\\xc4\\x0eH\\x10; A\\xec\\x80\\x04\\xb1\\x03\\x12\\xc4\\x0eH\\x10; A\\xec\\x80\\x04\\xb1\\x03\\x12\\xc4\\x0eH\\x10; A\\xec\\x80\\x04\\xb1\\x03\\x12\\xc4\\x0eH\\x10; A\\xec\\x80\\x04\\xb1\\x03\\x12\\xc4\\x0eH\\x10; A\\xec\\x80\\x04\\xb1\\x03\\x12\\xc4\\x0eH\\x10; A\\xec\\x80\\x04\\xb1\\x03\\x12\\xc4\\x0eH\\x10; A\\xec\\x80\\x04\\xb1\\x03\\x12\\xc4\\x0eH\\x10; A\\xec\\x80\\x04\\xb1\\x03\\x12\\xc4\\x0eH\\x10; A\\xec\\x80\\x04\\xb1\\x03\\x12\\xc4\\x0eH\\x10; A\\xec\\x80\\x04\\xb1\\x03\\x12\\xc4\\x0eH\\x10; A\\xec\\x80\\x04\\xb1\\x03\\x12\\xc4\\x0eH\\x10; A\\xec\\x80\\x04\\xb1\\x03\\x12\\xc4\\x0eH\\x10; A\\xec\\x80\\x04\\xb1\\x03\\x12\\xc4\\x0eH\\x10; A\\xec\\x80\\x04\\xb1\\x03\\x12\\xc4\\x0eH\\x10; A\\xec\\x80\\x04\\xb1\\x03\\x12\\xc4\\x0eH\\x10; A\\xec\\x80\\x04\\xb1\\x03\\x12.3\\xb3{\\x03\\xc0\\xe9\\\\v@\\x82\\xd8\\x01\\tb\\x07$\\x88\\x1d\\x90 v@\\x82\\xd8\\x01\\tb\\x07$\\x88\\x1d\\x90 v@\\x82\\xd8\\x01\\tb\\x07$\\x88\\x1d\\x90 v@\\x82\\xd8\\x01\\tb\\x07$\\x88\\x1d\\x90 v@\\x82\\xd8\\x01\\tb\\x07$\\x88\\x1d\\x90 v@\\x82\\xd8\\x01\\tb\\x07$\\x88\\x1d\\x90 v@\\x82\\xd8\\x01\\tb\\x07$\\x88\\x1d\\x90 v@\\x82\\xd8\\x01\\tb\\x07$\\x88\\x1d\\x90 v@\\xc2O\\x00\\x00\\x00\\xff\\xff\\x07\\xaa\\x1a\\x8e^Yy\\x0b\\x00\\x00\\x00\\x00IEND\\xaeB`\\x82'"
      ]
     },
     "execution_count": 13,
     "metadata": {},
     "output_type": "execute_result"
    }
   ],
   "source": [
    "image"
   ]
  },
  {
   "cell_type": "code",
   "execution_count": null,
   "metadata": {},
   "outputs": [],
   "source": [
    "# 설치\n",
    "%pip install bitstring"
   ]
  },
  {
   "cell_type": "code",
   "execution_count": 17,
   "metadata": {},
   "outputs": [
    {
     "data": {
      "text/plain": [
       "'10100100'"
      ]
     },
     "execution_count": 17,
     "metadata": {},
     "output_type": "execute_result"
    }
   ],
   "source": [
    "# 바이트 정보 확인\n",
    "from bitstring import BitArray\n",
    "input_str = '0xa4'\n",
    "c = BitArray(hex=input_str)\n",
    "c.bin"
   ]
  },
  {
   "cell_type": "code",
   "execution_count": 18,
   "metadata": {},
   "outputs": [
    {
     "name": "stdout",
     "output_type": "stream",
     "text": [
      "b'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'\n"
     ]
    }
   ],
   "source": [
    "# 인코딩\n",
    "with open(path, 'rb') as img:\n",
    "    data = img.read()\n",
    "    encoded = base64.b64encode(data)\n",
    "    print(encoded)"
   ]
  },
  {
   "cell_type": "code",
   "execution_count": 19,
   "metadata": {},
   "outputs": [
    {
     "data": {
      "text/plain": [
       "b'\\x89PNG\\r\\n\\x1a\\n\\x00\\x00\\x00\\rIHDR\\x00\\x00\\x01\\xa4\\x00\\x00\\x01\\xa4\\x08\\x02\\x00\\x00\\x00\\xf1.\\xc6b\\x00\\x00\\x05\\xc5IDATx\\x9c\\xec\\xd6a\\x8dj1\\x14F\\xd1\\xc7\\xcbu\\x80>$\\xa0\\x06\\t\\xe8#9\\x12\\xc6\\xc3\\x84\\xdb\\xc2\\xec\\xb5\\x0c\\xf4\\xfb\\xd1\\xec\\x9ccf\\xfe\\x01\\xfcu\\xffw\\x0f\\x00XA\\xec\\x80\\x04\\xb1\\x03\\x12\\xc4\\x0eH\\x10; A\\xec\\x80\\x04\\xb1\\x03\\x12\\xc4\\x0eH\\x10; A\\xec\\x80\\x04\\xb1\\x03\\x12\\xc4\\x0eH\\x10; A\\xec\\x80\\x04\\xb1\\x03\\x12\\xc4\\x0eH\\x10; A\\xec\\x80\\x04\\xb1\\x03\\x12\\xc4\\x0eH\\x10; A\\xec\\x80\\x04\\xb1\\x03\\x12\\xc4\\x0eH\\x10; A\\xec\\x80\\x04\\xb1\\x03\\x12\\xc4\\x0eH\\x10; A\\xec\\x80\\x04\\xb1\\x03\\x12\\xc4\\x0eH\\x10; A\\xec\\x80\\x84c\\xd9K\\x8f\\xd7s\\xd9[\\xc0\\x17\\xb9_o\\x0b^q\\xd9\\x01\\tb\\x07$\\x88\\x1d\\x90 v@\\x82\\xd8\\x01\\tb\\x07$\\x88\\x1d\\x90 v@\\x82\\xd8\\x01\\tb\\x07$\\x88\\x1d\\x90 v@\\x82\\xd8\\x01\\tb\\x07$\\x88\\x1d\\x90 v@\\x82\\xd8\\x01\\tb\\x07$\\x88\\x1d\\x90 v@\\x82\\xd8\\x01\\tb\\x07$\\x88\\x1d\\x90 v@\\x82\\xd8\\x01\\tb\\x07$\\x88\\x1d\\x90 v@\\x82\\xd8\\x01\\tb\\x07$\\x88\\x1d\\x90 v@\\x82\\xd8\\x01\\tb\\x07$\\x88\\x1d\\x90 v@\\x82\\xd8\\x01\\tb\\x07$\\x88\\x1d\\x90 v@\\x82\\xd8\\x01\\tb\\x07$\\x88\\x1d\\x90 v@\\x82\\xd8\\x01\\tb\\x07$\\x88\\x1d\\x90 v@\\x82\\xd8\\x01\\tb\\x07$\\x88\\x1d\\x90 v@\\x82\\xd8\\x01\\tb\\x07$\\x88\\x1d\\x90 v@\\x82\\xd8\\x01\\tb\\x07$\\x88\\x1d\\x90 v@\\x82\\xd8\\x01\\tb\\x07$\\x88\\x1d\\x90 v@\\x82\\xd8\\x01\\tb\\x07$\\x88\\x1d\\x90 v@\\x82\\xd8\\x01\\tb\\x07$\\\\ff\\xf7\\x06\\x80\\xd3\\xb9\\xec\\x80\\x04\\xb1\\x03\\x12\\xc4\\x0eH\\x10; A\\xec\\x80\\x04\\xb1\\x03\\x12\\xc4\\x0eH\\x10; A\\xec\\x80\\x04\\xb1\\x03\\x12\\xc4\\x0eH\\x10; A\\xec\\x80\\x04\\xb1\\x03\\x12\\xc4\\x0eH\\x10; A\\xec\\x80\\x04\\xb1\\x03\\x12\\xc4\\x0eH\\x10; A\\xec\\x80\\x04\\xb1\\x03\\x12\\xc4\\x0eH\\x10; A\\xec\\x80\\x04\\xb1\\x03\\x12\\xc4\\x0eH\\x10; A\\xec\\x80\\x04\\xb1\\x03\\x12\\xc4\\x0eH\\x10; A\\xec\\x80\\x04\\xb1\\x03\\x12\\xc4\\x0eH\\x10; A\\xec\\x80\\x04\\xb1\\x03\\x12\\xc4\\x0eH\\x10; A\\xec\\x80\\x04\\xb1\\x03\\x12\\xc4\\x0eH\\x10; A\\xec\\x80\\x04\\xb1\\x03\\x12\\xc4\\x0eH\\x10; A\\xec\\x80\\x04\\xb1\\x03\\x12\\xc4\\x0eH\\x10; A\\xec\\x80\\x04\\xb1\\x03\\x12\\xc4\\x0eH\\x10; A\\xec\\x80\\x04\\xb1\\x03\\x12\\xc4\\x0eH\\x10; A\\xec\\x80\\x04\\xb1\\x03\\x12\\xc4\\x0eH\\x10; A\\xec\\x80\\x04\\xb1\\x03\\x12\\xc4\\x0eH\\x10; \\xe1\\xd8=\\x80\\x0f\\xf2x=wOx\\xbf\\xfb\\xf5\\xb6{\\x02\\x1f\\xc1e\\x07$\\x88\\x1d\\x90 v@\\x82\\xd8\\x01\\tb\\x07$\\x88\\x1d\\x90 v@\\x82\\xd8\\x01\\tb\\x07$\\x88\\x1d\\x90 v@\\x82\\xd8\\x01\\tb\\x07$\\x88\\x1d\\x90 v@\\x82\\xd8\\x01\\tb\\x07$\\x88\\x1d\\x90 v@\\x82\\xd8\\x01\\tb\\x07$\\x88\\x1d\\x90 v@\\x82\\xd8\\x01\\tb\\x07$\\x88\\x1d\\x90 v@\\x82\\xd8\\x01\\tb\\x07$\\x88\\x1d\\x90 v@\\x82\\xd8\\x01\\tb\\x07$\\x88\\x1d\\x90 v@\\x82\\xd8\\x01\\tb\\x07$\\x88\\x1d\\x90 v@\\x82\\xd8\\x01\\tb\\x07$\\x88\\x1d\\x90 v@\\x82\\xd8\\x01\\tb\\x07$\\x88\\x1d\\x90 v@\\x82\\xd8\\x01\\tb\\x07$\\x88\\x1d\\x90 v@\\x82\\xd8\\x01\\tb\\x07$\\x88\\x1d\\x90 v@\\x82\\xd8\\x01\\tb\\x07$\\x88\\x1d\\x90 v@\\x82\\xd8\\x01\\tb\\x07$\\x88\\x1d\\x90 v@\\x82\\xd8\\x01\\tb\\x07$\\x88\\x1d\\x90 v@\\x82\\xd8\\x01\\tb\\x07$\\x88\\x1d\\x90p\\x99\\x99\\xdd\\x1b\\x00N\\xe7\\xb2\\x03\\x12\\xc4\\x0eH\\x10; A\\xec\\x80\\x04\\xb1\\x03\\x12\\xc4\\x0eH\\x10; A\\xec\\x80\\x04\\xb1\\x03\\x12\\xc4\\x0eH\\x10; A\\xec\\x80\\x04\\xb1\\x03\\x12\\xc4\\x0eH\\x10; A\\xec\\x80\\x04\\xb1\\x03\\x12\\xc4\\x0eH\\x10; A\\xec\\x80\\x04\\xb1\\x03\\x12\\xc4\\x0eH\\x10; A\\xec\\x80\\x04\\xb1\\x03\\x12\\xc4\\x0eH\\x10; A\\xec\\x80\\x04\\xb1\\x03\\x12\\xc4\\x0eH\\x10; A\\xec\\x80\\x04\\xb1\\x03\\x12\\xc4\\x0eH\\x10; A\\xec\\x80\\x04\\xb1\\x03\\x12\\xc4\\x0eH\\x10; A\\xec\\x80\\x04\\xb1\\x03\\x12\\xc4\\x0eH\\x10; A\\xec\\x80\\x04\\xb1\\x03\\x12\\xc4\\x0eH\\x10; A\\xec\\x80\\x04\\xb1\\x03\\x12\\xc4\\x0eH\\x10; A\\xec\\x80\\x04\\xb1\\x03\\x12\\xc4\\x0eH\\x10; A\\xec\\x80\\x04\\xb1\\x03\\x12\\xc4\\x0eH\\x10; A\\xec\\x80\\x04\\xb1\\x03\\x12\\xc4\\x0eH\\x10; A\\xec\\x80\\x04\\xb1\\x03\\x12\\xc4\\x0eH\\x10; A\\xec\\x80\\x84c\\xd9K\\x8f\\xd7s\\xd9[\\xfc\\xda\\xfdz\\xdb=\\xe1\\x9d\\xfc\\xba\\xaf\\xb0\\xe6\\xd7\\xb9\\xec\\x80\\x04\\xb1\\x03\\x12\\xc4\\x0eH\\x10; A\\xec\\x80\\x04\\xb1\\x03\\x12\\xc4\\x0eH\\x10; A\\xec\\x80\\x04\\xb1\\x03\\x12\\xc4\\x0eH\\x10; A\\xec\\x80\\x04\\xb1\\x03\\x12\\xc4\\x0eH\\x10; A\\xec\\x80\\x04\\xb1\\x03\\x12\\xc4\\x0eH\\x10; A\\xec\\x80\\x04\\xb1\\x03\\x12\\xc4\\x0eH\\x10; A\\xec\\x80\\x04\\xb1\\x03\\x12\\xc4\\x0eH\\x10; A\\xec\\x80\\x04\\xb1\\x03\\x12\\xc4\\x0eH\\x10; A\\xec\\x80\\x04\\xb1\\x03\\x12\\xc4\\x0eH\\x10; A\\xec\\x80\\x04\\xb1\\x03\\x12\\xc4\\x0eH\\x10; A\\xec\\x80\\x04\\xb1\\x03\\x12\\xc4\\x0eH\\x10; A\\xec\\x80\\x04\\xb1\\x03\\x12\\xc4\\x0eH\\x10; A\\xec\\x80\\x04\\xb1\\x03\\x12\\xc4\\x0eH\\x10; A\\xec\\x80\\x04\\xb1\\x03\\x12\\xc4\\x0eH\\x10; A\\xec\\x80\\x04\\xb1\\x03\\x12\\xc4\\x0eH\\x10; A\\xec\\x80\\x04\\xb1\\x03\\x12\\xc4\\x0eH\\x10; A\\xec\\x80\\x04\\xb1\\x03\\x12\\xc4\\x0eH\\x10; A\\xec\\x80\\x04\\xb1\\x03\\x12.3\\xb3{\\x03\\xc0\\xe9\\\\v@\\x82\\xd8\\x01\\tb\\x07$\\x88\\x1d\\x90 v@\\x82\\xd8\\x01\\tb\\x07$\\x88\\x1d\\x90 v@\\x82\\xd8\\x01\\tb\\x07$\\x88\\x1d\\x90 v@\\x82\\xd8\\x01\\tb\\x07$\\x88\\x1d\\x90 v@\\x82\\xd8\\x01\\tb\\x07$\\x88\\x1d\\x90 v@\\x82\\xd8\\x01\\tb\\x07$\\x88\\x1d\\x90 v@\\x82\\xd8\\x01\\tb\\x07$\\x88\\x1d\\x90 v@\\x82\\xd8\\x01\\tb\\x07$\\x88\\x1d\\x90 v@\\xc2O\\x00\\x00\\x00\\xff\\xff\\x07\\xaa\\x1a\\x8e^Yy\\x0b\\x00\\x00\\x00\\x00IEND\\xaeB`\\x82'"
      ]
     },
     "execution_count": 19,
     "metadata": {},
     "output_type": "execute_result"
    }
   ],
   "source": [
    "# 디코딩\n",
    "decoded = base64.decodebytes(encoded)\n",
    "decoded"
   ]
  },
  {
   "cell_type": "code",
   "execution_count": 20,
   "metadata": {},
   "outputs": [],
   "source": [
    "# 이미지 파일로 저장\n",
    "file = \"decoded.png\"\n",
    "\n",
    "## wb: write bytes\n",
    "with open(file, 'wb') as file:\n",
    "    file.write(decoded)"
   ]
  }
 ],
 "metadata": {
  "kernelspec": {
   "display_name": "base",
   "language": "python",
   "name": "python3"
  },
  "language_info": {
   "codemirror_mode": {
    "name": "ipython",
    "version": 3
   },
   "file_extension": ".py",
   "mimetype": "text/x-python",
   "name": "python",
   "nbconvert_exporter": "python",
   "pygments_lexer": "ipython3",
   "version": "3.11.7"
  }
 },
 "nbformat": 4,
 "nbformat_minor": 2
}
